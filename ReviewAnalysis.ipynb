{
 "cells": [
  {
   "cell_type": "markdown",
   "id": "82039966-2a39-4d38-be02-bd7edf8c4d78",
   "metadata": {},
   "source": [
    "## Анализ отзывов\n",
    "\n",
    "В рамках данного кейса предлагается с помощью ИИ и машинного обучения поизучать отзывы людей на железнодорожные вокзалы Москвы. В рамках кейса предоставляются отзывы пользователей с Яндекс-карт, но возможно дополнительно использовать доступные в Интернет данные. \n",
    "\n",
    "Что ожидается в качестве результата:\n",
    "* Инфографика, наглядно демонстрирующая полученные командой результаты\n",
    "* Доклад, представляющий эти результаты\n",
    "* Код в Jupyter Notebook с анализом данных\n",
    "\n",
    "В данном ноутбуке показывается, как получить доступ к датасету, и первые шаги по его обработке с помощью доступных открытых моделей с HuggingFace, и с помощью YandexGPT. Можно использовать данный ноутбук как оправную точку для выполнения задания, расширив его дополнительными идеями, например:\n",
    "* Кластеризация отзывов\n",
    "* Обучение своих моделей для классификации тематики отзывов\n",
    "* Использование предобученных NER-моделей\n",
    "* Подробный анализ отзывов с помощью LLM\n",
    "\n",
    "> В начале работы мы будем использовать модель с HuggingFace, поэтому работа будет быстрее, если вы будете запускать код на узле с поддержкой GPU\n",
    "\n",
    "### Получение датасета"
   ]
  },
  {
   "cell_type": "code",
   "execution_count": 1,
   "id": "ad19da35-bf4b-4c5b-b8dc-cca6e7cb3e9f",
   "metadata": {
    "execution": {
     "iopub.execute_input": "2024-05-22T07:52:38.785244Z",
     "iopub.status.busy": "2024-05-22T07:52:38.784171Z",
     "iopub.status.idle": "2024-05-22T07:52:38.930624Z",
     "shell.execute_reply": "2024-05-22T07:52:38.929789Z",
     "shell.execute_reply.started": "2024-05-22T07:52:38.785197Z"
    }
   },
   "outputs": [
    {
     "name": "stderr",
     "output_type": "stream",
     "text": [
      "--2024-05-22 07:52:38--  http://www.soshnikov.com/temp/data/rail_reviews.zip\n",
      "Resolving www.soshnikov.com (www.soshnikov.com)... 79.137.227.122\n",
      "Connecting to www.soshnikov.com (www.soshnikov.com)|79.137.227.122|:80... connected.\n",
      "HTTP request sent, awaiting response... 200 OK\n",
      "Length: 390394 (381K) [application/zip]\n",
      "Saving to: ‘rail_reviews.zip’\n",
      "\n",
      "     0K .......... .......... .......... .......... .......... 13% 2.72M 0s\n",
      "    50K .......... .......... .......... .......... .......... 26% 7.62M 0s\n",
      "   100K .......... .......... .......... .......... .......... 39% 5.74M 0s\n",
      "   150K .......... .......... .......... .......... .......... 52% 7.00M 0s\n",
      "   200K .......... .......... .......... .......... .......... 65% 6.65M 0s\n",
      "   250K .......... .......... .......... .......... .......... 78% 6.64M 0s\n",
      "   300K .......... .......... .......... .......... .......... 91% 6.01M 0s\n",
      "   350K .......... .......... .......... .                    100% 7.12M=0.07s\n",
      "\n",
      "2024-05-22 07:52:38 (5.56 MB/s) - ‘rail_reviews.zip’ saved [390394/390394]\n",
      "\n"
     ]
    }
   ],
   "source": [
    "!wget http://www.soshnikov.com/temp/data/rail_reviews.zip"
   ]
  },
  {
   "cell_type": "code",
   "execution_count": 2,
   "id": "06eec371-2a9d-404d-ad8a-4f57ad3b5e81",
   "metadata": {
    "execution": {
     "iopub.execute_input": "2024-05-22T07:52:51.048050Z",
     "iopub.status.busy": "2024-05-22T07:52:51.046947Z",
     "iopub.status.idle": "2024-05-22T07:52:51.115379Z",
     "shell.execute_reply": "2024-05-22T07:52:51.114486Z",
     "shell.execute_reply.started": "2024-05-22T07:52:51.048006Z"
    }
   },
   "outputs": [
    {
     "name": "stdout",
     "output_type": "stream",
     "text": [
      "Archive:  rail_reviews.zip\n",
      "  inflating: reviews_Belorussky_railway_station.json  \n",
      "  inflating: reviews_Kazan_Station.json  \n",
      "  inflating: reviews_Kursky_station.json  \n",
      "  inflating: reviews_Kyiv_railway_station.json  \n",
      "  inflating: reviews_Paveletsky_railway_station.json  \n",
      "  inflating: reviews_Rizhsky_railway_station.json  \n",
      "  inflating: reviews_Savyolovsky_station.json  \n",
      "  inflating: reviews_Vostochny_station.json  \n"
     ]
    }
   ],
   "source": [
    "!unzip *.zip"
   ]
  },
  {
   "cell_type": "markdown",
   "id": "467216d2-57d3-4878-ae89-4e4b9c722456",
   "metadata": {},
   "source": [
    "### Преобразуем данные в DataFrame\n",
    "\n",
    "Как видите, каждый вокзал представлен своим набором отзывов следующего вида:"
   ]
  },
  {
   "cell_type": "code",
   "execution_count": 2,
   "id": "962a0497-f450-4e2e-afe4-72541e451a8d",
   "metadata": {
    "execution": {
     "iopub.execute_input": "2024-05-22T15:30:03.184621Z",
     "iopub.status.busy": "2024-05-22T15:30:03.183408Z",
     "iopub.status.idle": "2024-05-22T15:30:03.239582Z",
     "shell.execute_reply": "2024-05-22T15:30:03.238501Z",
     "shell.execute_reply.started": "2024-05-22T15:30:03.184573Z"
    },
    "tags": []
   },
   "outputs": [
    {
     "data": {
      "text/plain": [
       "{'id': 1251,\n",
       " 'dislike': 1,\n",
       " 'like': 10,\n",
       " 'review_text': 'Очень красивое место, вежливый персонал.\\nЕздила на поезде из Москвы в Беларусь, комфортно, белье чистое, тепло, можно с животными. Дают горячий чай прям в постель, можно даже не переутруждаться, там о вВс и вашем комфорте позаботиться квалифицированные сотрудники.',\n",
       " 'author': 'Александра Подгайская',\n",
       " 'review_rating': 5,\n",
       " 'datetime': '2024-01-12T16:53:33.611Z'}"
      ]
     },
     "execution_count": 2,
     "metadata": {},
     "output_type": "execute_result"
    }
   ],
   "source": [
    "import json\n",
    "j = json.load(open('reviews_Belorussky_railway_station.json'))\n",
    "j[0]"
   ]
  },
  {
   "cell_type": "markdown",
   "id": "3d39bdcb-8c47-45c2-a1f1-ebbb3a7f2422",
   "metadata": {},
   "source": [
    "Для удобства, сведём все отзывы в одну табличку. Для этого нам нужно будет добавить в каждое JSON-описание отзыва название вокзала."
   ]
  },
  {
   "cell_type": "code",
   "execution_count": 6,
   "id": "85551dae-f937-40c3-ae6d-e63718943e26",
   "metadata": {
    "execution": {
     "iopub.execute_input": "2024-05-22T20:02:56.402928Z",
     "iopub.status.busy": "2024-05-22T20:02:56.401967Z",
     "iopub.status.idle": "2024-05-22T20:02:56.488626Z",
     "shell.execute_reply": "2024-05-22T20:02:56.487711Z",
     "shell.execute_reply.started": "2024-05-22T20:02:56.402889Z"
    },
    "tags": []
   },
   "outputs": [
    {
     "data": {
      "text/html": [
       "<div>\n",
       "<style scoped>\n",
       "    .dataframe tbody tr th:only-of-type {\n",
       "        vertical-align: middle;\n",
       "    }\n",
       "\n",
       "    .dataframe tbody tr th {\n",
       "        vertical-align: top;\n",
       "    }\n",
       "\n",
       "    .dataframe thead th {\n",
       "        text-align: right;\n",
       "    }\n",
       "</style>\n",
       "<table border=\"1\" class=\"dataframe\">\n",
       "  <thead>\n",
       "    <tr style=\"text-align: right;\">\n",
       "      <th></th>\n",
       "      <th>id</th>\n",
       "      <th>dislike</th>\n",
       "      <th>like</th>\n",
       "      <th>review_text</th>\n",
       "      <th>author</th>\n",
       "      <th>review_rating</th>\n",
       "      <th>datetime</th>\n",
       "      <th>station</th>\n",
       "    </tr>\n",
       "  </thead>\n",
       "  <tbody>\n",
       "    <tr>\n",
       "      <th>0</th>\n",
       "      <td>1251</td>\n",
       "      <td>1</td>\n",
       "      <td>10</td>\n",
       "      <td>Очень красивое место, вежливый персонал.\\nЕзди...</td>\n",
       "      <td>Александра Подгайская</td>\n",
       "      <td>5</td>\n",
       "      <td>2024-01-12T16:53:33.611Z</td>\n",
       "      <td>Belorussky</td>\n",
       "    </tr>\n",
       "    <tr>\n",
       "      <th>1</th>\n",
       "      <td>1252</td>\n",
       "      <td>0</td>\n",
       "      <td>5</td>\n",
       "      <td>Расположен очень удобное, строятся новые пути ...</td>\n",
       "      <td>Пользователь Э.</td>\n",
       "      <td>5</td>\n",
       "      <td>2023-11-10T21:33:56.176Z</td>\n",
       "      <td>Belorussky</td>\n",
       "    </tr>\n",
       "    <tr>\n",
       "      <th>2</th>\n",
       "      <td>1253</td>\n",
       "      <td>2</td>\n",
       "      <td>7</td>\n",
       "      <td>Очень уютный и удобный вокзал. Мне он очень нр...</td>\n",
       "      <td>Н И</td>\n",
       "      <td>5</td>\n",
       "      <td>2023-08-25T14:27:29.327Z</td>\n",
       "      <td>Belorussky</td>\n",
       "    </tr>\n",
       "    <tr>\n",
       "      <th>3</th>\n",
       "      <td>1254</td>\n",
       "      <td>1</td>\n",
       "      <td>5</td>\n",
       "      <td>Красивое здание , очень удобно расположено в т...</td>\n",
       "      <td>Liliya Zugrova</td>\n",
       "      <td>5</td>\n",
       "      <td>2023-11-27T11:50:16.388Z</td>\n",
       "      <td>Belorussky</td>\n",
       "    </tr>\n",
       "    <tr>\n",
       "      <th>4</th>\n",
       "      <td>1255</td>\n",
       "      <td>2</td>\n",
       "      <td>7</td>\n",
       "      <td>С появление новых веток и маршрутов все стало ...</td>\n",
       "      <td>Татьяна Цымлова</td>\n",
       "      <td>5</td>\n",
       "      <td>2023-11-25T06:43:16.558Z</td>\n",
       "      <td>Belorussky</td>\n",
       "    </tr>\n",
       "    <tr>\n",
       "      <th>...</th>\n",
       "      <td>...</td>\n",
       "      <td>...</td>\n",
       "      <td>...</td>\n",
       "      <td>...</td>\n",
       "      <td>...</td>\n",
       "      <td>...</td>\n",
       "      <td>...</td>\n",
       "      <td>...</td>\n",
       "    </tr>\n",
       "    <tr>\n",
       "      <th>2264</th>\n",
       "      <td>2266</td>\n",
       "      <td>0</td>\n",
       "      <td>1</td>\n",
       "      <td>Отличный вокзал. Новый, современный, прям из в...</td>\n",
       "      <td>Анна Елагина</td>\n",
       "      <td>5</td>\n",
       "      <td>2024-02-02T04:55:15.074Z</td>\n",
       "      <td>Vostochny</td>\n",
       "    </tr>\n",
       "    <tr>\n",
       "      <th>2265</th>\n",
       "      <td>2267</td>\n",
       "      <td>1</td>\n",
       "      <td>0</td>\n",
       "      <td>Бывал недавно там )) очень вкусная кухня \\nКла...</td>\n",
       "      <td>Дмитрий</td>\n",
       "      <td>5</td>\n",
       "      <td>2023-11-12T14:21:47.541Z</td>\n",
       "      <td>Vostochny</td>\n",
       "    </tr>\n",
       "    <tr>\n",
       "      <th>2266</th>\n",
       "      <td>2268</td>\n",
       "      <td>0</td>\n",
       "      <td>0</td>\n",
       "      <td>Отличный и красивый вокзал. Чистые туалеты и б...</td>\n",
       "      <td>Валентина Архимановна</td>\n",
       "      <td>5</td>\n",
       "      <td>2024-01-31T10:53:36.364Z</td>\n",
       "      <td>Vostochny</td>\n",
       "    </tr>\n",
       "    <tr>\n",
       "      <th>2267</th>\n",
       "      <td>2269</td>\n",
       "      <td>3</td>\n",
       "      <td>10</td>\n",
       "      <td>Это не вокзал , а скорее узловая станция или п...</td>\n",
       "      <td>Владислав Баранов</td>\n",
       "      <td>2</td>\n",
       "      <td>2023-12-06T12:03:14.107Z</td>\n",
       "      <td>Vostochny</td>\n",
       "    </tr>\n",
       "    <tr>\n",
       "      <th>2268</th>\n",
       "      <td>2270</td>\n",
       "      <td>0</td>\n",
       "      <td>3</td>\n",
       "      <td>Очень приятный новый вокзал! Разобраться сложн...</td>\n",
       "      <td>Наталья Байбакова</td>\n",
       "      <td>5</td>\n",
       "      <td>2023-12-24T13:10:29.484Z</td>\n",
       "      <td>Vostochny</td>\n",
       "    </tr>\n",
       "  </tbody>\n",
       "</table>\n",
       "<p>2269 rows × 8 columns</p>\n",
       "</div>"
      ],
      "text/plain": [
       "        id  dislike  like  ... review_rating                  datetime     station\n",
       "0     1251        1    10  ...             5  2024-01-12T16:53:33.611Z  Belorussky\n",
       "1     1252        0     5  ...             5  2023-11-10T21:33:56.176Z  Belorussky\n",
       "2     1253        2     7  ...             5  2023-08-25T14:27:29.327Z  Belorussky\n",
       "3     1254        1     5  ...             5  2023-11-27T11:50:16.388Z  Belorussky\n",
       "4     1255        2     7  ...             5  2023-11-25T06:43:16.558Z  Belorussky\n",
       "...    ...      ...   ...  ...           ...                       ...         ...\n",
       "2264  2266        0     1  ...             5  2024-02-02T04:55:15.074Z   Vostochny\n",
       "2265  2267        1     0  ...             5  2023-11-12T14:21:47.541Z   Vostochny\n",
       "2266  2268        0     0  ...             5  2024-01-31T10:53:36.364Z   Vostochny\n",
       "2267  2269        3    10  ...             2  2023-12-06T12:03:14.107Z   Vostochny\n",
       "2268  2270        0     3  ...             5  2023-12-24T13:10:29.484Z   Vostochny\n",
       "\n",
       "[2269 rows x 8 columns]"
      ]
     },
     "execution_count": 6,
     "metadata": {},
     "output_type": "execute_result"
    }
   ],
   "source": [
    "import pandas as pd\n",
    "import os\n",
    "from glob import glob\n",
    "\n",
    "res = []\n",
    "for fn in glob('*.json'):\n",
    "    j = json.load(open(fn))\n",
    "    for x in j:\n",
    "        x['station'] = fn.split('_')[1]\n",
    "    res.extend(j)\n",
    "    \n",
    "df = pd.DataFrame(res)\n",
    "df"
   ]
  },
  {
   "cell_type": "markdown",
   "id": "10c02d14-db41-4644-b8ac-58f21d7a78f4",
   "metadata": {},
   "source": [
    "Посмотрим на количество отзывов по вокзалам:"
   ]
  },
  {
   "cell_type": "code",
   "execution_count": 4,
   "id": "6cb3889e-c454-4493-bec0-e7a8820e0ea2",
   "metadata": {
    "execution": {
     "iopub.execute_input": "2024-05-22T15:30:09.709585Z",
     "iopub.status.busy": "2024-05-22T15:30:09.708316Z",
     "iopub.status.idle": "2024-05-22T15:30:10.041018Z",
     "shell.execute_reply": "2024-05-22T15:30:10.039903Z",
     "shell.execute_reply.started": "2024-05-22T15:30:09.709525Z"
    },
    "tags": []
   },
   "outputs": [
    {
     "data": {
      "text/plain": [
       "<Axes: xlabel='station'>"
      ]
     },
     "execution_count": 4,
     "metadata": {},
     "output_type": "execute_result"
    },
    {
     "data": {
      "image/png": "[encoded data removed]",
      "text/plain": [
       "<Figure size 640x480 with 1 Axes>"
      ]
     },
     "metadata": {},
     "output_type": "display_data"
    }
   ],
   "source": [
    "df.groupby('station')['review_text'].count().plot.bar()"
   ]
  },
  {
   "cell_type": "markdown",
   "id": "a4439dc0-1991-4daa-89ca-5b855850d636",
   "metadata": {},
   "source": [
    "### Обогащение данных с помощью модели с HuggingFace\n",
    "\n",
    "Для обогащения данных можно использовать различные нейросетевые модели. Для начала, попробуем определить тональность текста."
   ]
  },
  {
   "cell_type": "markdown",
   "id": "441d1ab7-65ba-46da-85e1-1fd99bc30763",
   "metadata": {},
   "source": [
    "Попробуем использовать модель [blanchefort/rubert-base-cased-sentiment-rurewiews](https://huggingface.co/blanchefort/rubert-base-cased-sentiment-rurewiews) с HuggingFace, натренированную на отзывах, с длиной 512 токенов. По умолчанию код из карточки модели выдает следующие классы:\n",
    "* 0: NEUTRAL\n",
    "* 1: POSITIVE\n",
    "* 2: NEGATIVE\n",
    "\n",
    "> Код не учитывает возможность работы на GPU, поэтому придётся внести в код несколько исправлений, чтобы можно было быстрее выполнять код на GPU."
   ]
  },
  {
   "cell_type": "code",
   "execution_count": 7,
   "id": "8b435ee6-afe1-4028-90f6-76715a3a4d68",
   "metadata": {
    "execution": {
     "iopub.execute_input": "2024-05-22T20:03:14.487429Z",
     "iopub.status.busy": "2024-05-22T20:03:14.486224Z",
     "iopub.status.idle": "2024-05-22T20:03:28.248954Z",
     "shell.execute_reply": "2024-05-22T20:03:28.248155Z",
     "shell.execute_reply.started": "2024-05-22T20:03:14.487386Z"
    },
    "tags": []
   },
   "outputs": [
    {
     "name": "stderr",
     "output_type": "stream",
     "text": [
      "/home/jupyter/.local/lib/python3.10/site-packages/transformers/utils/hub.py:124: FutureWarning: Using `TRANSFORMERS_CACHE` is deprecated and will be removed in v5 of Transformers. Use `HF_HOME` instead.\n",
      "  warnings.warn(\n"
     ]
    }
   ],
   "source": [
    "import torch\n",
    "from transformers import AutoModelForSequenceClassification\n",
    "from transformers import BertTokenizerFast\n",
    "\n",
    "device = \"cuda\" if torch.cuda.is_available() else \"cpu\"\n",
    "\n",
    "tokenizer = BertTokenizerFast.from_pretrained('blanchefort/rubert-base-cased-sentiment-rurewiews')\n",
    "model = AutoModelForSequenceClassification.from_pretrained('blanchefort/rubert-base-cased-sentiment-rurewiews', return_dict=True)\n",
    "model.to(device)\n",
    "\n",
    "@torch.no_grad()\n",
    "def predict(text):\n",
    "    inputs = tokenizer(text, max_length=512, padding=True, truncation=True, return_tensors='pt')\n",
    "    inputs = inputs.to(device)\n",
    "    outputs = model(**inputs)\n",
    "    predicted = torch.nn.functional.softmax(outputs.logits, dim=1)\n",
    "    predicted = torch.argmax(predicted, dim=1).cpu().numpy()\n",
    "    return predicted\n"
   ]
  },
  {
   "cell_type": "markdown",
   "id": "4fe1bac1-d605-4297-b491-6ab88cd51bca",
   "metadata": {},
   "source": [
    "Проверим, работает ли эта функция:"
   ]
  },
  {
   "cell_type": "code",
   "execution_count": 8,
   "id": "99b31f76-9f0e-4a2d-a586-e7fd60dbb59d",
   "metadata": {
    "execution": {
     "iopub.execute_input": "2024-05-22T20:03:28.250987Z",
     "iopub.status.busy": "2024-05-22T20:03:28.250325Z",
     "iopub.status.idle": "2024-05-22T20:03:28.681027Z",
     "shell.execute_reply": "2024-05-22T20:03:28.680064Z",
     "shell.execute_reply.started": "2024-05-22T20:03:28.250946Z"
    },
    "tags": []
   },
   "outputs": [
    {
     "data": {
      "text/plain": [
       "array([0, 1, 2])"
      ]
     },
     "execution_count": 8,
     "metadata": {},
     "output_type": "execute_result"
    }
   ],
   "source": [
    "predict([\n",
    "    'Ничего так вокзал, обычный...',\n",
    "    'Обожаю этот вокзал, там такие симпатичные бомжи!',\n",
    "    'Ненавижу это вокзал, поезда всегда опаздывают минимум на 20 минут'])"
   ]
  },
  {
   "cell_type": "markdown",
   "id": "6ef441e4-151e-4f75-b723-38c6f323c0e9",
   "metadata": {},
   "source": [
    "Чтобы применить модель ко всему датасету, разобьем его на небольшие части, примерное по 200 отзывов, и предскажем тональность каждой из этих частей."
   ]
  },
  {
   "cell_type": "code",
   "execution_count": 9,
   "id": "f9179709-020e-44df-8f00-2adf00366a62",
   "metadata": {
    "execution": {
     "iopub.execute_input": "2024-05-22T20:03:31.425529Z",
     "iopub.status.busy": "2024-05-22T20:03:31.424280Z",
     "iopub.status.idle": "2024-05-22T20:18:54.942153Z",
     "shell.execute_reply": "2024-05-22T20:18:54.941326Z",
     "shell.execute_reply.started": "2024-05-22T20:03:31.425482Z"
    },
    "tags": []
   },
   "outputs": [
    {
     "name": "stderr",
     "output_type": "stream",
     "text": [
      "100%|██████████| 10/10 [15:23<00:00, 92.35s/it] \n"
     ]
    }
   ],
   "source": [
    "from tqdm.auto import tqdm\n",
    "import numpy as np \n",
    "\n",
    "res = []\n",
    "for d in tqdm(np.array_split(df,10)):\n",
    "    z = list(d['review_text'])\n",
    "    p = predict(z)\n",
    "    res.extend(p)"
   ]
  },
  {
   "cell_type": "markdown",
   "id": "22c69be8-8473-4a49-be99-cf4c5151e85c",
   "metadata": {},
   "source": [
    "Для удобства вставим колонку `sentiment` в датасет, но при этом изменим кодирование: будем представлять негативный отзыв цифрой -1."
   ]
  },
  {
   "cell_type": "code",
   "execution_count": 10,
   "id": "47ae1ba9-9425-46d7-88d6-822fcd3027b9",
   "metadata": {
    "execution": {
     "iopub.execute_input": "2024-05-22T20:19:32.617031Z",
     "iopub.status.busy": "2024-05-22T20:19:32.616059Z",
     "iopub.status.idle": "2024-05-22T20:19:32.644731Z",
     "shell.execute_reply": "2024-05-22T20:19:32.643779Z",
     "shell.execute_reply.started": "2024-05-22T20:19:32.616989Z"
    },
    "tags": []
   },
   "outputs": [],
   "source": [
    "df['sentiment'] = pd.Series(res).apply(lambda x: -1 if x==2 else x)"
   ]
  },
  {
   "cell_type": "markdown",
   "id": "a397f302-a542-462b-b70d-06145245b8f7",
   "metadata": {},
   "source": [
    "Запишем получившийся датасет на диск:"
   ]
  },
  {
   "cell_type": "code",
   "execution_count": 11,
   "id": "1a0afc80-12d2-4a5b-8084-4dfceac173bf",
   "metadata": {
    "execution": {
     "iopub.execute_input": "2024-05-22T20:19:34.702180Z",
     "iopub.status.busy": "2024-05-22T20:19:34.701079Z",
     "iopub.status.idle": "2024-05-22T20:19:34.751943Z",
     "shell.execute_reply": "2024-05-22T20:19:34.751201Z",
     "shell.execute_reply.started": "2024-05-22T20:19:34.702135Z"
    }
   },
   "outputs": [],
   "source": [
    "df.to_csv('dataset_with_sentiment.csv',index=False)"
   ]
  },
  {
   "cell_type": "markdown",
   "id": "1a8603eb-ab42-4c7e-81c9-5256894727f0",
   "metadata": {},
   "source": [
    "Теперь можем посмотреть, какие вокзалы самые негативные или позитивные в Москве:"
   ]
  },
  {
   "cell_type": "code",
   "execution_count": 12,
   "id": "e1afca3f-3b69-4d84-961f-95949e3a279b",
   "metadata": {
    "execution": {
     "iopub.execute_input": "2024-05-22T20:19:39.381172Z",
     "iopub.status.busy": "2024-05-22T20:19:39.380153Z",
     "iopub.status.idle": "2024-05-22T20:19:39.413376Z",
     "shell.execute_reply": "2024-05-22T20:19:39.412648Z",
     "shell.execute_reply.started": "2024-05-22T20:19:39.381128Z"
    },
    "tags": []
   },
   "outputs": [
    {
     "data": {
      "text/html": [
       "<div>\n",
       "<style scoped>\n",
       "    .dataframe tbody tr th:only-of-type {\n",
       "        vertical-align: middle;\n",
       "    }\n",
       "\n",
       "    .dataframe tbody tr th {\n",
       "        vertical-align: top;\n",
       "    }\n",
       "\n",
       "    .dataframe thead tr th {\n",
       "        text-align: left;\n",
       "    }\n",
       "\n",
       "    .dataframe thead tr:last-of-type th {\n",
       "        text-align: right;\n",
       "    }\n",
       "</style>\n",
       "<table border=\"1\" class=\"dataframe\">\n",
       "  <thead>\n",
       "    <tr>\n",
       "      <th></th>\n",
       "      <th colspan=\"3\" halign=\"left\">sentiment</th>\n",
       "      <th>review_text</th>\n",
       "    </tr>\n",
       "    <tr>\n",
       "      <th></th>\n",
       "      <th>mean</th>\n",
       "      <th>count_pos</th>\n",
       "      <th>count_neg</th>\n",
       "      <th>count</th>\n",
       "    </tr>\n",
       "    <tr>\n",
       "      <th>station</th>\n",
       "      <th></th>\n",
       "      <th></th>\n",
       "      <th></th>\n",
       "      <th></th>\n",
       "    </tr>\n",
       "  </thead>\n",
       "  <tbody>\n",
       "    <tr>\n",
       "      <th>Belorussky</th>\n",
       "      <td>0.680000</td>\n",
       "      <td>36</td>\n",
       "      <td>2</td>\n",
       "      <td>50</td>\n",
       "    </tr>\n",
       "    <tr>\n",
       "      <th>Kazan</th>\n",
       "      <td>0.647619</td>\n",
       "      <td>143</td>\n",
       "      <td>7</td>\n",
       "      <td>210</td>\n",
       "    </tr>\n",
       "    <tr>\n",
       "      <th>Kursky</th>\n",
       "      <td>0.395000</td>\n",
       "      <td>277</td>\n",
       "      <td>40</td>\n",
       "      <td>600</td>\n",
       "    </tr>\n",
       "    <tr>\n",
       "      <th>Kyiv</th>\n",
       "      <td>0.599332</td>\n",
       "      <td>385</td>\n",
       "      <td>26</td>\n",
       "      <td>599</td>\n",
       "    </tr>\n",
       "    <tr>\n",
       "      <th>Paveletsky</th>\n",
       "      <td>0.540000</td>\n",
       "      <td>27</td>\n",
       "      <td>0</td>\n",
       "      <td>50</td>\n",
       "    </tr>\n",
       "    <tr>\n",
       "      <th>Rizhsky</th>\n",
       "      <td>0.560000</td>\n",
       "      <td>374</td>\n",
       "      <td>38</td>\n",
       "      <td>600</td>\n",
       "    </tr>\n",
       "    <tr>\n",
       "      <th>Savyolovsky</th>\n",
       "      <td>0.480000</td>\n",
       "      <td>29</td>\n",
       "      <td>5</td>\n",
       "      <td>50</td>\n",
       "    </tr>\n",
       "    <tr>\n",
       "      <th>Vostochny</th>\n",
       "      <td>0.618182</td>\n",
       "      <td>71</td>\n",
       "      <td>3</td>\n",
       "      <td>110</td>\n",
       "    </tr>\n",
       "  </tbody>\n",
       "</table>\n",
       "</div>"
      ],
      "text/plain": [
       "            sentiment                     review_text\n",
       "                 mean count_pos count_neg       count\n",
       "station                                              \n",
       "Belorussky   0.680000        36         2          50\n",
       "Kazan        0.647619       143         7         210\n",
       "Kursky       0.395000       277        40         600\n",
       "Kyiv         0.599332       385        26         599\n",
       "Paveletsky   0.540000        27         0          50\n",
       "Rizhsky      0.560000       374        38         600\n",
       "Savyolovsky  0.480000        29         5          50\n",
       "Vostochny    0.618182        71         3         110"
      ]
     },
     "execution_count": 12,
     "metadata": {},
     "output_type": "execute_result"
    }
   ],
   "source": [
    "def count_pos(x):\n",
    "    return x[x==1].count()\n",
    "def count_neg(x):\n",
    "    return x[x==-1].count()\n",
    "\n",
    "\n",
    "df.groupby('station').agg({'sentiment' : ['mean', count_pos, count_neg ], 'review_text': 'count'})"
   ]
  },
  {
   "cell_type": "markdown",
   "id": "8cef2b36-944e-43d6-beca-4bf805729343",
   "metadata": {},
   "source": [
    "В этом месте вы можете остановить виртуальную машину с GPU и перейти на более дешевый вариант **c1.4**"
   ]
  },
  {
   "cell_type": "markdown",
   "id": "59a5ab99-6c07-4434-a75c-9eb64b548d7d",
   "metadata": {
    "tags": []
   },
   "source": [
    "### Используем YandexGPT для извлечения смысла из отзывов\n",
    "\n",
    "Попробуем использовать больщую языковую модель для извлечения структурированной информации из текстов отзывов. Для этого нам будет удобно использовать библиотеку [yandex_chain](https://github.com/yandex-datasphere/yandex-chain)."
   ]
  },
  {
   "cell_type": "code",
   "execution_count": 2,
   "id": "fe54ba5e-de9c-46f5-b7bd-cebf26d972bb",
   "metadata": {
    "execution": {
     "iopub.execute_input": "2024-05-22T15:36:31.796160Z",
     "iopub.status.busy": "2024-05-22T15:36:31.795183Z",
     "iopub.status.idle": "2024-05-22T15:36:36.803685Z",
     "shell.execute_reply": "2024-05-22T15:36:36.802872Z",
     "shell.execute_reply.started": "2024-05-22T15:36:31.796113Z"
    },
    "tags": []
   },
   "outputs": [
    {
     "name": "stdout",
     "output_type": "stream",
     "text": [
      "Defaulting to user installation because normal site-packages is not writeable\n",
      "Collecting yandex_chain\n",
      "  Using cached yandex_chain-0.0.7-py3-none-any.whl\n",
      "Requirement already satisfied: requests in /usr/local/lib/python3.10/dist-packages (from yandex_chain) (2.27.1)\n",
      "Requirement already satisfied: langchain==0.1.0 in /home/jupyter/.local/lib/python3.10/site-packages (from yandex_chain) (0.1.0)\n",
      "Requirement already satisfied: tenacity in /usr/local/lib/python3.10/dist-packages (from yandex_chain) (8.2.2)\n",
      "Requirement already satisfied: PyYAML>=5.3 in /usr/local/lib/python3.10/dist-packages (from langchain==0.1.0->yandex_chain) (6.0.1)\n",
      "Requirement already satisfied: SQLAlchemy<3,>=1.4 in /usr/local/lib/python3.10/dist-packages (from langchain==0.1.0->yandex_chain) (2.0.19)\n",
      "Requirement already satisfied: aiohttp<4.0.0,>=3.8.3 in /usr/local/lib/python3.10/dist-packages (from langchain==0.1.0->yandex_chain) (3.8.5)\n",
      "Requirement already satisfied: async-timeout<5.0.0,>=4.0.0 in /usr/local/lib/python3.10/dist-packages (from langchain==0.1.0->yandex_chain) (4.0.2)\n",
      "Requirement already satisfied: dataclasses-json<0.7,>=0.5.7 in /home/jupyter/.local/lib/python3.10/site-packages (from langchain==0.1.0->yandex_chain) (0.6.6)\n",
      "Requirement already satisfied: jsonpatch<2.0,>=1.33 in /home/jupyter/.local/lib/python3.10/site-packages (from langchain==0.1.0->yandex_chain) (1.33)\n",
      "Requirement already satisfied: langchain-community<0.1,>=0.0.9 in /home/jupyter/.local/lib/python3.10/site-packages (from langchain==0.1.0->yandex_chain) (0.0.20)\n",
      "Requirement already satisfied: langchain-core<0.2,>=0.1.7 in /home/jupyter/.local/lib/python3.10/site-packages (from langchain==0.1.0->yandex_chain) (0.1.23)\n",
      "Requirement already satisfied: langsmith<0.1.0,>=0.0.77 in /home/jupyter/.local/lib/python3.10/site-packages (from langchain==0.1.0->yandex_chain) (0.0.87)\n",
      "Requirement already satisfied: numpy<2,>=1 in /usr/local/lib/python3.10/dist-packages (from langchain==0.1.0->yandex_chain) (1.22.4)\n",
      "Requirement already satisfied: pydantic<3,>=1 in /usr/local/lib/python3.10/dist-packages (from langchain==0.1.0->yandex_chain) (1.10.12)\n",
      "Requirement already satisfied: urllib3<1.27,>=1.21.1 in /usr/local/lib/python3.10/dist-packages (from requests->yandex_chain) (1.26.16)\n",
      "Requirement already satisfied: certifi>=2017.4.17 in /usr/local/lib/python3.10/dist-packages (from requests->yandex_chain) (2023.7.22)\n",
      "Requirement already satisfied: charset-normalizer~=2.0.0 in /home/jupyter/.local/lib/python3.10/site-packages (from requests->yandex_chain) (2.0.12)\n",
      "Requirement already satisfied: idna<4,>=2.5 in /usr/local/lib/python3.10/dist-packages (from requests->yandex_chain) (3.4)\n",
      "Requirement already satisfied: attrs>=17.3.0 in /usr/local/lib/python3.10/dist-packages (from aiohttp<4.0.0,>=3.8.3->langchain==0.1.0->yandex_chain) (23.1.0)\n",
      "Requirement already satisfied: multidict<7.0,>=4.5 in /usr/local/lib/python3.10/dist-packages (from aiohttp<4.0.0,>=3.8.3->langchain==0.1.0->yandex_chain) (6.0.4)\n",
      "Requirement already satisfied: yarl<2.0,>=1.0 in /usr/local/lib/python3.10/dist-packages (from aiohttp<4.0.0,>=3.8.3->langchain==0.1.0->yandex_chain) (1.9.2)\n",
      "Requirement already satisfied: frozenlist>=1.1.1 in /usr/local/lib/python3.10/dist-packages (from aiohttp<4.0.0,>=3.8.3->langchain==0.1.0->yandex_chain) (1.4.0)\n",
      "Requirement already satisfied: aiosignal>=1.1.2 in /usr/local/lib/python3.10/dist-packages (from aiohttp<4.0.0,>=3.8.3->langchain==0.1.0->yandex_chain) (1.3.1)\n",
      "Requirement already satisfied: marshmallow<4.0.0,>=3.18.0 in /home/jupyter/.local/lib/python3.10/site-packages (from dataclasses-json<0.7,>=0.5.7->langchain==0.1.0->yandex_chain) (3.21.2)\n",
      "Requirement already satisfied: typing-inspect<1,>=0.4.0 in /home/jupyter/.local/lib/python3.10/site-packages (from dataclasses-json<0.7,>=0.5.7->langchain==0.1.0->yandex_chain) (0.9.0)\n",
      "Requirement already satisfied: jsonpointer>=1.9 in /home/jupyter/.local/lib/python3.10/site-packages (from jsonpatch<2.0,>=1.33->langchain==0.1.0->yandex_chain) (2.4)\n",
      "Requirement already satisfied: anyio<5,>=3 in /usr/local/lib/python3.10/dist-packages (from langchain-core<0.2,>=0.1.7->langchain==0.1.0->yandex_chain) (3.7.1)\n",
      "Requirement already satisfied: packaging<24.0,>=23.2 in /home/jupyter/.local/lib/python3.10/site-packages (from langchain-core<0.2,>=0.1.7->langchain==0.1.0->yandex_chain) (23.2)\n",
      "Requirement already satisfied: typing-extensions>=4.2.0 in /usr/local/lib/python3.10/dist-packages (from pydantic<3,>=1->langchain==0.1.0->yandex_chain) (4.7.1)\n",
      "Requirement already satisfied: greenlet!=0.4.17 in /usr/local/lib/python3.10/dist-packages (from SQLAlchemy<3,>=1.4->langchain==0.1.0->yandex_chain) (2.0.2)\n",
      "Requirement already satisfied: sniffio>=1.1 in /usr/local/lib/python3.10/dist-packages (from anyio<5,>=3->langchain-core<0.2,>=0.1.7->langchain==0.1.0->yandex_chain) (1.3.0)\n",
      "Requirement already satisfied: exceptiongroup in /usr/local/lib/python3.10/dist-packages (from anyio<5,>=3->langchain-core<0.2,>=0.1.7->langchain==0.1.0->yandex_chain) (1.1.2)\n",
      "Requirement already satisfied: mypy-extensions>=0.3.0 in /home/jupyter/.local/lib/python3.10/site-packages (from typing-inspect<1,>=0.4.0->dataclasses-json<0.7,>=0.5.7->langchain==0.1.0->yandex_chain) (1.0.0)\n",
      "Installing collected packages: yandex_chain\n",
      "Successfully installed yandex_chain-0.0.7\n",
      "\n",
      "\u001b[1m[\u001b[0m\u001b[34;49mnotice\u001b[0m\u001b[1;39;49m]\u001b[0m\u001b[39;49m A new release of pip is available: \u001b[0m\u001b[31;49m23.0.1\u001b[0m\u001b[39;49m -> \u001b[0m\u001b[32;49m24.0\u001b[0m\n",
      "\u001b[1m[\u001b[0m\u001b[34;49mnotice\u001b[0m\u001b[1;39;49m]\u001b[0m\u001b[39;49m To update, run: \u001b[0m\u001b[32;49mpython3 -m pip install --upgrade pip\u001b[0m\n"
     ]
    }
   ],
   "source": [
    "%pip install yandex_chain"
   ]
  },
  {
   "cell_type": "markdown",
   "id": "40da2938-14d2-4274-b61e-46e4a316714b",
   "metadata": {},
   "source": [
    "Для работы с YandexGPT, нам потребуются значения `api_key` и `folder_id`. Их надо взять из секретов датасферы."
   ]
  },
  {
   "cell_type": "code",
   "execution_count": 46,
   "id": "cd65bd33-b306-453c-988c-d87880a09d81",
   "metadata": {
    "execution": {
     "iopub.execute_input": "2024-05-22T22:00:28.028692Z",
     "iopub.status.busy": "2024-05-22T22:00:28.027708Z",
     "iopub.status.idle": "2024-05-22T22:00:28.038416Z",
     "shell.execute_reply": "2024-05-22T22:00:28.037748Z",
     "shell.execute_reply.started": "2024-05-22T22:00:28.028636Z"
    },
    "tags": []
   },
   "outputs": [],
   "source": [
    "folder_id = \"...\"\n",
    "api_key = \"...\""
   ]
  },
  {
   "cell_type": "markdown",
   "id": "ed3ce532-2864-4f49-99c4-20832cd1c6dc",
   "metadata": {},
   "source": [
    "Создадим объект YandexGPT и проверим, как он работает:"
   ]
  },
  {
   "cell_type": "code",
   "execution_count": 47,
   "id": "95e05049-8b1c-4a00-8ef4-665fdbc35968",
   "metadata": {
    "execution": {
     "iopub.execute_input": "2024-05-22T22:00:29.973198Z",
     "iopub.status.busy": "2024-05-22T22:00:29.972137Z",
     "iopub.status.idle": "2024-05-22T22:00:34.289827Z",
     "shell.execute_reply": "2024-05-22T22:00:34.288986Z",
     "shell.execute_reply.started": "2024-05-22T22:00:29.973164Z"
    },
    "tags": []
   },
   "outputs": [
    {
     "data": {
      "text/plain": [
       "'**Встретились JSON и XML.**  \\n\\nJSON говорит: «Я крутой формат обмена данными, быстрый и компактный!»\\nXML отвечает: «Зато я более гибкий, богатый функционально и поддерживаемый различными приложениями».  \\nПосмотрели они друг на друга и пожали плечами – не поймёшь, кто из них прав. Пришёл программист, использовал и JSON, и XML для своих задач – и остался доволен!'"
      ]
     },
     "execution_count": 47,
     "metadata": {},
     "output_type": "execute_result"
    }
   ],
   "source": [
    "from yandex_chain import YandexLLM, YandexGPTModel\n",
    "LLM = YandexLLM(model=YandexGPTModel.Pro, folder_id=folder_id, api_key=api_key)\n",
    "\n",
    "LLM.invoke(\"Расскажи анекдот про JSON и XML\")"
   ]
  },
  {
   "cell_type": "markdown",
   "id": "e748bd9b-0e9f-436f-b1b7-fa7e46f69c4b",
   "metadata": {},
   "source": [
    "Для обработки, чтобы ускорить процесс демонстрации, выберем по 10 записей из каждого вокзала:"
   ]
  },
  {
   "cell_type": "code",
   "execution_count": 24,
   "id": "305d3630-4f00-46f9-9312-56b18d63868a",
   "metadata": {
    "execution": {
     "iopub.execute_input": "2024-05-22T21:21:45.294874Z",
     "iopub.status.busy": "2024-05-22T21:21:45.293878Z",
     "iopub.status.idle": "2024-05-22T21:21:45.353639Z",
     "shell.execute_reply": "2024-05-22T21:21:45.352741Z",
     "shell.execute_reply.started": "2024-05-22T21:21:45.294834Z"
    },
    "tags": []
   },
   "outputs": [
    {
     "data": {
      "text/html": [
       "<div>\n",
       "<style scoped>\n",
       "    .dataframe tbody tr th:only-of-type {\n",
       "        vertical-align: middle;\n",
       "    }\n",
       "\n",
       "    .dataframe tbody tr th {\n",
       "        vertical-align: top;\n",
       "    }\n",
       "\n",
       "    .dataframe thead th {\n",
       "        text-align: right;\n",
       "    }\n",
       "</style>\n",
       "<table border=\"1\" class=\"dataframe\">\n",
       "  <thead>\n",
       "    <tr style=\"text-align: right;\">\n",
       "      <th></th>\n",
       "      <th>id</th>\n",
       "      <th>dislike</th>\n",
       "      <th>like</th>\n",
       "      <th>review_text</th>\n",
       "      <th>author</th>\n",
       "      <th>review_rating</th>\n",
       "      <th>datetime</th>\n",
       "      <th>station</th>\n",
       "      <th>sentiment</th>\n",
       "    </tr>\n",
       "  </thead>\n",
       "  <tbody>\n",
       "    <tr>\n",
       "      <th>0</th>\n",
       "      <td>1262</td>\n",
       "      <td>2</td>\n",
       "      <td>16</td>\n",
       "      <td>Обожаю вокзал, из всех вокзалов , обладает так...</td>\n",
       "      <td>Алекс</td>\n",
       "      <td>5</td>\n",
       "      <td>2023-04-22T16:43:05.097Z</td>\n",
       "      <td>Belorussky</td>\n",
       "      <td>1</td>\n",
       "    </tr>\n",
       "    <tr>\n",
       "      <th>1</th>\n",
       "      <td>1283</td>\n",
       "      <td>0</td>\n",
       "      <td>6</td>\n",
       "      <td>Большой просторный, красивый вокзал. Зал ожида...</td>\n",
       "      <td>Мария Рыжкова</td>\n",
       "      <td>5</td>\n",
       "      <td>2024-01-20T08:19:35.208Z</td>\n",
       "      <td>Belorussky</td>\n",
       "      <td>1</td>\n",
       "    </tr>\n",
       "    <tr>\n",
       "      <th>2</th>\n",
       "      <td>1279</td>\n",
       "      <td>0</td>\n",
       "      <td>0</td>\n",
       "      <td>Один из красивых вокзалов, г. Москвы, \\nХороше...</td>\n",
       "      <td>Лекс</td>\n",
       "      <td>5</td>\n",
       "      <td>2023-11-04T12:49:54.572Z</td>\n",
       "      <td>Belorussky</td>\n",
       "      <td>1</td>\n",
       "    </tr>\n",
       "    <tr>\n",
       "      <th>3</th>\n",
       "      <td>1300</td>\n",
       "      <td>7</td>\n",
       "      <td>21</td>\n",
       "      <td>Удобно расположен, есть камеры хранения, возмо...</td>\n",
       "      <td>Люси</td>\n",
       "      <td>5</td>\n",
       "      <td>2023-04-05T23:12:23.159Z</td>\n",
       "      <td>Belorussky</td>\n",
       "      <td>0</td>\n",
       "    </tr>\n",
       "    <tr>\n",
       "      <th>4</th>\n",
       "      <td>1291</td>\n",
       "      <td>2</td>\n",
       "      <td>7</td>\n",
       "      <td>Красивое, атмосферное место, а ещё и функциона...</td>\n",
       "      <td>Светлана Смирнова</td>\n",
       "      <td>5</td>\n",
       "      <td>2024-02-13T12:34:33.803Z</td>\n",
       "      <td>Belorussky</td>\n",
       "      <td>1</td>\n",
       "    </tr>\n",
       "    <tr>\n",
       "      <th>...</th>\n",
       "      <td>...</td>\n",
       "      <td>...</td>\n",
       "      <td>...</td>\n",
       "      <td>...</td>\n",
       "      <td>...</td>\n",
       "      <td>...</td>\n",
       "      <td>...</td>\n",
       "      <td>...</td>\n",
       "      <td>...</td>\n",
       "    </tr>\n",
       "    <tr>\n",
       "      <th>75</th>\n",
       "      <td>2198</td>\n",
       "      <td>0</td>\n",
       "      <td>0</td>\n",
       "      <td>Небольшой вокзал на востоке столицы, с удобной...</td>\n",
       "      <td>Андрей Кочкин</td>\n",
       "      <td>4</td>\n",
       "      <td>2024-01-06T09:36:59.239Z</td>\n",
       "      <td>Vostochny</td>\n",
       "      <td>0</td>\n",
       "    </tr>\n",
       "    <tr>\n",
       "      <th>76</th>\n",
       "      <td>2175</td>\n",
       "      <td>0</td>\n",
       "      <td>0</td>\n",
       "      <td>Вокзал свежий,но очень маленький.Иногда большо...</td>\n",
       "      <td>Анна Тихонова</td>\n",
       "      <td>4</td>\n",
       "      <td>2024-01-20T12:28:08.435Z</td>\n",
       "      <td>Vostochny</td>\n",
       "      <td>0</td>\n",
       "    </tr>\n",
       "    <tr>\n",
       "      <th>77</th>\n",
       "      <td>2270</td>\n",
       "      <td>0</td>\n",
       "      <td>3</td>\n",
       "      <td>Очень приятный новый вокзал! Разобраться сложн...</td>\n",
       "      <td>Наталья Байбакова</td>\n",
       "      <td>5</td>\n",
       "      <td>2023-12-24T13:10:29.484Z</td>\n",
       "      <td>Vostochny</td>\n",
       "      <td>1</td>\n",
       "    </tr>\n",
       "    <tr>\n",
       "      <th>78</th>\n",
       "      <td>2180</td>\n",
       "      <td>1</td>\n",
       "      <td>0</td>\n",
       "      <td>Посещал данный вокзал, из преимуществ, есть по...</td>\n",
       "      <td>Tomm</td>\n",
       "      <td>5</td>\n",
       "      <td>2023-10-29T11:07:27.166Z</td>\n",
       "      <td>Vostochny</td>\n",
       "      <td>1</td>\n",
       "    </tr>\n",
       "    <tr>\n",
       "      <th>79</th>\n",
       "      <td>2202</td>\n",
       "      <td>1</td>\n",
       "      <td>0</td>\n",
       "      <td>Хороший вокзал, я бываю на нем чаще всего. Ест...</td>\n",
       "      <td>sasha z</td>\n",
       "      <td>4</td>\n",
       "      <td>2024-01-16T08:51:13.009Z</td>\n",
       "      <td>Vostochny</td>\n",
       "      <td>1</td>\n",
       "    </tr>\n",
       "  </tbody>\n",
       "</table>\n",
       "<p>80 rows × 9 columns</p>\n",
       "</div>"
      ],
      "text/plain": [
       "      id  dislike  like  ...                  datetime     station  sentiment\n",
       "0   1262        2    16  ...  2023-04-22T16:43:05.097Z  Belorussky          1\n",
       "1   1283        0     6  ...  2024-01-20T08:19:35.208Z  Belorussky          1\n",
       "2   1279        0     0  ...  2023-11-04T12:49:54.572Z  Belorussky          1\n",
       "3   1300        7    21  ...  2023-04-05T23:12:23.159Z  Belorussky          0\n",
       "4   1291        2     7  ...  2024-02-13T12:34:33.803Z  Belorussky          1\n",
       "..   ...      ...   ...  ...                       ...         ...        ...\n",
       "75  2198        0     0  ...  2024-01-06T09:36:59.239Z   Vostochny          0\n",
       "76  2175        0     0  ...  2024-01-20T12:28:08.435Z   Vostochny          0\n",
       "77  2270        0     3  ...  2023-12-24T13:10:29.484Z   Vostochny          1\n",
       "78  2180        1     0  ...  2023-10-29T11:07:27.166Z   Vostochny          1\n",
       "79  2202        1     0  ...  2024-01-16T08:51:13.009Z   Vostochny          1\n",
       "\n",
       "[80 rows x 9 columns]"
      ]
     },
     "execution_count": 24,
     "metadata": {},
     "output_type": "execute_result"
    }
   ],
   "source": [
    "import pandas as pd\n",
    "\n",
    "df = pd.read_csv('dataset_with_sentiment.csv')\n",
    "df_sample = df.groupby('station').apply(lambda x: x.sample(10)).reset_index(drop=True)\n",
    "df_sample"
   ]
  },
  {
   "cell_type": "markdown",
   "id": "1c0d8087-3135-4258-835d-9b2a9c885080",
   "metadata": {},
   "source": [
    "Попробуем выделить смысл из текста отзыва. Для примера выберем три аспекта отзывов: транспортная доступность вокзала, его чистота и точность хождения поездов. По каждому из этих аспектов попробуем выделить оценку, также в целом положительные и отрицательные моменты, и список тегов, о чем этот отзыв."
   ]
  },
  {
   "cell_type": "code",
   "execution_count": 58,
   "id": "81bcfcaa-c4d8-46cc-9a34-d93a3a6e4a3a",
   "metadata": {
    "execution": {
     "iopub.execute_input": "2024-05-22T22:12:21.348162Z",
     "iopub.status.busy": "2024-05-22T22:12:21.346686Z",
     "iopub.status.idle": "2024-05-22T22:12:23.538189Z",
     "shell.execute_reply": "2024-05-22T22:12:23.537393Z",
     "shell.execute_reply.started": "2024-05-22T22:12:21.348118Z"
    },
    "tags": []
   },
   "outputs": [
    {
     "name": "stdout",
     "output_type": "stream",
     "text": [
      "Очень красивое место, вежливый персонал.\n",
      "Ездила на поезде из Москвы в Беларусь, комфортно, белье чистое, тепло, можно с животными. Дают горячий чай прям в постель, можно даже не переутруждаться, там о вВс и вашем комфорте позаботиться квалифицированные сотрудники.\n"
     ]
    },
    {
     "data": {
      "text/plain": [
       "'{\\n  \"sentiment\": \"positive\",\\n  \"transport\": 0,\\n  \"cleanliness\": 5,\\n  \"schedule\": 0, \\n  \"positive\": [\"Очень красивое место\", \"вежливый персонал\", \"комфортно\", \"чистое бельё\", \"тепло\", \"можно с животными\", \"дают горячий чай прям в постель\"],\\n  \"negative\": [],\\n  \"tags\": [\"Вокзал\", \"Поезд\"]\\n}'"
      ]
     },
     "execution_count": 58,
     "metadata": {},
     "output_type": "execute_result"
    }
   ],
   "source": [
    "prompt = \"\"\"\n",
    "Прочитай следующий отзыв о вокзале в тройных обратных кавычках: ````{}```.\n",
    "Из этого отзыва тебе необходимо выделить следующую информацию:\n",
    "* sentiment - этот отзыв позитивный (positive), негативный (negative) или нейтральный (neutral)\n",
    "* transport - транспортная доступность вокзала, по шкале 1..5, если об это говорится в отзыве. Если нет - 0\n",
    "* cleanliness - чистота вокзала, по шкале 1..5, если об это говорится в отзыве. Если нет - 0\n",
    "* schedule - точность хождения поездов, по шкале 1..5, если об это говорится в отзыве. Если нет - 0\n",
    "* positive - краткий список позитивных моментов из отзыва\n",
    "* negative - краткий список негативных моментов из отзыва\n",
    "* tags - краткий список тегов, о чем этот отзыв, например: cleanliness, transport, trains\n",
    "Результат необходимо вернуть в формате JSON такого вида:\n",
    "{{\n",
    "  \"sentiment\" : \"...\",\n",
    "  \"transport\" : ...,\n",
    "  \"cleanliness\" : ...,\n",
    "  \"schedule\" : ...,\n",
    "  \"positive\" : [\"...\", ...],\n",
    "  \"negative\" : [\"...\", ...],\n",
    "  \"tags\" : [\"...\"]\n",
    "}}\n",
    "Обязательно пиши все строки внутри JSON в двойных кавычках. Не забывай ставить запятые после \n",
    "всех полей в JSON, кроме последнего.\n",
    "\"\"\"\n",
    "\n",
    "txt = df['review_text'].iloc[0]\n",
    "print(txt)\n",
    "res = LLM.invoke(prompt.format(txt))\n",
    "res"
   ]
  },
  {
   "cell_type": "markdown",
   "id": "f51045ba-4916-4855-be47-6eaf907a499e",
   "metadata": {},
   "source": [
    "Поскольку возврат результата в формате JSON не гарантируется, попробуем использовать JsonOutputParser из библиотки LangChain для выделения результата в формате JSON. Но в дальнейшем если будут возникать ошибки парсинга - мы будет просто игнорировать такие строки."
   ]
  },
  {
   "cell_type": "code",
   "execution_count": 54,
   "id": "6bc4eca0-a9f5-4619-a630-4a12ddb7fb60",
   "metadata": {
    "execution": {
     "iopub.execute_input": "2024-05-22T22:04:42.450248Z",
     "iopub.status.busy": "2024-05-22T22:04:42.449199Z",
     "iopub.status.idle": "2024-05-22T22:04:44.371316Z",
     "shell.execute_reply": "2024-05-22T22:04:44.370656Z",
     "shell.execute_reply.started": "2024-05-22T22:04:42.450204Z"
    },
    "tags": []
   },
   "outputs": [
    {
     "name": "stdout",
     "output_type": "stream",
     "text": [
      "Очень красивое место, вежливый персонал.\n",
      "Ездила на поезде из Москвы в Беларусь, комфортно, белье чистое, тепло, можно с животными. Дают горячий чай прям в постель, можно даже не переутруждаться, там о вВс и вашем комфорте позаботиться квалифицированные сотрудники.\n"
     ]
    },
    {
     "data": {
      "text/plain": [
       "{'sentiment': 'positive',\n",
       " 'transport': 0,\n",
       " 'cleanliness': 1,\n",
       " 'schedule': 0,\n",
       " 'positive': ['Очень красивое место',\n",
       "  'вежливый персонал',\n",
       "  'комфортно',\n",
       "  'тепло',\n",
       "  'можно с животными'],\n",
       " 'negative': [],\n",
       " 'tags': ['вокзал']}"
      ]
     },
     "execution_count": 54,
     "metadata": {},
     "output_type": "execute_result"
    }
   ],
   "source": [
    "from langchain_core.output_parsers import JsonOutputParser\n",
    "from langchain_core.exceptions import OutputParserException\n",
    "jop = JsonOutputParser()\n",
    "\n",
    "txt = df['review_text'].iloc[0]\n",
    "print(txt)\n",
    "res = jop.parse(LLM.invoke(prompt.format(txt)).replace('\\'','\"'))\n",
    "res"
   ]
  },
  {
   "cell_type": "markdown",
   "id": "59fb9473-45f3-4c70-ac2d-14d10ecb5cf0",
   "metadata": {},
   "source": [
    "Сохраним колонку `sentiment`, распознанную моделью HuggingFace."
   ]
  },
  {
   "cell_type": "code",
   "execution_count": 27,
   "id": "43eaee49-bc55-480b-aee1-4a17b94ea86d",
   "metadata": {
    "execution": {
     "iopub.execute_input": "2024-05-22T21:21:57.161194Z",
     "iopub.status.busy": "2024-05-22T21:21:57.160047Z",
     "iopub.status.idle": "2024-05-22T21:21:57.172837Z",
     "shell.execute_reply": "2024-05-22T21:21:57.172101Z",
     "shell.execute_reply.started": "2024-05-22T21:21:57.161154Z"
    },
    "tags": []
   },
   "outputs": [],
   "source": [
    "pmap = { -1 : 'negative', 0 : 'neutral', 1 : 'positive' }\n",
    "df_sample['hf_sentiment'] = df_sample['sentiment'].apply(lambda x: pmap[x])\n",
    "df_sample.drop(columns=['sentiment'],inplace=True)"
   ]
  },
  {
   "cell_type": "markdown",
   "id": "e3edfeb7-5f28-4dac-b6e1-35b8befc0889",
   "metadata": {},
   "source": [
    "Теперь пройдёмся по всем строкам таблицы и извлечём информацию с помощью LLM. Для начала добавим новые пустые поля в таблицу, для хранения извлечённых значений:"
   ]
  },
  {
   "cell_type": "code",
   "execution_count": null,
   "id": "8cfd4ffd-1134-4d50-a6ce-7d58ce747214",
   "metadata": {},
   "outputs": [],
   "source": [
    "for f in [\"sentiment\",\"transport\",\"cleanliness\", \"schedule\", \"positive\", \"negative\", \"tags\"]:\n",
    "    df_sample[f]=np.nan"
   ]
  },
  {
   "cell_type": "markdown",
   "id": "94ed3f1f-aaeb-4e7a-8bbd-e40c06a143f5",
   "metadata": {},
   "source": [
    "Теперь собственно займёмся извлечением. Если для какого-то отзыва YandexGPT вернёт некорректный JSON, то отзыв будет пропущен. Мы можем запустить этот код несколько раз, чтобы попробовать распознать все отзывы. Он будет пропускать те отзывы, для которые поле `positive` уже заполнено.\n",
    "\n",
    "> Обратите внимание, что мы используем несколько приёмов для уменьшения проблем с JSON. Например, если возвращенный JSON содержит вводный текст вида *Вот документ, который вы просили: {...}*, то мы выделяем весь текст между символами `{` и `}`. Также заменяем одинарные кавычки на двойные."
   ]
  },
  {
   "cell_type": "code",
   "execution_count": 69,
   "id": "4a7b2ed4-86be-4014-9e20-c6fc7c4a7621",
   "metadata": {
    "execution": {
     "iopub.execute_input": "2024-05-22T22:23:32.041603Z",
     "iopub.status.busy": "2024-05-22T22:23:32.040473Z",
     "iopub.status.idle": "2024-05-22T22:23:34.137523Z",
     "shell.execute_reply": "2024-05-22T22:23:34.136723Z",
     "shell.execute_reply.started": "2024-05-22T22:23:32.041564Z"
    },
    "tags": []
   },
   "outputs": [
    {
     "name": "stderr",
     "output_type": "stream",
     "text": [
      "80it [00:02, 38.45it/s]\n"
     ]
    }
   ],
   "source": [
    "from tqdm.auto import tqdm\n",
    "from yandex_chain import YException\n",
    "import numpy as np\n",
    "\n",
    "def lin(x):\n",
    "    if isinstance(x,list):\n",
    "        return ','.join(x)\n",
    "    else:\n",
    "        return x\n",
    "    \n",
    "def cut(x):\n",
    "    if x.startswith('{'):\n",
    "        return x\n",
    "    if '{' in x and '}' in x:\n",
    "        mk1 = x.find('{')\n",
    "        mk2 = x.find('}', mk1) + 1\n",
    "        return x[ mk1 : mk2 ]\n",
    "    return x\n",
    "\n",
    "for i,r in tqdm(df_sample.iterrows()):\n",
    "    txt = r['review_text']\n",
    "    if not pd.isnull(r['positive']):\n",
    "        continue # уже распознано\n",
    "    try:\n",
    "        res = jop.parse(cut(LLM.invoke(prompt.format(txt)).replace('\\'','\"')))\n",
    "        for f in [\"sentiment\",\"transport\",\"cleanliness\", \"schedule\", \"positive\", \"negative\", \"tags\"]:\n",
    "            df_sample.at[i,f] = lin(res[f])\n",
    "    except YException as ye:\n",
    "        print(f\"YandexGPT Error: {e}\")\n",
    "        break\n",
    "    except Exception as e:\n",
    "        print(f'Error: {e}') "
   ]
  },
  {
   "cell_type": "markdown",
   "id": "31603c6b-ce61-4b89-a8d3-b1c838776ac1",
   "metadata": {},
   "source": [
    "Посмотрим на результат:"
   ]
  },
  {
   "cell_type": "code",
   "execution_count": 70,
   "id": "0c2b869c-9bee-49f6-ac43-c94d1af2c06b",
   "metadata": {
    "execution": {
     "iopub.execute_input": "2024-05-22T22:23:36.592594Z",
     "iopub.status.busy": "2024-05-22T22:23:36.591517Z",
     "iopub.status.idle": "2024-05-22T22:23:36.634580Z",
     "shell.execute_reply": "2024-05-22T22:23:36.633875Z",
     "shell.execute_reply.started": "2024-05-22T22:23:36.592549Z"
    },
    "tags": []
   },
   "outputs": [
    {
     "data": {
      "text/html": [
       "<div>\n",
       "<style scoped>\n",
       "    .dataframe tbody tr th:only-of-type {\n",
       "        vertical-align: middle;\n",
       "    }\n",
       "\n",
       "    .dataframe tbody tr th {\n",
       "        vertical-align: top;\n",
       "    }\n",
       "\n",
       "    .dataframe thead th {\n",
       "        text-align: right;\n",
       "    }\n",
       "</style>\n",
       "<table border=\"1\" class=\"dataframe\">\n",
       "  <thead>\n",
       "    <tr style=\"text-align: right;\">\n",
       "      <th></th>\n",
       "      <th>id</th>\n",
       "      <th>dislike</th>\n",
       "      <th>like</th>\n",
       "      <th>review_text</th>\n",
       "      <th>author</th>\n",
       "      <th>review_rating</th>\n",
       "      <th>datetime</th>\n",
       "      <th>station</th>\n",
       "      <th>hf_sentiment</th>\n",
       "      <th>sentiment</th>\n",
       "      <th>transport</th>\n",
       "      <th>cleanliness</th>\n",
       "      <th>schedule</th>\n",
       "      <th>positive</th>\n",
       "      <th>negative</th>\n",
       "      <th>tags</th>\n",
       "    </tr>\n",
       "  </thead>\n",
       "  <tbody>\n",
       "    <tr>\n",
       "      <th>0</th>\n",
       "      <td>1262</td>\n",
       "      <td>2</td>\n",
       "      <td>16</td>\n",
       "      <td>Обожаю вокзал, из всех вокзалов , обладает так...</td>\n",
       "      <td>Алекс</td>\n",
       "      <td>5</td>\n",
       "      <td>2023-04-22T16:43:05.097Z</td>\n",
       "      <td>Belorussky</td>\n",
       "      <td>positive</td>\n",
       "      <td>positive</td>\n",
       "      <td>5.0</td>\n",
       "      <td>0.0</td>\n",
       "      <td>0.0</td>\n",
       "      <td>уникальная история,интересная архитектура,совр...</td>\n",
       "      <td></td>\n",
       "      <td>вокзал,транспорт,история</td>\n",
       "    </tr>\n",
       "    <tr>\n",
       "      <th>1</th>\n",
       "      <td>1283</td>\n",
       "      <td>0</td>\n",
       "      <td>6</td>\n",
       "      <td>Большой просторный, красивый вокзал. Зал ожида...</td>\n",
       "      <td>Мария Рыжкова</td>\n",
       "      <td>5</td>\n",
       "      <td>2024-01-20T08:19:35.208Z</td>\n",
       "      <td>Belorussky</td>\n",
       "      <td>positive</td>\n",
       "      <td>positive</td>\n",
       "      <td>5.0</td>\n",
       "      <td>0.0</td>\n",
       "      <td>0.0</td>\n",
       "      <td>Большой просторный, красивый вокзал.,Зал ожида...</td>\n",
       "      <td></td>\n",
       "      <td>вокзал</td>\n",
       "    </tr>\n",
       "    <tr>\n",
       "      <th>2</th>\n",
       "      <td>1279</td>\n",
       "      <td>0</td>\n",
       "      <td>0</td>\n",
       "      <td>Один из красивых вокзалов, г. Москвы, \\nХороше...</td>\n",
       "      <td>Лекс</td>\n",
       "      <td>5</td>\n",
       "      <td>2023-11-04T12:49:54.572Z</td>\n",
       "      <td>Belorussky</td>\n",
       "      <td>positive</td>\n",
       "      <td>positive</td>\n",
       "      <td>2.0</td>\n",
       "      <td>0.0</td>\n",
       "      <td>0.0</td>\n",
       "      <td>Один из красивых вокзалов,Хорошее расположение...</td>\n",
       "      <td></td>\n",
       "      <td></td>\n",
       "    </tr>\n",
       "    <tr>\n",
       "      <th>3</th>\n",
       "      <td>1300</td>\n",
       "      <td>7</td>\n",
       "      <td>21</td>\n",
       "      <td>Удобно расположен, есть камеры хранения, возмо...</td>\n",
       "      <td>Люси</td>\n",
       "      <td>5</td>\n",
       "      <td>2023-04-05T23:12:23.159Z</td>\n",
       "      <td>Belorussky</td>\n",
       "      <td>neutral</td>\n",
       "      <td>positive</td>\n",
       "      <td>2.0</td>\n",
       "      <td>0.0</td>\n",
       "      <td>0.0</td>\n",
       "      <td>удобное расположение,камеры хранения,возможнос...</td>\n",
       "      <td>высокие цены в ГУМе</td>\n",
       "      <td>вокзал,Красная площадь,ГУМ</td>\n",
       "    </tr>\n",
       "    <tr>\n",
       "      <th>4</th>\n",
       "      <td>1291</td>\n",
       "      <td>2</td>\n",
       "      <td>7</td>\n",
       "      <td>Красивое, атмосферное место, а ещё и функциона...</td>\n",
       "      <td>Светлана Смирнова</td>\n",
       "      <td>5</td>\n",
       "      <td>2024-02-13T12:34:33.803Z</td>\n",
       "      <td>Belorussky</td>\n",
       "      <td>positive</td>\n",
       "      <td>positive</td>\n",
       "      <td>0.0</td>\n",
       "      <td>0.0</td>\n",
       "      <td>0.0</td>\n",
       "      <td>красивое место,атмосферное место,функционально...</td>\n",
       "      <td></td>\n",
       "      <td></td>\n",
       "    </tr>\n",
       "    <tr>\n",
       "      <th>...</th>\n",
       "      <td>...</td>\n",
       "      <td>...</td>\n",
       "      <td>...</td>\n",
       "      <td>...</td>\n",
       "      <td>...</td>\n",
       "      <td>...</td>\n",
       "      <td>...</td>\n",
       "      <td>...</td>\n",
       "      <td>...</td>\n",
       "      <td>...</td>\n",
       "      <td>...</td>\n",
       "      <td>...</td>\n",
       "      <td>...</td>\n",
       "      <td>...</td>\n",
       "      <td>...</td>\n",
       "      <td>...</td>\n",
       "    </tr>\n",
       "    <tr>\n",
       "      <th>75</th>\n",
       "      <td>2198</td>\n",
       "      <td>0</td>\n",
       "      <td>0</td>\n",
       "      <td>Небольшой вокзал на востоке столицы, с удобной...</td>\n",
       "      <td>Андрей Кочкин</td>\n",
       "      <td>4</td>\n",
       "      <td>2024-01-06T09:36:59.239Z</td>\n",
       "      <td>Vostochny</td>\n",
       "      <td>neutral</td>\n",
       "      <td>neutral</td>\n",
       "      <td>2.0</td>\n",
       "      <td>0.0</td>\n",
       "      <td>0.0</td>\n",
       "      <td>Удобная транспортная доступность и логистика</td>\n",
       "      <td>Платформы узкие, от последнего вагона до экска...</td>\n",
       "      <td>вокзал,транспорт</td>\n",
       "    </tr>\n",
       "    <tr>\n",
       "      <th>76</th>\n",
       "      <td>2175</td>\n",
       "      <td>0</td>\n",
       "      <td>0</td>\n",
       "      <td>Вокзал свежий,но очень маленький.Иногда большо...</td>\n",
       "      <td>Анна Тихонова</td>\n",
       "      <td>4</td>\n",
       "      <td>2024-01-20T12:28:08.435Z</td>\n",
       "      <td>Vostochny</td>\n",
       "      <td>neutral</td>\n",
       "      <td>negative</td>\n",
       "      <td>0.0</td>\n",
       "      <td>0.0</td>\n",
       "      <td>0.0</td>\n",
       "      <td>вокзал свежий</td>\n",
       "      <td>очень маленький вокзал,большое скопление людей...</td>\n",
       "      <td>вокал,транспорт</td>\n",
       "    </tr>\n",
       "    <tr>\n",
       "      <th>77</th>\n",
       "      <td>2270</td>\n",
       "      <td>0</td>\n",
       "      <td>3</td>\n",
       "      <td>Очень приятный новый вокзал! Разобраться сложн...</td>\n",
       "      <td>Наталья Байбакова</td>\n",
       "      <td>5</td>\n",
       "      <td>2023-12-24T13:10:29.484Z</td>\n",
       "      <td>Vostochny</td>\n",
       "      <td>positive</td>\n",
       "      <td>positive</td>\n",
       "      <td>1.0</td>\n",
       "      <td>5.0</td>\n",
       "      <td>0.0</td>\n",
       "      <td>приятный новый вокзал!,всё удобно,рядом торгов...</td>\n",
       "      <td></td>\n",
       "      <td>вокзал,метро</td>\n",
       "    </tr>\n",
       "    <tr>\n",
       "      <th>78</th>\n",
       "      <td>2180</td>\n",
       "      <td>1</td>\n",
       "      <td>0</td>\n",
       "      <td>Посещал данный вокзал, из преимуществ, есть по...</td>\n",
       "      <td>Tomm</td>\n",
       "      <td>5</td>\n",
       "      <td>2023-10-29T11:07:27.166Z</td>\n",
       "      <td>Vostochny</td>\n",
       "      <td>positive</td>\n",
       "      <td>positive</td>\n",
       "      <td>0.0</td>\n",
       "      <td>5.0</td>\n",
       "      <td>0.0</td>\n",
       "      <td>есть под СВХ бесплатная парковка,внутри чисто,...</td>\n",
       "      <td></td>\n",
       "      <td>чистота</td>\n",
       "    </tr>\n",
       "    <tr>\n",
       "      <th>79</th>\n",
       "      <td>2202</td>\n",
       "      <td>1</td>\n",
       "      <td>0</td>\n",
       "      <td>Хороший вокзал, я бываю на нем чаще всего. Ест...</td>\n",
       "      <td>sasha z</td>\n",
       "      <td>4</td>\n",
       "      <td>2024-01-16T08:51:13.009Z</td>\n",
       "      <td>Vostochny</td>\n",
       "      <td>positive</td>\n",
       "      <td>positive</td>\n",
       "      <td>0.0</td>\n",
       "      <td>0.0</td>\n",
       "      <td>0.0</td>\n",
       "      <td>хорошая зона отдыха (вип),вкусная еда,массажны...</td>\n",
       "      <td></td>\n",
       "      <td>вокзал,зона отдыха,vip</td>\n",
       "    </tr>\n",
       "  </tbody>\n",
       "</table>\n",
       "<p>80 rows × 16 columns</p>\n",
       "</div>"
      ],
      "text/plain": [
       "      id  ...                        tags\n",
       "0   1262  ...    вокзал,транспорт,история\n",
       "1   1283  ...                      вокзал\n",
       "2   1279  ...                            \n",
       "3   1300  ...  вокзал,Красная площадь,ГУМ\n",
       "4   1291  ...                            \n",
       "..   ...  ...                         ...\n",
       "75  2198  ...            вокзал,транспорт\n",
       "76  2175  ...             вокал,транспорт\n",
       "77  2270  ...                вокзал,метро\n",
       "78  2180  ...                     чистота\n",
       "79  2202  ...      вокзал,зона отдыха,vip\n",
       "\n",
       "[80 rows x 16 columns]"
      ]
     },
     "execution_count": 70,
     "metadata": {},
     "output_type": "execute_result"
    }
   ],
   "source": [
    "df_sample.to_csv('dataset_sample_with_GPT.csv')\n",
    "df_sample"
   ]
  },
  {
   "cell_type": "markdown",
   "id": "0ce15cff-f344-4945-a430-3b8779916874",
   "metadata": {},
   "source": [
    "## Делаем выводы и строим инфографику \n",
    "\n",
    "Посмотрим, насколько совпадают предсказания sentiment между YandexGPT и моделью с HuggingFace:"
   ]
  },
  {
   "cell_type": "code",
   "execution_count": 71,
   "id": "6d7fe528-9709-4c16-baf1-439c3a24208a",
   "metadata": {
    "execution": {
     "iopub.execute_input": "2024-05-22T22:26:41.487174Z",
     "iopub.status.busy": "2024-05-22T22:26:41.486445Z",
     "iopub.status.idle": "2024-05-22T22:26:43.112436Z",
     "shell.execute_reply": "2024-05-22T22:26:43.111640Z",
     "shell.execute_reply.started": "2024-05-22T22:26:41.487140Z"
    }
   },
   "outputs": [
    {
     "data": {
      "text/plain": [
       "<sklearn.metrics._plot.confusion_matrix.ConfusionMatrixDisplay at 0x7fb3e6757be0>"
      ]
     },
     "execution_count": 71,
     "metadata": {},
     "output_type": "execute_result"
    },
    {
     "data": {
      "image/png": "[encoded data removed]",
      "text/plain": [
       "<Figure size 640x480 with 2 Axes>"
      ]
     },
     "metadata": {},
     "output_type": "display_data"
    }
   ],
   "source": [
    "from sklearn.metrics import ConfusionMatrixDisplay\n",
    "ConfusionMatrixDisplay.from_predictions(df_sample['hf_sentiment'],df_sample['sentiment'])"
   ]
  },
  {
   "cell_type": "markdown",
   "id": "0b959f88-c9c2-40d8-92b4-97e1dfd673a4",
   "metadata": {},
   "source": [
    "Посмотрим на средние значения показателей по всем вокзалам. Для этого сначала заменим нулевые значения на NaN, и затем осуществим аггрегацию:"
   ]
  },
  {
   "cell_type": "code",
   "execution_count": 74,
   "id": "d7b2c058-33ab-4bcf-9839-2f2e2b939762",
   "metadata": {
    "execution": {
     "iopub.execute_input": "2024-05-22T22:30:37.312578Z",
     "iopub.status.busy": "2024-05-22T22:30:37.311531Z",
     "iopub.status.idle": "2024-05-22T22:30:37.334093Z",
     "shell.execute_reply": "2024-05-22T22:30:37.333328Z",
     "shell.execute_reply.started": "2024-05-22T22:30:37.312530Z"
    },
    "tags": []
   },
   "outputs": [
    {
     "data": {
      "text/html": [
       "<div>\n",
       "<style scoped>\n",
       "    .dataframe tbody tr th:only-of-type {\n",
       "        vertical-align: middle;\n",
       "    }\n",
       "\n",
       "    .dataframe tbody tr th {\n",
       "        vertical-align: top;\n",
       "    }\n",
       "\n",
       "    .dataframe thead th {\n",
       "        text-align: right;\n",
       "    }\n",
       "</style>\n",
       "<table border=\"1\" class=\"dataframe\">\n",
       "  <thead>\n",
       "    <tr style=\"text-align: right;\">\n",
       "      <th></th>\n",
       "      <th>transport</th>\n",
       "      <th>cleanliness</th>\n",
       "      <th>schedule</th>\n",
       "    </tr>\n",
       "    <tr>\n",
       "      <th>station</th>\n",
       "      <th></th>\n",
       "      <th></th>\n",
       "      <th></th>\n",
       "    </tr>\n",
       "  </thead>\n",
       "  <tbody>\n",
       "    <tr>\n",
       "      <th>Belorussky</th>\n",
       "      <td>3.500000</td>\n",
       "      <td>3.500000</td>\n",
       "      <td>NaN</td>\n",
       "    </tr>\n",
       "    <tr>\n",
       "      <th>Kazan</th>\n",
       "      <td>2.000000</td>\n",
       "      <td>5.000000</td>\n",
       "      <td>1.0</td>\n",
       "    </tr>\n",
       "    <tr>\n",
       "      <th>Kursky</th>\n",
       "      <td>3.000000</td>\n",
       "      <td>3.000000</td>\n",
       "      <td>1.0</td>\n",
       "    </tr>\n",
       "    <tr>\n",
       "      <th>Kyiv</th>\n",
       "      <td>1.666667</td>\n",
       "      <td>3.666667</td>\n",
       "      <td>NaN</td>\n",
       "    </tr>\n",
       "    <tr>\n",
       "      <th>Paveletsky</th>\n",
       "      <td>3.800000</td>\n",
       "      <td>4.333333</td>\n",
       "      <td>NaN</td>\n",
       "    </tr>\n",
       "    <tr>\n",
       "      <th>Rizhsky</th>\n",
       "      <td>NaN</td>\n",
       "      <td>4.500000</td>\n",
       "      <td>5.0</td>\n",
       "    </tr>\n",
       "    <tr>\n",
       "      <th>Savyolovsky</th>\n",
       "      <td>2.666667</td>\n",
       "      <td>4.400000</td>\n",
       "      <td>NaN</td>\n",
       "    </tr>\n",
       "    <tr>\n",
       "      <th>Vostochny</th>\n",
       "      <td>2.571429</td>\n",
       "      <td>5.000000</td>\n",
       "      <td>NaN</td>\n",
       "    </tr>\n",
       "  </tbody>\n",
       "</table>\n",
       "</div>"
      ],
      "text/plain": [
       "             transport  cleanliness  schedule\n",
       "station                                      \n",
       "Belorussky    3.500000     3.500000       NaN\n",
       "Kazan         2.000000     5.000000       1.0\n",
       "Kursky        3.000000     3.000000       1.0\n",
       "Kyiv          1.666667     3.666667       NaN\n",
       "Paveletsky    3.800000     4.333333       NaN\n",
       "Rizhsky            NaN     4.500000       5.0\n",
       "Savyolovsky   2.666667     4.400000       NaN\n",
       "Vostochny     2.571429     5.000000       NaN"
      ]
     },
     "execution_count": 74,
     "metadata": {},
     "output_type": "execute_result"
    }
   ],
   "source": [
    "for f in [\"transport\",\"cleanliness\", \"schedule\"]:\n",
    "    df_sample[f] = df_sample[f].apply(lambda x: np.nan if x==0 else x)\n",
    "\n",
    "df_sample.groupby('station').agg( {'transport' : 'mean', 'cleanliness' : 'mean', 'schedule' : 'mean'})"
   ]
  },
  {
   "cell_type": "markdown",
   "id": "a68c6c21-ffa9-466e-a5c4-4d9369981a92",
   "metadata": {},
   "source": [
    "Такую же информацию можно представить в виде графика:"
   ]
  },
  {
   "cell_type": "code",
   "execution_count": 111,
   "id": "1434056b-e339-43aa-8b38-b304a3d48a37",
   "metadata": {
    "execution": {
     "iopub.execute_input": "2024-05-22T22:59:40.775639Z",
     "iopub.status.busy": "2024-05-22T22:59:40.774570Z",
     "iopub.status.idle": "2024-05-22T22:59:41.141626Z",
     "shell.execute_reply": "2024-05-22T22:59:41.140760Z",
     "shell.execute_reply.started": "2024-05-22T22:59:40.775597Z"
    },
    "tags": []
   },
   "outputs": [
    {
     "data": {
      "text/plain": [
       "<Axes: xlabel='station'>"
      ]
     },
     "execution_count": 111,
     "metadata": {},
     "output_type": "execute_result"
    },
    {
     "data": {
      "image/png": "[encoded data removed]",
      "text/plain": [
       "<Figure size 640x480 with 1 Axes>"
      ]
     },
     "metadata": {},
     "output_type": "display_data"
    }
   ],
   "source": [
    "df_sample.groupby('station').agg(\n",
    "    {'transport' : 'mean', \n",
    "     'cleanliness' : 'mean', \n",
    "     'schedule' : 'mean'}).plot.bar()"
   ]
  },
  {
   "cell_type": "markdown",
   "id": "d4ba239f-8fc5-4c7e-835c-0c145b4ed277",
   "metadata": {},
   "source": [
    "Теперь научимся извлекать интересующие нас отзывы по тегам. Для этого посмотрим на список всех тегов:"
   ]
  },
  {
   "cell_type": "code",
   "execution_count": 83,
   "id": "3448133a-5627-44e6-86b5-2fb40daa6ffa",
   "metadata": {
    "execution": {
     "iopub.execute_input": "2024-05-22T22:33:17.391449Z",
     "iopub.status.busy": "2024-05-22T22:33:17.390365Z",
     "iopub.status.idle": "2024-05-22T22:33:17.410599Z",
     "shell.execute_reply": "2024-05-22T22:33:17.409872Z",
     "shell.execute_reply.started": "2024-05-22T22:33:17.391404Z"
    },
    "tags": []
   },
   "outputs": [
    {
     "data": {
      "text/plain": [
       "{'vip',\n",
       " 'Анимация',\n",
       " 'Вокзал',\n",
       " 'ГУМ',\n",
       " 'Железнодорожная станция',\n",
       " 'Железнодорожный вокзал',\n",
       " 'Киевский вокзал',\n",
       " 'Красная площадь',\n",
       " 'Отель',\n",
       " 'Павелецк-Плаза',\n",
       " 'Поезда',\n",
       " 'РЖД',\n",
       " 'Транзит',\n",
       " 'безопасность',\n",
       " 'билеты',\n",
       " 'вокал',\n",
       " 'вокзал',\n",
       " 'вокзалы',\n",
       " 'воспоминания из детства',\n",
       " 'еда',\n",
       " 'железнодорожный вокзал',\n",
       " 'железнодорожный транспорт',\n",
       " 'зона отдыха',\n",
       " 'история',\n",
       " 'камера хранения',\n",
       " 'кафе',\n",
       " 'кофейня',\n",
       " 'культура',\n",
       " 'метро',\n",
       " 'музей',\n",
       " 'музей техники',\n",
       " 'общественное питание',\n",
       " 'отдых',\n",
       " 'отзыв',\n",
       " 'парковка',\n",
       " 'пассажиры',\n",
       " 'пересадки',\n",
       " 'персонал',\n",
       " 'платформа',\n",
       " 'платформы',\n",
       " 'площадь',\n",
       " 'поезд',\n",
       " 'поездка',\n",
       " 'поездки',\n",
       " 'покупка билетов',\n",
       " 'реконструкция',\n",
       " 'ремонт',\n",
       " 'сотрудники',\n",
       " 'станция',\n",
       " 'транспорт',\n",
       " 'транспортная доступность',\n",
       " 'транспортный узел',\n",
       " 'трёхразовое питание',\n",
       " 'удобства',\n",
       " 'чистота',\n",
       " 'электрички'}"
      ]
     },
     "execution_count": 83,
     "metadata": {},
     "output_type": "execute_result"
    }
   ],
   "source": [
    "tags = list(df_sample['tags'].apply(lambda x: str(x).split(',')))\n",
    "tags = set(sum(tags,[])) - { 'nan', '' }\n",
    "tags"
   ]
  },
  {
   "cell_type": "markdown",
   "id": "2dbb2541-8dea-46af-b30f-2c690f16aaeb",
   "metadata": {},
   "source": [
    "Опишем функцию `tag_lookup`, которая будет возвращать фрагмент таблицы, в который входит интересующий нас тег:"
   ]
  },
  {
   "cell_type": "code",
   "execution_count": 88,
   "id": "f55446ac-59d1-4a6f-8f53-2d696763f76c",
   "metadata": {
    "execution": {
     "iopub.execute_input": "2024-05-22T22:36:16.939730Z",
     "iopub.status.busy": "2024-05-22T22:36:16.938621Z",
     "iopub.status.idle": "2024-05-22T22:36:16.958855Z",
     "shell.execute_reply": "2024-05-22T22:36:16.958164Z",
     "shell.execute_reply.started": "2024-05-22T22:36:16.939688Z"
    },
    "tags": []
   },
   "outputs": [
    {
     "data": {
      "text/html": [
       "<div>\n",
       "<style scoped>\n",
       "    .dataframe tbody tr th:only-of-type {\n",
       "        vertical-align: middle;\n",
       "    }\n",
       "\n",
       "    .dataframe tbody tr th {\n",
       "        vertical-align: top;\n",
       "    }\n",
       "\n",
       "    .dataframe thead th {\n",
       "        text-align: right;\n",
       "    }\n",
       "</style>\n",
       "<table border=\"1\" class=\"dataframe\">\n",
       "  <thead>\n",
       "    <tr style=\"text-align: right;\">\n",
       "      <th></th>\n",
       "      <th>station</th>\n",
       "      <th>review_text</th>\n",
       "    </tr>\n",
       "  </thead>\n",
       "  <tbody>\n",
       "    <tr>\n",
       "      <th>30</th>\n",
       "      <td>Kyiv</td>\n",
       "      <td>Крутое место, терялся только по началу часто к...</td>\n",
       "    </tr>\n",
       "    <tr>\n",
       "      <th>34</th>\n",
       "      <td>Kyiv</td>\n",
       "      <td>Рядом с вокзалом есть торговые центры. Работаю...</td>\n",
       "    </tr>\n",
       "    <tr>\n",
       "      <th>35</th>\n",
       "      <td>Kyiv</td>\n",
       "      <td>Всё красиво ну вот чтобы на машине приехать и ...</td>\n",
       "    </tr>\n",
       "    <tr>\n",
       "      <th>60</th>\n",
       "      <td>Savyolovsky</td>\n",
       "      <td>Чистая, прекрасно благоустроенная площадь. Авт...</td>\n",
       "    </tr>\n",
       "    <tr>\n",
       "      <th>66</th>\n",
       "      <td>Savyolovsky</td>\n",
       "      <td>Туалеты всегда чистые, персонал культурный, ве...</td>\n",
       "    </tr>\n",
       "    <tr>\n",
       "      <th>69</th>\n",
       "      <td>Savyolovsky</td>\n",
       "      <td>Неплохой вокзал, тепло, чисто. \\nЧистые туалет...</td>\n",
       "    </tr>\n",
       "    <tr>\n",
       "      <th>71</th>\n",
       "      <td>Vostochny</td>\n",
       "      <td>Удобное передвижение по вокзалу, чисто и комфо...</td>\n",
       "    </tr>\n",
       "    <tr>\n",
       "      <th>72</th>\n",
       "      <td>Vostochny</td>\n",
       "      <td>Вокзал отличный! Есть эскалаторы и лифты! Указ...</td>\n",
       "    </tr>\n",
       "    <tr>\n",
       "      <th>78</th>\n",
       "      <td>Vostochny</td>\n",
       "      <td>Посещал данный вокзал, из преимуществ, есть по...</td>\n",
       "    </tr>\n",
       "  </tbody>\n",
       "</table>\n",
       "</div>"
      ],
      "text/plain": [
       "        station                                        review_text\n",
       "30         Kyiv  Крутое место, терялся только по началу часто к...\n",
       "34         Kyiv  Рядом с вокзалом есть торговые центры. Работаю...\n",
       "35         Kyiv  Всё красиво ну вот чтобы на машине приехать и ...\n",
       "60  Savyolovsky  Чистая, прекрасно благоустроенная площадь. Авт...\n",
       "66  Savyolovsky  Туалеты всегда чистые, персонал культурный, ве...\n",
       "69  Savyolovsky  Неплохой вокзал, тепло, чисто. \\nЧистые туалет...\n",
       "71    Vostochny  Удобное передвижение по вокзалу, чисто и комфо...\n",
       "72    Vostochny  Вокзал отличный! Есть эскалаторы и лифты! Указ...\n",
       "78    Vostochny  Посещал данный вокзал, из преимуществ, есть по..."
      ]
     },
     "execution_count": 88,
     "metadata": {},
     "output_type": "execute_result"
    }
   ],
   "source": [
    "def tag_lookup(tag):\n",
    "    return df_sample[df_sample['tags'].apply(lambda x: tag in str(x))]\n",
    "\n",
    "tag_lookup('чистота')[['station','review_text']]"
   ]
  },
  {
   "cell_type": "markdown",
   "id": "59c7eb6a-30ab-41f7-aa43-9f0a31dbc9e4",
   "metadata": {},
   "source": [
    "Посмотрим, на каком вокзале есть музей:"
   ]
  },
  {
   "cell_type": "code",
   "execution_count": 89,
   "id": "3acf7739-782b-47b7-9e9f-94236f74c1ce",
   "metadata": {
    "execution": {
     "iopub.execute_input": "2024-05-22T22:36:39.449022Z",
     "iopub.status.busy": "2024-05-22T22:36:39.448256Z",
     "iopub.status.idle": "2024-05-22T22:36:39.473570Z",
     "shell.execute_reply": "2024-05-22T22:36:39.472654Z",
     "shell.execute_reply.started": "2024-05-22T22:36:39.448981Z"
    }
   },
   "outputs": [
    {
     "data": {
      "text/html": [
       "<div>\n",
       "<style scoped>\n",
       "    .dataframe tbody tr th:only-of-type {\n",
       "        vertical-align: middle;\n",
       "    }\n",
       "\n",
       "    .dataframe tbody tr th {\n",
       "        vertical-align: top;\n",
       "    }\n",
       "\n",
       "    .dataframe thead th {\n",
       "        text-align: right;\n",
       "    }\n",
       "</style>\n",
       "<table border=\"1\" class=\"dataframe\">\n",
       "  <thead>\n",
       "    <tr style=\"text-align: right;\">\n",
       "      <th></th>\n",
       "      <th>station</th>\n",
       "      <th>review_text</th>\n",
       "    </tr>\n",
       "  </thead>\n",
       "  <tbody>\n",
       "    <tr>\n",
       "      <th>56</th>\n",
       "      <td>Rizhsky</td>\n",
       "      <td>Рядом с вокзалом находится отличный музей желе...</td>\n",
       "    </tr>\n",
       "    <tr>\n",
       "      <th>57</th>\n",
       "      <td>Rizhsky</td>\n",
       "      <td>Офигенный музей ржд на первом этаже, рядом с м...</td>\n",
       "    </tr>\n",
       "  </tbody>\n",
       "</table>\n",
       "</div>"
      ],
      "text/plain": [
       "    station                                        review_text\n",
       "56  Rizhsky  Рядом с вокзалом находится отличный музей желе...\n",
       "57  Rizhsky  Офигенный музей ржд на первом этаже, рядом с м..."
      ]
     },
     "execution_count": 89,
     "metadata": {},
     "output_type": "execute_result"
    }
   ],
   "source": [
    "tag_lookup('музей')[['station','review_text']]"
   ]
  },
  {
   "cell_type": "markdown",
   "id": "c2acbb8d-3d06-403f-a190-99d956338a0b",
   "metadata": {},
   "source": [
    "## Подведение итогов"
   ]
  },
  {
   "cell_type": "markdown",
   "id": "c25fb369-8bd9-4b1e-8acc-b20b29334731",
   "metadata": {},
   "source": [
    "Зададимся задачей подытожить все положительные и отрицательные моменты для каждого из вокзалов. Сначала объединим все значения колонок `positive` и `negative` для каждого из вокзалов:"
   ]
  },
  {
   "cell_type": "code",
   "execution_count": 99,
   "id": "5becbff0-cafd-4c25-81e7-1f50b46eb2ba",
   "metadata": {
    "execution": {
     "iopub.execute_input": "2024-05-22T22:41:47.930954Z",
     "iopub.status.busy": "2024-05-22T22:41:47.929964Z",
     "iopub.status.idle": "2024-05-22T22:41:47.959257Z",
     "shell.execute_reply": "2024-05-22T22:41:47.958505Z",
     "shell.execute_reply.started": "2024-05-22T22:41:47.930914Z"
    },
    "tags": []
   },
   "outputs": [
    {
     "data": {
      "text/html": [
       "<div>\n",
       "<style scoped>\n",
       "    .dataframe tbody tr th:only-of-type {\n",
       "        vertical-align: middle;\n",
       "    }\n",
       "\n",
       "    .dataframe tbody tr th {\n",
       "        vertical-align: top;\n",
       "    }\n",
       "\n",
       "    .dataframe thead th {\n",
       "        text-align: right;\n",
       "    }\n",
       "</style>\n",
       "<table border=\"1\" class=\"dataframe\">\n",
       "  <thead>\n",
       "    <tr style=\"text-align: right;\">\n",
       "      <th></th>\n",
       "      <th>station</th>\n",
       "      <th>positive</th>\n",
       "      <th>negative</th>\n",
       "    </tr>\n",
       "  </thead>\n",
       "  <tbody>\n",
       "    <tr>\n",
       "      <th>0</th>\n",
       "      <td>Belorussky</td>\n",
       "      <td>уникальная история,интересная архитектура,совр...</td>\n",
       "      <td>высокие цены в ГУМе, автор не отметил ничего, ...</td>\n",
       "    </tr>\n",
       "    <tr>\n",
       "      <th>1</th>\n",
       "      <td>Kazan</td>\n",
       "      <td>есть всё для удобства,можно перекусить на любо...</td>\n",
       "      <td>убрали все лавочки,туалеты находятся далеко, Х...</td>\n",
       "    </tr>\n",
       "    <tr>\n",
       "      <th>2</th>\n",
       "      <td>Kursky</td>\n",
       "      <td>всё красиво,чистота, большой,удобный, Удобное ...</td>\n",
       "      <td>почти не функционирует,не известно по какой пр...</td>\n",
       "    </tr>\n",
       "    <tr>\n",
       "      <th>3</th>\n",
       "      <td>Kyiv</td>\n",
       "      <td>крутое место,было очень прикольно посещать ТЦш...</td>\n",
       "      <td>платформы грязные,электрички убогие,нет вайфая...</td>\n",
       "    </tr>\n",
       "    <tr>\n",
       "      <th>4</th>\n",
       "      <td>Paveletsky</td>\n",
       "      <td>достаточное количество магазинов, кафе, чистот...</td>\n",
       "      <td>много бездомных, от них сильно воняет; непонят...</td>\n",
       "    </tr>\n",
       "    <tr>\n",
       "      <th>5</th>\n",
       "      <td>Rizhsky</td>\n",
       "      <td>На вокзале были только мимо-прохожие, когда шл...</td>\n",
       "      <td>нет выбора в плане перекуса,проблемы с хранени...</td>\n",
       "    </tr>\n",
       "    <tr>\n",
       "      <th>6</th>\n",
       "      <td>Savyolovsky</td>\n",
       "      <td>чистая, прекрасно благоустроенная площадь,неда...</td>\n",
       "      <td>кошмарное состояние санузлов в электричках, не...</td>\n",
       "    </tr>\n",
       "    <tr>\n",
       "      <th>7</th>\n",
       "      <td>Vostochny</td>\n",
       "      <td>удобный пересадочный узел с метро на электричк...</td>\n",
       "      <td>выезд с вокзала неудобный,ожидание невозможно,...</td>\n",
       "    </tr>\n",
       "  </tbody>\n",
       "</table>\n",
       "</div>"
      ],
      "text/plain": [
       "       station  ...                                           negative\n",
       "0   Belorussky  ...  высокие цены в ГУМе, автор не отметил ничего, ...\n",
       "1        Kazan  ...  убрали все лавочки,туалеты находятся далеко, Х...\n",
       "2       Kursky  ...  почти не функционирует,не известно по какой пр...\n",
       "3         Kyiv  ...  платформы грязные,электрички убогие,нет вайфая...\n",
       "4   Paveletsky  ...  много бездомных, от них сильно воняет; непонят...\n",
       "5      Rizhsky  ...  нет выбора в плане перекуса,проблемы с хранени...\n",
       "6  Savyolovsky  ...  кошмарное состояние санузлов в электричках, не...\n",
       "7    Vostochny  ...  выезд с вокзала неудобный,ожидание невозможно,...\n",
       "\n",
       "[8 rows x 3 columns]"
      ]
     },
     "execution_count": 99,
     "metadata": {},
     "output_type": "execute_result"
    }
   ],
   "source": [
    "join = lambda x : ', '.join([t for t in x if len(t)>0])\n",
    "\n",
    "df_stations = df_sample.groupby('station').agg({ 'positive' : join, 'negative' : join }).reset_index()\n",
    "df_stations"
   ]
  },
  {
   "cell_type": "markdown",
   "id": "020f0c5e-8850-4af1-be8e-115793348430",
   "metadata": {
    "execution": {
     "iopub.execute_input": "2024-05-22T22:49:16.088187Z",
     "iopub.status.busy": "2024-05-22T22:49:16.087032Z",
     "iopub.status.idle": "2024-05-22T22:49:16.100318Z",
     "shell.execute_reply": "2024-05-22T22:49:16.099308Z",
     "shell.execute_reply.started": "2024-05-22T22:49:16.088138Z"
    }
   },
   "source": [
    "Теперь применим большую языковую модель для того, чтобы суммаризировать все факты в один конкретный текст:"
   ]
  },
  {
   "cell_type": "code",
   "execution_count": 102,
   "id": "d7180f20-7d9e-466c-8068-6d4e2a442fb5",
   "metadata": {
    "execution": {
     "iopub.execute_input": "2024-05-22T22:48:29.288213Z",
     "iopub.status.busy": "2024-05-22T22:48:29.287098Z",
     "iopub.status.idle": "2024-05-22T22:49:12.143697Z",
     "shell.execute_reply": "2024-05-22T22:49:12.142967Z",
     "shell.execute_reply.started": "2024-05-22T22:48:29.288166Z"
    },
    "tags": []
   },
   "outputs": [],
   "source": [
    "prompt_sum = \"\"\"\n",
    "Пожалуйста, прочитай список отзывов о вокзале ниже в тройных обратных кавычках и запиши краткое содержание\n",
    "всего прочитанного текста в виде нескольких абзацев текста. Отзывы: ```{}```\n",
    "\"\"\"\n",
    "\n",
    "def summarize(x):\n",
    "    res = LLM.invoke(prompt_sum.format(x))\n",
    "    return res\n",
    "\n",
    "df_stations['pos_summary'] = df_stations['positive'].apply(summarize)\n",
    "df_stations['neg_summary'] = df_stations['negative'].apply(summarize)"
   ]
  },
  {
   "cell_type": "code",
   "execution_count": 109,
   "id": "300e04fe-4d85-4862-8e45-7a2227e6c097",
   "metadata": {
    "execution": {
     "iopub.execute_input": "2024-05-22T22:53:50.845842Z",
     "iopub.status.busy": "2024-05-22T22:53:50.844695Z",
     "iopub.status.idle": "2024-05-22T22:53:50.866349Z",
     "shell.execute_reply": "2024-05-22T22:53:50.865644Z",
     "shell.execute_reply.started": "2024-05-22T22:53:50.845800Z"
    },
    "tags": []
   },
   "outputs": [
    {
     "data": {
      "text/html": [
       "<div>\n",
       "<style scoped>\n",
       "    .dataframe tbody tr th:only-of-type {\n",
       "        vertical-align: middle;\n",
       "    }\n",
       "\n",
       "    .dataframe tbody tr th {\n",
       "        vertical-align: top;\n",
       "    }\n",
       "\n",
       "    .dataframe thead th {\n",
       "        text-align: right;\n",
       "    }\n",
       "</style>\n",
       "<table border=\"1\" class=\"dataframe\">\n",
       "  <thead>\n",
       "    <tr style=\"text-align: right;\">\n",
       "      <th></th>\n",
       "      <th>station</th>\n",
       "      <th>pos_summary</th>\n",
       "      <th>neg_summary</th>\n",
       "    </tr>\n",
       "  </thead>\n",
       "  <tbody>\n",
       "    <tr>\n",
       "      <th>0</th>\n",
       "      <td>Belorussky</td>\n",
       "      <td>В отзывах вокзал характеризуют как красивое атмосферное место с уникальной историей и интересной архитектурой. Станция отличается современным комфортом и функциональностью.\\n\\nВокзал просторный и удобный, там есть все необходимое. Неподалеку расположены кафе, где можно перекусить в ожидании поезда. Кроме того, на территории вокзала работают камеры хранения. \\n\\nЕще один плюс вокзала — удобное расположение, благодаря которому до него легко добраться и на автомобиле, и на метро. Именно поэтому станция остается важным транспортным узлом.\\n\\nОтмечается соответствие вокзала высоким стандартам обслуживания. Персонал вежливый и профессиональный, внутри здания чисто и комфортно, пассажиры чувствуют себя в безопасности.\\n\\nБлагодаря всем перечисленным достоинствам вокзал в отзыве характеризуется как один из красивейших в городе. Для автора он стал любимым местом, и у других пассажиров с ним связаны только лучшие воспоминания.</td>\n",
       "      <td>Один из авторов в своём отзыве не отмечает ничего, что вызвало бы негативные воспоминания о вокзале, но он упоминает высокие цены в расположенном на территории вокзала магазине.\\n\\nВ этом отзыве нет информации о чистоте, инфраструктуре, работе персонала или других аспектах, по которым можно было бы оценить качество обслуживания на вокзале. Скорее всего, отзыв посвящён только одному аспекту опыта пребывания на вокзале — ценам в магазине. По всей видимости, этот аспект автор считает важным, так как говорит о нём отдельно.</td>\n",
       "    </tr>\n",
       "    <tr>\n",
       "      <th>1</th>\n",
       "      <td>Kazan</td>\n",
       "      <td>Этот железнодорожный вокзал представляет собой **современный транспортный узел**, который имеет всё необходимое для удобства пассажиров. Инфраструктура вокзала хорошо продумана и организована. Пассажиры могут перекусить на любой вкус, купить сувениры, посетить различные магазинчики. При этом **они всегда будут в курсе расписания** благодаря удобному информированию.\\n\\nСотрудники вокзала **вежливы и готовы прийти на помощь**. Привлекает внимание и архитектура вокзала – **исторического величественного здания**, выполненного в стиле псевдорусского узорочья. Также пассажиры могут насладиться шикарными видами на Москву. \\n\\nВ целом, это **красивый вокзал с удивительной историей**, удобными зонами ожидания и современным оснащением. Там приятно и комфортно находиться. Рядом с вокзалом находится множество точек общепита и сувенирных магазинов, а также аптеки.</td>\n",
       "      <td>Пассажиры вокзала отмечают недостатки в обустройстве и обслуживании. Они жалуются на отсутствие лавочек, неудобное расположение туалетов, сквозняки и недостаток сидячих мест. Также отмечается плата в размере 600 рублей за перевозку багажа (за сумку). Пассажиров призывают быть внимательными.\\n\\nЭти отзывы позволяют увидеть общую картину недовольства пассажиров, связанную с условиями ожидания на вокзале. Меры по улучшению ситуации могут включать установку дополнительных сидений, оптимизацию расположения туалетов и, возможно, снижение стоимости перевозки багажа.</td>\n",
       "    </tr>\n",
       "    <tr>\n",
       "      <th>2</th>\n",
       "      <td>Kursky</td>\n",
       "      <td>Отзывы о вокзале отмечают приятные впечатления от его посещения.\\n\\nВокзал характеризуют как красивый и чистый. Хвалят его удобство и отмечают, что здание вокзала — архитектурное украшение города. Вокзал имеет удобную навигацию. Там комфортный и просторный зал ожидания. На вокзале много магазинов, кофеен и фудкортов. В отзывах также упоминается шикарный фудкорт с едой на любой вкус, где можно перекусить во время ожидания отправления. Авторы отзывов не уходят без покупок: они говорят, что на вокзале можно приобрести подарки в дорогу.\\n\\nКроме всего прочего на вокзале есть удобные камеры хранения, а также вендинговые автоматы для покупки билетов. Авторы отзывов отмечают отсутствие очередей и общую деловую атмосферу — во всех смыслах вокзала описывается как успешный и приятный инфраструктурный объект.</td>\n",
       "      <td>Некоторые люди выражают недовольство состоянием вокзала и уровнем обслуживания в нём. Они отмечают, что вокзал «почти не функционирует», и посетители сталкиваются с различными неудобствами: трудностями при поиске нужной платформы или информации о расписании, проблемами с безопасностью, недостатком комфорта.\\n\\nОсобенно критикуют недостаточную информативность вокзала, сложности с навигацией внутри него и на прилегающей территории перед вокзалом, которая «сильно уменьшилась» из-за «воткнутого» торгового центра. Также отмечается отсутствие детской зоны. \\n\\nОчевидно, что люди хотели бы видеть вокзал более удобным и приятным местом. Возможно, для исправления ситуации потребуются ремонт здания и улучшения в организации работы вокзала.</td>\n",
       "    </tr>\n",
       "    <tr>\n",
       "      <th>3</th>\n",
       "      <td>Kyiv</td>\n",
       "      <td>Вокзал описывается как **удобное, большое и красивое место** с уютными залами ожидания. \\n\\nПосетители отмечают, что рядом с вокзалом находятся **торговые центры**. Упоминается наличие **автоматических камер хранения**, а переходы к метро облегчают передвижение по городу.\\n\\nПоложительных отзывов удостоилась **реконструкция площади**: была улучшена инфраструктура, сделаны посадочные остановки, пешеходные дорожки накрыли крышами. Для такси предусмотрено **специальное отведённое место**.\\n\\nНа территории вокзала были организованы **маршруты электробусов**. В здании вокзала **легко ориентироваться**, там есть всё необходимое и персонал проявляет приветливость по отношению к посетителям.</td>\n",
       "      <td>Вокзал имеет ряд недостатков. Платформы грязные, а электрички неудобные. На территории вокзала нет Wi-Fi. Скамейки оказываются некомфортными для посетителей. Также вокзал напоминает о 2000-х годах обилием спекулянтов.\\n\\nВ холодное время года на вокзале очень холодно. Для автомобилей не предусмотрено стоянок, при этом стоимость парковки высокая.\\n\\n Посетители отмечают проблемы с персоналом — в работе службы досмотра выделяют грубость и недоброжелательность. Упоминают и проблемы с логистикой мероприятий на территории вокзала.</td>\n",
       "    </tr>\n",
       "    <tr>\n",
       "      <th>4</th>\n",
       "      <td>Paveletsky</td>\n",
       "      <td>Вокзал понравился посетителям. Гости отмечают чистоту внутри помещения и на территории вокруг него, приветливость персонала, удобное местоположение вокзала и современное пространство перед ним.\\n\\nВ здании вокзала есть магазины, кафе и пирожковая. Рядом расположен торговый центр. Также возле вокзала есть остановки общественного транспорта и станция метро. Перед вокзалом расположен трёхуровневый торговый центр  с парковкой. \\n\\nТакже посетители вокзала отмечают удобную навигацию:  выходы на перрон устроены так, что пассажирам легко понять, куда идти. Вокзал произвёл на пассажиров положительное впечатление.</td>\n",
       "      <td>Вокзал оставляет неприятное впечатление, отмечают пассажиры в своих отзывах. \\n\\nОдна из главных проблем — бездомные люди, большое скопление которых создаёт не только дискомфорт для посетителей, но и антисанитарию, поскольку «сильно воняет». Неудобство создают проблемы с навигацией по вокзалу и расположением входов в него. Посетители также отмечают высокие цены в торговом центре Павелецкая площадь, бестолковые досмотры и неудобный выход к поездам дальнего следования. В зале ожидания присутствует запах, а общее настроение создаёт мрачное впечатление. Также отмечается, что эскалатор был выключен.</td>\n",
       "    </tr>\n",
       "    <tr>\n",
       "      <th>5</th>\n",
       "      <td>Rizhsky</td>\n",
       "      <td>Автор отзывов рассказывает о своем опыте посещения железнодорожного вокзала. Вокзал оказывается красивой архитектурной достопримечательностью и в то же время музеем, посвящённым железнодорожной технике. Здесь можно увидеть редкие локомотивы. На первом этаже расположен музей РЖД, где представлена самая большая модель железной дороги.\\n\\nВокзал впечатляет своей чистотой, спокойствием и атмосферой приветливости. Положительные впечатления дополняются возможностью бесплатной фотосъёмки экспонатов. Ещё больше жизни добавляют мероприятия, которые проводятся на вокзале по выходным — тогда здесь появляется анимация.\\n\\nУпоминается, что на вокзале есть место для парковки автомобиля. Всё это делает его привлекательным местом для посещения многими людьми.</td>\n",
       "      <td>Исходя из перечисленных отзывов, можно сказать, что вокзал имеет ряд недостатков. У посетителей нет выбора мест, где можно перекусить. Также одной из проблем является отсутствие медицинского пункта.\\n\\nОставляют желать лучшего условия хранения багажа – по-видимому, на вокзале существуют определённые сложности с этой сферой. Кроме того, невозможно воспользоваться главным входом, который раньше был пригородным. Добавим, что количество платформ на вокзале кажется избыточным относительно числа курсирующих поездов.</td>\n",
       "    </tr>\n",
       "    <tr>\n",
       "      <th>6</th>\n",
       "      <td>Savyolovsky</td>\n",
       "      <td>«Савëловский вокзал» описывается как чистое и благоустроенное место.\\n\\nОтмечается, что после ремонта здесь стало ещё лучше. Среди положительных сторон вокзала также упоминаются: удобное расположение, понятная навигация, меньшее количество людей при посадке на D1, комфортный поезд, вежливый и отзывчивый персонал. \\n\\nПодчёркивается чистота туалетов, вежливость персонала, наличие урн и хорошая работа службы безопасности, которая оперативно реагирует на жалобы.\\n\\nУпоминаются  кафе, где можно перекусить, а также наличие достаточного количества электронных кассовых аппаратов. Отмечаются комфортные условия — тепло, есть лифт и камера хранения. Завершается отзыв заключением, что «Савëловский» — хороший, чистый вокзал.</td>\n",
       "      <td>Из прочитанного можно понять, что пассажиры недовольны состоянием санузлов в электричках. Они считают, что санузлы находятся в кошмарном состоянии и требуют обновления. Кроме того, критике подверглось расположение железнодорожных путей — некоторые пассажиры считают его неудобным.</td>\n",
       "    </tr>\n",
       "    <tr>\n",
       "      <th>7</th>\n",
       "      <td>Vostochny</td>\n",
       "      <td>Вокзал представляет собой удобный пересадочный узел с метро на электрички. Он обладает удобной логистикой и транспортной доступностью, не нужно выходить на улицу, чтобы попасть в метро или Московские центральные диаметры (МЦД).  \\n\\nЗдание вокзала чистое, опрятное, недавно отремонтированное. Внутри есть всё необходимое: туалеты, удобные зоны ожидания, места, где можно перекусить. Большие пространства, достаточное количество эскалаторов и лифтов — всё это обеспечивает комфортное перемещение по вокзалу.  \\n\\nОсобое внимание на вокзале уделено чистоте: сотрудники следят за порядком и в залах ожидания, и в туалетах. Хорошая зона отдыха (VIP lounge) понравится тем, кто хочет расслабиться и отдохнуть, а массажные сидения будут приятным бонусом к этому.\\n\\nОтдельно отмечается вежливость персонала и общее впечатление от нового вокзала как от свежего, приятного места.\\nРядом с вокзалом можно найти всё самое необходимое: торговый комплекс, бесплатную парковку, кафе и точки питания.</td>\n",
       "      <td>Вокзал получает отрицательные отзывы. Среди основных недостатков отмечают неудобный выезд с вокзала и неудачный подъезд к центральному зданию, а также проблемы с ожиданием поезда из-за большого скопления людей. \\n\\nОписаны проблемы с парковкой: есть жалобы на её отсутствие и занятость, что затрудняет доступ к вокзалу для автомобилистов.\\n\\nКроме того, критикуется  организация пространства самого вокзала: не хватает залов ожидания и камер хранения. Упоминается, что узкий перрон и расположение эскалатора осложняют передвижение с объёмным багажом. Всё это в совокупности делает ожидание поезда некомфортным.</td>\n",
       "    </tr>\n",
       "  </tbody>\n",
       "</table>\n",
       "</div>"
      ],
      "text/plain": [
       "       station  ...                                                                                                                                                                                                                                                                                                                                                                                                                                                                                                                                                                                                                                                                                                                                                          neg_summary\n",
       "0  Belorussky   ...  Один из авторов в своём отзыве не отмечает ничего, что вызвало бы негативные воспоминания о вокзале, но он упоминает высокие цены в расположенном на территории вокзала магазине.\\n\\nВ этом отзыве нет информации о чистоте, инфраструктуре, работе персонала или других аспектах, по которым можно было бы оценить качество обслуживания на вокзале. Скорее всего, отзыв посвящён только одному аспекту опыта пребывания на вокзале — ценам в магазине. По всей видимости, этот аспект автор считает важным, так как говорит о нём отдельно.                                                                                                                                                                                                                      \n",
       "1  Kazan        ...  Пассажиры вокзала отмечают недостатки в обустройстве и обслуживании. Они жалуются на отсутствие лавочек, неудобное расположение туалетов, сквозняки и недостаток сидячих мест. Также отмечается плата в размере 600 рублей за перевозку багажа (за сумку). Пассажиров призывают быть внимательными.\\n\\nЭти отзывы позволяют увидеть общую картину недовольства пассажиров, связанную с условиями ожидания на вокзале. Меры по улучшению ситуации могут включать установку дополнительных сидений, оптимизацию расположения туалетов и, возможно, снижение стоимости перевозки багажа.                                                                                                                                                                              \n",
       "2  Kursky       ...  Некоторые люди выражают недовольство состоянием вокзала и уровнем обслуживания в нём. Они отмечают, что вокзал «почти не функционирует», и посетители сталкиваются с различными неудобствами: трудностями при поиске нужной платформы или информации о расписании, проблемами с безопасностью, недостатком комфорта.\\n\\nОсобенно критикуют недостаточную информативность вокзала, сложности с навигацией внутри него и на прилегающей территории перед вокзалом, которая «сильно уменьшилась» из-за «воткнутого» торгового центра. Также отмечается отсутствие детской зоны. \\n\\nОчевидно, что люди хотели бы видеть вокзал более удобным и приятным местом. Возможно, для исправления ситуации потребуются ремонт здания и улучшения в организации работы вокзала.\n",
       "3  Kyiv         ...  Вокзал имеет ряд недостатков. Платформы грязные, а электрички неудобные. На территории вокзала нет Wi-Fi. Скамейки оказываются некомфортными для посетителей. Также вокзал напоминает о 2000-х годах обилием спекулянтов.\\n\\nВ холодное время года на вокзале очень холодно. Для автомобилей не предусмотрено стоянок, при этом стоимость парковки высокая.\\n\\n Посетители отмечают проблемы с персоналом — в работе службы досмотра выделяют грубость и недоброжелательность. Упоминают и проблемы с логистикой мероприятий на территории вокзала.                                                                                                                                                                                                                \n",
       "4  Paveletsky   ...  Вокзал оставляет неприятное впечатление, отмечают пассажиры в своих отзывах. \\n\\nОдна из главных проблем — бездомные люди, большое скопление которых создаёт не только дискомфорт для посетителей, но и антисанитарию, поскольку «сильно воняет». Неудобство создают проблемы с навигацией по вокзалу и расположением входов в него. Посетители также отмечают высокие цены в торговом центре Павелецкая площадь, бестолковые досмотры и неудобный выход к поездам дальнего следования. В зале ожидания присутствует запах, а общее настроение создаёт мрачное впечатление. Также отмечается, что эскалатор был выключен.                                                                                                                                          \n",
       "5  Rizhsky      ...  Исходя из перечисленных отзывов, можно сказать, что вокзал имеет ряд недостатков. У посетителей нет выбора мест, где можно перекусить. Также одной из проблем является отсутствие медицинского пункта.\\n\\nОставляют желать лучшего условия хранения багажа – по-видимому, на вокзале существуют определённые сложности с этой сферой. Кроме того, невозможно воспользоваться главным входом, который раньше был пригородным. Добавим, что количество платформ на вокзале кажется избыточным относительно числа курсирующих поездов.                                                                                                                                                                                                                                \n",
       "6  Savyolovsky  ...  Из прочитанного можно понять, что пассажиры недовольны состоянием санузлов в электричках. Они считают, что санузлы находятся в кошмарном состоянии и требуют обновления. Кроме того, критике подверглось расположение железнодорожных путей — некоторые пассажиры считают его неудобным.                                                                                                                                                                                                                                                                                                                                                                                                                                                                           \n",
       "7  Vostochny    ...  Вокзал получает отрицательные отзывы. Среди основных недостатков отмечают неудобный выезд с вокзала и неудачный подъезд к центральному зданию, а также проблемы с ожиданием поезда из-за большого скопления людей. \\n\\nОписаны проблемы с парковкой: есть жалобы на её отсутствие и занятость, что затрудняет доступ к вокзалу для автомобилистов.\\n\\nКроме того, критикуется  организация пространства самого вокзала: не хватает залов ожидания и камер хранения. Упоминается, что узкий перрон и расположение эскалатора осложняют передвижение с объёмным багажом. Всё это в совокупности делает ожидание поезда некомфортным.                                                                                                                                 \n",
       "\n",
       "[8 rows x 3 columns]"
      ]
     },
     "metadata": {},
     "output_type": "display_data"
    }
   ],
   "source": [
    "from IPython.display import display\n",
    "with pd.option_context('display.max_colwidth', 0):\n",
    "    display(df_stations[['station','pos_summary','neg_summary']])"
   ]
  },
  {
   "cell_type": "markdown",
   "id": "a62b4ef9-172a-46fa-81df-fba33ec05b47",
   "metadata": {},
   "source": [
    "## Заключение\n",
    "\n",
    "На этом ваша работа над задачей только начинается! Вы можете отталкиваться от приведённого в этом примере кода, или взять только данные и придумать какой-то свой способ анализа отзывов и подведения по ним итогов. Пробуйте применять другие модели с HuggingFace, пробуйте другие языковые модели, обогащайте данные дополинетельными источниками - но не забывайте использовать всё богатство инструментов ИИ, которое вы изучали, и которое даём вам Yandex Cloud!"
   ]
  },
  {
   "cell_type": "code",
   "execution_count": null,
   "id": "c2bdf8ed-3a19-43a9-b7c8-a559fed4ee69",
   "metadata": {},
   "outputs": [],
   "source": []
  }
 ],
 "metadata": {
  "kernelspec": {
   "display_name": "DataSphere Kernel",
   "language": "python",
   "name": "python3"
  },
  "language_info": {
   "codemirror_mode": {
    "name": "ipython",
    "version": 3
   },
   "file_extension": ".py",
   "mimetype": "text/x-python",
   "name": "python",
   "nbconvert_exporter": "python",
   "pygments_lexer": "ipython3",
   "version": "3.10.12"
  }
 },
 "nbformat": 4,
 "nbformat_minor": 5
}
