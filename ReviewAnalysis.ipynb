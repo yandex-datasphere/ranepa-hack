{
 "cells": [
  {
   "cell_type": "markdown",
   "id": "82039966-2a39-4d38-be02-bd7edf8c4d78",
   "metadata": {},
   "source": [
    "## Анализ отзывов\n",
    "\n",
    "В рамках данного кейса предлагается с помощью ИИ и машинного обучения поизучать отзывы людей на железнодорожные вокзалы Москвы. В рамках кейса предоставляются отзывы пользователей с Яндекс-карт, но возможно дополнительно использовать доступные в Интернет данные. \n",
    "\n",
    "Что ожидается в качестве результата:\n",
    "* Инфографика, наглядно демонстрирующая полученные командой результаты\n",
    "* Доклад, представляющий эти результаты\n",
    "* Код в Jupyter Notebook с анализом данных\n",
    "\n",
    "В данном ноутбуке показывается, как получить доступ к датасету, и первые шаги по его обработке с помощью доступных открытых моделей с HuggingFace, и с помощью YandexGPT. Можно использовать данный ноутбук как оправную точку для выполнения задания, расширив его дополнительными идеями, например:\n",
    "* Кластеризация отзывов\n",
    "* Обучение своих моделей для классификации тематики отзывов\n",
    "* Использование предобученных NER-моделей\n",
    "* Подробный анализ отзывов с помощью LLM\n",
    "\n",
    "> В начале работы мы будем использовать модель с HuggingFace, поэтому работа будет быстрее, если вы будете запускать код на узле с поддержкой GPU\n",
    "\n",
    "### Получение датасета"
   ]
  },
  {
   "cell_type": "code",
   "execution_count": 1,
   "id": "ad19da35-bf4b-4c5b-b8dc-cca6e7cb3e9f",
   "metadata": {
    "execution": {
     "iopub.execute_input": "2024-05-22T07:52:38.785244Z",
     "iopub.status.busy": "2024-05-22T07:52:38.784171Z",
     "iopub.status.idle": "2024-05-22T07:52:38.930624Z",
     "shell.execute_reply": "2024-05-22T07:52:38.929789Z",
     "shell.execute_reply.started": "2024-05-22T07:52:38.785197Z"
    }
   },
   "outputs": [
    {
     "name": "stderr",
     "output_type": "stream",
     "text": [
      "--2024-05-22 07:52:38--  http://www.soshnikov.com/temp/data/rail_reviews.zip\n",
      "Resolving www.soshnikov.com (www.soshnikov.com)... 79.137.227.122\n",
      "Connecting to www.soshnikov.com (www.soshnikov.com)|79.137.227.122|:80... connected.\n",
      "HTTP request sent, awaiting response... 200 OK\n",
      "Length: 390394 (381K) [application/zip]\n",
      "Saving to: ‘rail_reviews.zip’\n",
      "\n",
      "     0K .......... .......... .......... .......... .......... 13% 2.72M 0s\n",
      "    50K .......... .......... .......... .......... .......... 26% 7.62M 0s\n",
      "   100K .......... .......... .......... .......... .......... 39% 5.74M 0s\n",
      "   150K .......... .......... .......... .......... .......... 52% 7.00M 0s\n",
      "   200K .......... .......... .......... .......... .......... 65% 6.65M 0s\n",
      "   250K .......... .......... .......... .......... .......... 78% 6.64M 0s\n",
      "   300K .......... .......... .......... .......... .......... 91% 6.01M 0s\n",
      "   350K .......... .......... .......... .                    100% 7.12M=0.07s\n",
      "\n",
      "2024-05-22 07:52:38 (5.56 MB/s) - ‘rail_reviews.zip’ saved [390394/390394]\n",
      "\n"
     ]
    }
   ],
   "source": [
    "!wget http://www.soshnikov.com/temp/data/rail_reviews.zip"
   ]
  },
  {
   "cell_type": "code",
   "execution_count": 2,
   "id": "06eec371-2a9d-404d-ad8a-4f57ad3b5e81",
   "metadata": {
    "execution": {
     "iopub.execute_input": "2024-05-22T07:52:51.048050Z",
     "iopub.status.busy": "2024-05-22T07:52:51.046947Z",
     "iopub.status.idle": "2024-05-22T07:52:51.115379Z",
     "shell.execute_reply": "2024-05-22T07:52:51.114486Z",
     "shell.execute_reply.started": "2024-05-22T07:52:51.048006Z"
    }
   },
   "outputs": [
    {
     "name": "stdout",
     "output_type": "stream",
     "text": [
      "Archive:  rail_reviews.zip\n",
      "  inflating: reviews_Belorussky_railway_station.json  \n",
      "  inflating: reviews_Kazan_Station.json  \n",
      "  inflating: reviews_Kursky_station.json  \n",
      "  inflating: reviews_Kyiv_railway_station.json  \n",
      "  inflating: reviews_Paveletsky_railway_station.json  \n",
      "  inflating: reviews_Rizhsky_railway_station.json  \n",
      "  inflating: reviews_Savyolovsky_station.json  \n",
      "  inflating: reviews_Vostochny_station.json  \n"
     ]
    }
   ],
   "source": [
    "!unzip *.zip"
   ]
  },
  {
   "cell_type": "markdown",
   "id": "467216d2-57d3-4878-ae89-4e4b9c722456",
   "metadata": {},
   "source": [
    "### Преобразуем данные в DataFrame\n",
    "\n",
    "Как видите, каждый вокзал представлен своим набором отзывов следующего вида:"
   ]
  },
  {
   "cell_type": "code",
   "execution_count": 2,
   "id": "962a0497-f450-4e2e-afe4-72541e451a8d",
   "metadata": {
    "execution": {
     "iopub.execute_input": "2024-05-22T15:30:03.184621Z",
     "iopub.status.busy": "2024-05-22T15:30:03.183408Z",
     "iopub.status.idle": "2024-05-22T15:30:03.239582Z",
     "shell.execute_reply": "2024-05-22T15:30:03.238501Z",
     "shell.execute_reply.started": "2024-05-22T15:30:03.184573Z"
    },
    "tags": []
   },
   "outputs": [
    {
     "data": {
      "text/plain": [
       "{'id': 1251,\n",
       " 'dislike': 1,\n",
       " 'like': 10,\n",
       " 'review_text': 'Очень красивое место, вежливый персонал.\\nЕздила на поезде из Москвы в Беларусь, комфортно, белье чистое, тепло, можно с животными. Дают горячий чай прям в постель, можно даже не переутруждаться, там о вВс и вашем комфорте позаботиться квалифицированные сотрудники.',\n",
       " 'author': 'Александра Подгайская',\n",
       " 'review_rating': 5,\n",
       " 'datetime': '2024-01-12T16:53:33.611Z'}"
      ]
     },
     "execution_count": 2,
     "metadata": {},
     "output_type": "execute_result"
    }
   ],
   "source": [
    "import json\n",
    "j = json.load(open('reviews_Belorussky_railway_station.json'))\n",
    "j[0]"
   ]
  },
  {
   "cell_type": "markdown",
   "id": "3d39bdcb-8c47-45c2-a1f1-ebbb3a7f2422",
   "metadata": {},
   "source": [
    "Для удобства, сведём все отзывы в одну табличку. Для этого нам нужно будет добавить в каждое JSON-описание отзыва название вокзала."
   ]
  },
  {
   "cell_type": "code",
   "execution_count": 6,
   "id": "85551dae-f937-40c3-ae6d-e63718943e26",
   "metadata": {
    "execution": {
     "iopub.execute_input": "2024-05-22T20:02:56.402928Z",
     "iopub.status.busy": "2024-05-22T20:02:56.401967Z",
     "iopub.status.idle": "2024-05-22T20:02:56.488626Z",
     "shell.execute_reply": "2024-05-22T20:02:56.487711Z",
     "shell.execute_reply.started": "2024-05-22T20:02:56.402889Z"
    },
    "tags": []
   },
   "outputs": [
    {
     "data": {
      "text/html": [
       "<div>\n",
       "<style scoped>\n",
       "    .dataframe tbody tr th:only-of-type {\n",
       "        vertical-align: middle;\n",
       "    }\n",
       "\n",
       "    .dataframe tbody tr th {\n",
       "        vertical-align: top;\n",
       "    }\n",
       "\n",
       "    .dataframe thead th {\n",
       "        text-align: right;\n",
       "    }\n",
       "</style>\n",
       "<table border=\"1\" class=\"dataframe\">\n",
       "  <thead>\n",
       "    <tr style=\"text-align: right;\">\n",
       "      <th></th>\n",
       "      <th>id</th>\n",
       "      <th>dislike</th>\n",
       "      <th>like</th>\n",
       "      <th>review_text</th>\n",
       "      <th>author</th>\n",
       "      <th>review_rating</th>\n",
       "      <th>datetime</th>\n",
       "      <th>station</th>\n",
       "    </tr>\n",
       "  </thead>\n",
       "  <tbody>\n",
       "    <tr>\n",
       "      <th>0</th>\n",
       "      <td>1251</td>\n",
       "      <td>1</td>\n",
       "      <td>10</td>\n",
       "      <td>Очень красивое место, вежливый персонал.\\nЕзди...</td>\n",
       "      <td>Александра Подгайская</td>\n",
       "      <td>5</td>\n",
       "      <td>2024-01-12T16:53:33.611Z</td>\n",
       "      <td>Belorussky</td>\n",
       "    </tr>\n",
       "    <tr>\n",
       "      <th>1</th>\n",
       "      <td>1252</td>\n",
       "      <td>0</td>\n",
       "      <td>5</td>\n",
       "      <td>Расположен очень удобное, строятся новые пути ...</td>\n",
       "      <td>Пользователь Э.</td>\n",
       "      <td>5</td>\n",
       "      <td>2023-11-10T21:33:56.176Z</td>\n",
       "      <td>Belorussky</td>\n",
       "    </tr>\n",
       "    <tr>\n",
       "      <th>2</th>\n",
       "      <td>1253</td>\n",
       "      <td>2</td>\n",
       "      <td>7</td>\n",
       "      <td>Очень уютный и удобный вокзал. Мне он очень нр...</td>\n",
       "      <td>Н И</td>\n",
       "      <td>5</td>\n",
       "      <td>2023-08-25T14:27:29.327Z</td>\n",
       "      <td>Belorussky</td>\n",
       "    </tr>\n",
       "    <tr>\n",
       "      <th>3</th>\n",
       "      <td>1254</td>\n",
       "      <td>1</td>\n",
       "      <td>5</td>\n",
       "      <td>Красивое здание , очень удобно расположено в т...</td>\n",
       "      <td>Liliya Zugrova</td>\n",
       "      <td>5</td>\n",
       "      <td>2023-11-27T11:50:16.388Z</td>\n",
       "      <td>Belorussky</td>\n",
       "    </tr>\n",
       "    <tr>\n",
       "      <th>4</th>\n",
       "      <td>1255</td>\n",
       "      <td>2</td>\n",
       "      <td>7</td>\n",
       "      <td>С появление новых веток и маршрутов все стало ...</td>\n",
       "      <td>Татьяна Цымлова</td>\n",
       "      <td>5</td>\n",
       "      <td>2023-11-25T06:43:16.558Z</td>\n",
       "      <td>Belorussky</td>\n",
       "    </tr>\n",
       "    <tr>\n",
       "      <th>...</th>\n",
       "      <td>...</td>\n",
       "      <td>...</td>\n",
       "      <td>...</td>\n",
       "      <td>...</td>\n",
       "      <td>...</td>\n",
       "      <td>...</td>\n",
       "      <td>...</td>\n",
       "      <td>...</td>\n",
       "    </tr>\n",
       "    <tr>\n",
       "      <th>2264</th>\n",
       "      <td>2266</td>\n",
       "      <td>0</td>\n",
       "      <td>1</td>\n",
       "      <td>Отличный вокзал. Новый, современный, прям из в...</td>\n",
       "      <td>Анна Елагина</td>\n",
       "      <td>5</td>\n",
       "      <td>2024-02-02T04:55:15.074Z</td>\n",
       "      <td>Vostochny</td>\n",
       "    </tr>\n",
       "    <tr>\n",
       "      <th>2265</th>\n",
       "      <td>2267</td>\n",
       "      <td>1</td>\n",
       "      <td>0</td>\n",
       "      <td>Бывал недавно там )) очень вкусная кухня \\nКла...</td>\n",
       "      <td>Дмитрий</td>\n",
       "      <td>5</td>\n",
       "      <td>2023-11-12T14:21:47.541Z</td>\n",
       "      <td>Vostochny</td>\n",
       "    </tr>\n",
       "    <tr>\n",
       "      <th>2266</th>\n",
       "      <td>2268</td>\n",
       "      <td>0</td>\n",
       "      <td>0</td>\n",
       "      <td>Отличный и красивый вокзал. Чистые туалеты и б...</td>\n",
       "      <td>Валентина Архимановна</td>\n",
       "      <td>5</td>\n",
       "      <td>2024-01-31T10:53:36.364Z</td>\n",
       "      <td>Vostochny</td>\n",
       "    </tr>\n",
       "    <tr>\n",
       "      <th>2267</th>\n",
       "      <td>2269</td>\n",
       "      <td>3</td>\n",
       "      <td>10</td>\n",
       "      <td>Это не вокзал , а скорее узловая станция или п...</td>\n",
       "      <td>Владислав Баранов</td>\n",
       "      <td>2</td>\n",
       "      <td>2023-12-06T12:03:14.107Z</td>\n",
       "      <td>Vostochny</td>\n",
       "    </tr>\n",
       "    <tr>\n",
       "      <th>2268</th>\n",
       "      <td>2270</td>\n",
       "      <td>0</td>\n",
       "      <td>3</td>\n",
       "      <td>Очень приятный новый вокзал! Разобраться сложн...</td>\n",
       "      <td>Наталья Байбакова</td>\n",
       "      <td>5</td>\n",
       "      <td>2023-12-24T13:10:29.484Z</td>\n",
       "      <td>Vostochny</td>\n",
       "    </tr>\n",
       "  </tbody>\n",
       "</table>\n",
       "<p>2269 rows × 8 columns</p>\n",
       "</div>"
      ],
      "text/plain": [
       "        id  dislike  like  ... review_rating                  datetime     station\n",
       "0     1251        1    10  ...             5  2024-01-12T16:53:33.611Z  Belorussky\n",
       "1     1252        0     5  ...             5  2023-11-10T21:33:56.176Z  Belorussky\n",
       "2     1253        2     7  ...             5  2023-08-25T14:27:29.327Z  Belorussky\n",
       "3     1254        1     5  ...             5  2023-11-27T11:50:16.388Z  Belorussky\n",
       "4     1255        2     7  ...             5  2023-11-25T06:43:16.558Z  Belorussky\n",
       "...    ...      ...   ...  ...           ...                       ...         ...\n",
       "2264  2266        0     1  ...             5  2024-02-02T04:55:15.074Z   Vostochny\n",
       "2265  2267        1     0  ...             5  2023-11-12T14:21:47.541Z   Vostochny\n",
       "2266  2268        0     0  ...             5  2024-01-31T10:53:36.364Z   Vostochny\n",
       "2267  2269        3    10  ...             2  2023-12-06T12:03:14.107Z   Vostochny\n",
       "2268  2270        0     3  ...             5  2023-12-24T13:10:29.484Z   Vostochny\n",
       "\n",
       "[2269 rows x 8 columns]"
      ]
     },
     "execution_count": 6,
     "metadata": {},
     "output_type": "execute_result"
    }
   ],
   "source": [
    "import pandas as pd\n",
    "import os\n",
    "from glob import glob\n",
    "\n",
    "res = []\n",
    "for fn in glob('*.json'):\n",
    "    j = json.load(open(fn))\n",
    "    for x in j:\n",
    "        x['station'] = fn.split('_')[1]\n",
    "    res.extend(j)\n",
    "    \n",
    "df = pd.DataFrame(res)\n",
    "df"
   ]
  },
  {
   "cell_type": "markdown",
   "id": "10c02d14-db41-4644-b8ac-58f21d7a78f4",
   "metadata": {},
   "source": [
    "Посмотрим на количество отзывов по вокзалам:"
   ]
  },
  {
   "cell_type": "code",
   "execution_count": 4,
   "id": "6cb3889e-c454-4493-bec0-e7a8820e0ea2",
   "metadata": {
    "execution": {
     "iopub.execute_input": "2024-05-22T15:30:09.709585Z",
     "iopub.status.busy": "2024-05-22T15:30:09.708316Z",
     "iopub.status.idle": "2024-05-22T15:30:10.041018Z",
     "shell.execute_reply": "2024-05-22T15:30:10.039903Z",
     "shell.execute_reply.started": "2024-05-22T15:30:09.709525Z"
    },
    "tags": []
   },
   "outputs": [
    {
     "data": {
      "text/plain": [
       "<Axes: xlabel='station'>"
      ]
     },
     "execution_count": 4,
     "metadata": {},
     "output_type": "execute_result"
    },
    {
     "data": {
      "image/png": "[encoded data removed]",
      "text/plain": [
       "<Figure size 640x480 with 1 Axes>"
      ]
     },
     "metadata": {},
     "output_type": "display_data"
    }
   ],
   "source": [
    "df.groupby('station')['review_text'].count().plot.bar()"
   ]
  },
  {
   "cell_type": "markdown",
   "id": "a4439dc0-1991-4daa-89ca-5b855850d636",
   "metadata": {},
   "source": [
    "### Обогащение данных\n",
    "\n",
    "Для обогащения данных можно использовать различные нейросетевые модели. Для начала, попробуем определить тональность текста."
   ]
  },
  {
   "cell_type": "markdown",
   "id": "441d1ab7-65ba-46da-85e1-1fd99bc30763",
   "metadata": {},
   "source": [
    "Попробуем использовать модель [blanchefort/rubert-base-cased-sentiment-rurewiews](https://huggingface.co/blanchefort/rubert-base-cased-sentiment-rurewiews) с HuggingFace, натренированную на отзывах, с длиной 512 токенов. По умолчанию код из карточки модели выдает следующие классы:\n",
    "* 0: NEUTRAL\n",
    "* 1: POSITIVE\n",
    "* 2: NEGATIVE\n",
    "\n",
    "> Код не учитывает возможность работы на GPU, поэтому придётся внести в код несколько исправлений, чтобы можно было быстрее выполнять код на GPU."
   ]
  },
  {
   "cell_type": "code",
   "execution_count": 7,
   "id": "8b435ee6-afe1-4028-90f6-76715a3a4d68",
   "metadata": {
    "execution": {
     "iopub.execute_input": "2024-05-22T20:03:14.487429Z",
     "iopub.status.busy": "2024-05-22T20:03:14.486224Z",
     "iopub.status.idle": "2024-05-22T20:03:28.248954Z",
     "shell.execute_reply": "2024-05-22T20:03:28.248155Z",
     "shell.execute_reply.started": "2024-05-22T20:03:14.487386Z"
    },
    "tags": []
   },
   "outputs": [
    {
     "name": "stderr",
     "output_type": "stream",
     "text": [
      "/home/jupyter/.local/lib/python3.10/site-packages/transformers/utils/hub.py:124: FutureWarning: Using `TRANSFORMERS_CACHE` is deprecated and will be removed in v5 of Transformers. Use `HF_HOME` instead.\n",
      "  warnings.warn(\n"
     ]
    }
   ],
   "source": [
    "import torch\n",
    "from transformers import AutoModelForSequenceClassification\n",
    "from transformers import BertTokenizerFast\n",
    "\n",
    "device = \"cuda\" if torch.cuda.is_available() else \"cpu\"\n",
    "\n",
    "tokenizer = BertTokenizerFast.from_pretrained('blanchefort/rubert-base-cased-sentiment-rurewiews')\n",
    "model = AutoModelForSequenceClassification.from_pretrained('blanchefort/rubert-base-cased-sentiment-rurewiews', return_dict=True)\n",
    "model.to(device)\n",
    "\n",
    "@torch.no_grad()\n",
    "def predict(text):\n",
    "    inputs = tokenizer(text, max_length=512, padding=True, truncation=True, return_tensors='pt')\n",
    "    inputs = inputs.to(device)\n",
    "    outputs = model(**inputs)\n",
    "    predicted = torch.nn.functional.softmax(outputs.logits, dim=1)\n",
    "    predicted = torch.argmax(predicted, dim=1).cpu().numpy()\n",
    "    return predicted\n"
   ]
  },
  {
   "cell_type": "markdown",
   "id": "4fe1bac1-d605-4297-b491-6ab88cd51bca",
   "metadata": {},
   "source": [
    "Проверим, работает ли эта функция:"
   ]
  },
  {
   "cell_type": "code",
   "execution_count": 8,
   "id": "99b31f76-9f0e-4a2d-a586-e7fd60dbb59d",
   "metadata": {
    "execution": {
     "iopub.execute_input": "2024-05-22T20:03:28.250987Z",
     "iopub.status.busy": "2024-05-22T20:03:28.250325Z",
     "iopub.status.idle": "2024-05-22T20:03:28.681027Z",
     "shell.execute_reply": "2024-05-22T20:03:28.680064Z",
     "shell.execute_reply.started": "2024-05-22T20:03:28.250946Z"
    },
    "tags": []
   },
   "outputs": [
    {
     "data": {
      "text/plain": [
       "array([0, 1, 2])"
      ]
     },
     "execution_count": 8,
     "metadata": {},
     "output_type": "execute_result"
    }
   ],
   "source": [
    "predict([\n",
    "    'Ничего так вокзал, обычный...',\n",
    "    'Обожаю этот вокзал, там такие симпатичные бомжи!',\n",
    "    'Ненавижу это вокзал, поезда всегда опаздывают минимум на 20 минут'])"
   ]
  },
  {
   "cell_type": "markdown",
   "id": "6ef441e4-151e-4f75-b723-38c6f323c0e9",
   "metadata": {},
   "source": [
    "Чтобы применить модель ко всему датасету, разобьем его на небольшие части, примерное по 200 отзывов, и предскажем тональность каждой из этих частей."
   ]
  },
  {
   "cell_type": "code",
   "execution_count": 9,
   "id": "f9179709-020e-44df-8f00-2adf00366a62",
   "metadata": {
    "execution": {
     "iopub.execute_input": "2024-05-22T20:03:31.425529Z",
     "iopub.status.busy": "2024-05-22T20:03:31.424280Z",
     "iopub.status.idle": "2024-05-22T20:18:54.942153Z",
     "shell.execute_reply": "2024-05-22T20:18:54.941326Z",
     "shell.execute_reply.started": "2024-05-22T20:03:31.425482Z"
    },
    "tags": []
   },
   "outputs": [
    {
     "name": "stderr",
     "output_type": "stream",
     "text": [
      "100%|██████████| 10/10 [15:23<00:00, 92.35s/it] \n"
     ]
    }
   ],
   "source": [
    "from tqdm.auto import tqdm\n",
    "import numpy as np \n",
    "\n",
    "res = []\n",
    "for d in tqdm(np.array_split(df,10)):\n",
    "    z = list(d['review_text'])\n",
    "    p = predict(z)\n",
    "    res.extend(p)"
   ]
  },
  {
   "cell_type": "markdown",
   "id": "22c69be8-8473-4a49-be99-cf4c5151e85c",
   "metadata": {},
   "source": [
    "Для удобства вставим колонку `sentiment` в датасет, но при этом изменим кодирование: будем представлять негативный отзыв цифрой -1."
   ]
  },
  {
   "cell_type": "code",
   "execution_count": 10,
   "id": "47ae1ba9-9425-46d7-88d6-822fcd3027b9",
   "metadata": {
    "execution": {
     "iopub.execute_input": "2024-05-22T20:19:32.617031Z",
     "iopub.status.busy": "2024-05-22T20:19:32.616059Z",
     "iopub.status.idle": "2024-05-22T20:19:32.644731Z",
     "shell.execute_reply": "2024-05-22T20:19:32.643779Z",
     "shell.execute_reply.started": "2024-05-22T20:19:32.616989Z"
    },
    "tags": []
   },
   "outputs": [],
   "source": [
    "df['sentiment'] = pd.Series(res).apply(lambda x: -1 if x==2 else x)"
   ]
  },
  {
   "cell_type": "markdown",
   "id": "a397f302-a542-462b-b70d-06145245b8f7",
   "metadata": {},
   "source": [
    "Запишем получившийся датасет на диск:"
   ]
  },
  {
   "cell_type": "code",
   "execution_count": 11,
   "id": "1a0afc80-12d2-4a5b-8084-4dfceac173bf",
   "metadata": {
    "execution": {
     "iopub.execute_input": "2024-05-22T20:19:34.702180Z",
     "iopub.status.busy": "2024-05-22T20:19:34.701079Z",
     "iopub.status.idle": "2024-05-22T20:19:34.751943Z",
     "shell.execute_reply": "2024-05-22T20:19:34.751201Z",
     "shell.execute_reply.started": "2024-05-22T20:19:34.702135Z"
    }
   },
   "outputs": [],
   "source": [
    "df.to_csv('dataset_with_sentiment.csv',index=False)"
   ]
  },
  {
   "cell_type": "markdown",
   "id": "1a8603eb-ab42-4c7e-81c9-5256894727f0",
   "metadata": {},
   "source": [
    "Теперь можем посмотреть, какие вокзалы самые негативные или позитивные в Москве:"
   ]
  },
  {
   "cell_type": "code",
   "execution_count": 12,
   "id": "e1afca3f-3b69-4d84-961f-95949e3a279b",
   "metadata": {
    "execution": {
     "iopub.execute_input": "2024-05-22T20:19:39.381172Z",
     "iopub.status.busy": "2024-05-22T20:19:39.380153Z",
     "iopub.status.idle": "2024-05-22T20:19:39.413376Z",
     "shell.execute_reply": "2024-05-22T20:19:39.412648Z",
     "shell.execute_reply.started": "2024-05-22T20:19:39.381128Z"
    },
    "tags": []
   },
   "outputs": [
    {
     "data": {
      "text/html": [
       "<div>\n",
       "<style scoped>\n",
       "    .dataframe tbody tr th:only-of-type {\n",
       "        vertical-align: middle;\n",
       "    }\n",
       "\n",
       "    .dataframe tbody tr th {\n",
       "        vertical-align: top;\n",
       "    }\n",
       "\n",
       "    .dataframe thead tr th {\n",
       "        text-align: left;\n",
       "    }\n",
       "\n",
       "    .dataframe thead tr:last-of-type th {\n",
       "        text-align: right;\n",
       "    }\n",
       "</style>\n",
       "<table border=\"1\" class=\"dataframe\">\n",
       "  <thead>\n",
       "    <tr>\n",
       "      <th></th>\n",
       "      <th colspan=\"3\" halign=\"left\">sentiment</th>\n",
       "      <th>review_text</th>\n",
       "    </tr>\n",
       "    <tr>\n",
       "      <th></th>\n",
       "      <th>mean</th>\n",
       "      <th>count_pos</th>\n",
       "      <th>count_neg</th>\n",
       "      <th>count</th>\n",
       "    </tr>\n",
       "    <tr>\n",
       "      <th>station</th>\n",
       "      <th></th>\n",
       "      <th></th>\n",
       "      <th></th>\n",
       "      <th></th>\n",
       "    </tr>\n",
       "  </thead>\n",
       "  <tbody>\n",
       "    <tr>\n",
       "      <th>Belorussky</th>\n",
       "      <td>0.680000</td>\n",
       "      <td>36</td>\n",
       "      <td>2</td>\n",
       "      <td>50</td>\n",
       "    </tr>\n",
       "    <tr>\n",
       "      <th>Kazan</th>\n",
       "      <td>0.647619</td>\n",
       "      <td>143</td>\n",
       "      <td>7</td>\n",
       "      <td>210</td>\n",
       "    </tr>\n",
       "    <tr>\n",
       "      <th>Kursky</th>\n",
       "      <td>0.395000</td>\n",
       "      <td>277</td>\n",
       "      <td>40</td>\n",
       "      <td>600</td>\n",
       "    </tr>\n",
       "    <tr>\n",
       "      <th>Kyiv</th>\n",
       "      <td>0.599332</td>\n",
       "      <td>385</td>\n",
       "      <td>26</td>\n",
       "      <td>599</td>\n",
       "    </tr>\n",
       "    <tr>\n",
       "      <th>Paveletsky</th>\n",
       "      <td>0.540000</td>\n",
       "      <td>27</td>\n",
       "      <td>0</td>\n",
       "      <td>50</td>\n",
       "    </tr>\n",
       "    <tr>\n",
       "      <th>Rizhsky</th>\n",
       "      <td>0.560000</td>\n",
       "      <td>374</td>\n",
       "      <td>38</td>\n",
       "      <td>600</td>\n",
       "    </tr>\n",
       "    <tr>\n",
       "      <th>Savyolovsky</th>\n",
       "      <td>0.480000</td>\n",
       "      <td>29</td>\n",
       "      <td>5</td>\n",
       "      <td>50</td>\n",
       "    </tr>\n",
       "    <tr>\n",
       "      <th>Vostochny</th>\n",
       "      <td>0.618182</td>\n",
       "      <td>71</td>\n",
       "      <td>3</td>\n",
       "      <td>110</td>\n",
       "    </tr>\n",
       "  </tbody>\n",
       "</table>\n",
       "</div>"
      ],
      "text/plain": [
       "            sentiment                     review_text\n",
       "                 mean count_pos count_neg       count\n",
       "station                                              \n",
       "Belorussky   0.680000        36         2          50\n",
       "Kazan        0.647619       143         7         210\n",
       "Kursky       0.395000       277        40         600\n",
       "Kyiv         0.599332       385        26         599\n",
       "Paveletsky   0.540000        27         0          50\n",
       "Rizhsky      0.560000       374        38         600\n",
       "Savyolovsky  0.480000        29         5          50\n",
       "Vostochny    0.618182        71         3         110"
      ]
     },
     "execution_count": 12,
     "metadata": {},
     "output_type": "execute_result"
    }
   ],
   "source": [
    "def count_pos(x):\n",
    "    return x[x==1].count()\n",
    "def count_neg(x):\n",
    "    return x[x==-1].count()\n",
    "\n",
    "\n",
    "df.groupby('station').agg({'sentiment' : ['mean', count_pos, count_neg ], 'review_text': 'count'})"
   ]
  },
  {
   "cell_type": "markdown",
   "id": "8cef2b36-944e-43d6-beca-4bf805729343",
   "metadata": {},
   "source": [
    "В этом месте вы можете остановить виртуальную машину с GPU и перейти на более дешевый вариант **c1.4**"
   ]
  },
  {
   "cell_type": "markdown",
   "id": "59a5ab99-6c07-4434-a75c-9eb64b548d7d",
   "metadata": {
    "tags": []
   },
   "source": [
    "### Используем YandexGPT для извлечение отзывов\n",
    "\n",
    "Попробуем использовать больщую языковую модель для извлечения структурированной информации из текстов отзывов. Для этого нам будет удобно использовать библиотеку [yandex_chain](https://github.com/yandex-datasphere/yandex-chain)."
   ]
  },
  {
   "cell_type": "code",
   "execution_count": 2,
   "id": "fe54ba5e-de9c-46f5-b7bd-cebf26d972bb",
   "metadata": {
    "execution": {
     "iopub.execute_input": "2024-05-22T15:36:31.796160Z",
     "iopub.status.busy": "2024-05-22T15:36:31.795183Z",
     "iopub.status.idle": "2024-05-22T15:36:36.803685Z",
     "shell.execute_reply": "2024-05-22T15:36:36.802872Z",
     "shell.execute_reply.started": "2024-05-22T15:36:31.796113Z"
    },
    "tags": []
   },
   "outputs": [
    {
     "name": "stdout",
     "output_type": "stream",
     "text": [
      "Defaulting to user installation because normal site-packages is not writeable\n",
      "Collecting yandex_chain\n",
      "  Using cached yandex_chain-0.0.7-py3-none-any.whl\n",
      "Requirement already satisfied: requests in /usr/local/lib/python3.10/dist-packages (from yandex_chain) (2.27.1)\n",
      "Requirement already satisfied: langchain==0.1.0 in /home/jupyter/.local/lib/python3.10/site-packages (from yandex_chain) (0.1.0)\n",
      "Requirement already satisfied: tenacity in /usr/local/lib/python3.10/dist-packages (from yandex_chain) (8.2.2)\n",
      "Requirement already satisfied: PyYAML>=5.3 in /usr/local/lib/python3.10/dist-packages (from langchain==0.1.0->yandex_chain) (6.0.1)\n",
      "Requirement already satisfied: SQLAlchemy<3,>=1.4 in /usr/local/lib/python3.10/dist-packages (from langchain==0.1.0->yandex_chain) (2.0.19)\n",
      "Requirement already satisfied: aiohttp<4.0.0,>=3.8.3 in /usr/local/lib/python3.10/dist-packages (from langchain==0.1.0->yandex_chain) (3.8.5)\n",
      "Requirement already satisfied: async-timeout<5.0.0,>=4.0.0 in /usr/local/lib/python3.10/dist-packages (from langchain==0.1.0->yandex_chain) (4.0.2)\n",
      "Requirement already satisfied: dataclasses-json<0.7,>=0.5.7 in /home/jupyter/.local/lib/python3.10/site-packages (from langchain==0.1.0->yandex_chain) (0.6.6)\n",
      "Requirement already satisfied: jsonpatch<2.0,>=1.33 in /home/jupyter/.local/lib/python3.10/site-packages (from langchain==0.1.0->yandex_chain) (1.33)\n",
      "Requirement already satisfied: langchain-community<0.1,>=0.0.9 in /home/jupyter/.local/lib/python3.10/site-packages (from langchain==0.1.0->yandex_chain) (0.0.20)\n",
      "Requirement already satisfied: langchain-core<0.2,>=0.1.7 in /home/jupyter/.local/lib/python3.10/site-packages (from langchain==0.1.0->yandex_chain) (0.1.23)\n",
      "Requirement already satisfied: langsmith<0.1.0,>=0.0.77 in /home/jupyter/.local/lib/python3.10/site-packages (from langchain==0.1.0->yandex_chain) (0.0.87)\n",
      "Requirement already satisfied: numpy<2,>=1 in /usr/local/lib/python3.10/dist-packages (from langchain==0.1.0->yandex_chain) (1.22.4)\n",
      "Requirement already satisfied: pydantic<3,>=1 in /usr/local/lib/python3.10/dist-packages (from langchain==0.1.0->yandex_chain) (1.10.12)\n",
      "Requirement already satisfied: urllib3<1.27,>=1.21.1 in /usr/local/lib/python3.10/dist-packages (from requests->yandex_chain) (1.26.16)\n",
      "Requirement already satisfied: certifi>=2017.4.17 in /usr/local/lib/python3.10/dist-packages (from requests->yandex_chain) (2023.7.22)\n",
      "Requirement already satisfied: charset-normalizer~=2.0.0 in /home/jupyter/.local/lib/python3.10/site-packages (from requests->yandex_chain) (2.0.12)\n",
      "Requirement already satisfied: idna<4,>=2.5 in /usr/local/lib/python3.10/dist-packages (from requests->yandex_chain) (3.4)\n",
      "Requirement already satisfied: attrs>=17.3.0 in /usr/local/lib/python3.10/dist-packages (from aiohttp<4.0.0,>=3.8.3->langchain==0.1.0->yandex_chain) (23.1.0)\n",
      "Requirement already satisfied: multidict<7.0,>=4.5 in /usr/local/lib/python3.10/dist-packages (from aiohttp<4.0.0,>=3.8.3->langchain==0.1.0->yandex_chain) (6.0.4)\n",
      "Requirement already satisfied: yarl<2.0,>=1.0 in /usr/local/lib/python3.10/dist-packages (from aiohttp<4.0.0,>=3.8.3->langchain==0.1.0->yandex_chain) (1.9.2)\n",
      "Requirement already satisfied: frozenlist>=1.1.1 in /usr/local/lib/python3.10/dist-packages (from aiohttp<4.0.0,>=3.8.3->langchain==0.1.0->yandex_chain) (1.4.0)\n",
      "Requirement already satisfied: aiosignal>=1.1.2 in /usr/local/lib/python3.10/dist-packages (from aiohttp<4.0.0,>=3.8.3->langchain==0.1.0->yandex_chain) (1.3.1)\n",
      "Requirement already satisfied: marshmallow<4.0.0,>=3.18.0 in /home/jupyter/.local/lib/python3.10/site-packages (from dataclasses-json<0.7,>=0.5.7->langchain==0.1.0->yandex_chain) (3.21.2)\n",
      "Requirement already satisfied: typing-inspect<1,>=0.4.0 in /home/jupyter/.local/lib/python3.10/site-packages (from dataclasses-json<0.7,>=0.5.7->langchain==0.1.0->yandex_chain) (0.9.0)\n",
      "Requirement already satisfied: jsonpointer>=1.9 in /home/jupyter/.local/lib/python3.10/site-packages (from jsonpatch<2.0,>=1.33->langchain==0.1.0->yandex_chain) (2.4)\n",
      "Requirement already satisfied: anyio<5,>=3 in /usr/local/lib/python3.10/dist-packages (from langchain-core<0.2,>=0.1.7->langchain==0.1.0->yandex_chain) (3.7.1)\n",
      "Requirement already satisfied: packaging<24.0,>=23.2 in /home/jupyter/.local/lib/python3.10/site-packages (from langchain-core<0.2,>=0.1.7->langchain==0.1.0->yandex_chain) (23.2)\n",
      "Requirement already satisfied: typing-extensions>=4.2.0 in /usr/local/lib/python3.10/dist-packages (from pydantic<3,>=1->langchain==0.1.0->yandex_chain) (4.7.1)\n",
      "Requirement already satisfied: greenlet!=0.4.17 in /usr/local/lib/python3.10/dist-packages (from SQLAlchemy<3,>=1.4->langchain==0.1.0->yandex_chain) (2.0.2)\n",
      "Requirement already satisfied: sniffio>=1.1 in /usr/local/lib/python3.10/dist-packages (from anyio<5,>=3->langchain-core<0.2,>=0.1.7->langchain==0.1.0->yandex_chain) (1.3.0)\n",
      "Requirement already satisfied: exceptiongroup in /usr/local/lib/python3.10/dist-packages (from anyio<5,>=3->langchain-core<0.2,>=0.1.7->langchain==0.1.0->yandex_chain) (1.1.2)\n",
      "Requirement already satisfied: mypy-extensions>=0.3.0 in /home/jupyter/.local/lib/python3.10/site-packages (from typing-inspect<1,>=0.4.0->dataclasses-json<0.7,>=0.5.7->langchain==0.1.0->yandex_chain) (1.0.0)\n",
      "Installing collected packages: yandex_chain\n",
      "Successfully installed yandex_chain-0.0.7\n",
      "\n",
      "\u001b[1m[\u001b[0m\u001b[34;49mnotice\u001b[0m\u001b[1;39;49m]\u001b[0m\u001b[39;49m A new release of pip is available: \u001b[0m\u001b[31;49m23.0.1\u001b[0m\u001b[39;49m -> \u001b[0m\u001b[32;49m24.0\u001b[0m\n",
      "\u001b[1m[\u001b[0m\u001b[34;49mnotice\u001b[0m\u001b[1;39;49m]\u001b[0m\u001b[39;49m To update, run: \u001b[0m\u001b[32;49mpython3 -m pip install --upgrade pip\u001b[0m\n"
     ]
    }
   ],
   "source": [
    "%pip install yandex_chain"
   ]
  },
  {
   "cell_type": "markdown",
   "id": "40da2938-14d2-4274-b61e-46e4a316714b",
   "metadata": {},
   "source": [
    "Для работы с YandexGPT, нам потребуются значения `api_key` и `folder_id`. Их надо взять из секретов датасферы."
   ]
  },
  {
   "cell_type": "code",
   "execution_count": 19,
   "id": "cd65bd33-b306-453c-988c-d87880a09d81",
   "metadata": {
    "execution": {
     "iopub.execute_input": "2024-05-22T20:39:29.573199Z",
     "iopub.status.busy": "2024-05-22T20:39:29.572051Z",
     "iopub.status.idle": "2024-05-22T20:39:29.584284Z",
     "shell.execute_reply": "2024-05-22T20:39:29.583626Z",
     "shell.execute_reply.started": "2024-05-22T20:39:29.573158Z"
    },
    "tags": []
   },
   "outputs": [],
   "source": [
    "folder_id = \"b1gst3c7cskk2big5fqn\"\n",
    "api_key = \"AQVN0-FV0kOBiKSo26Wi-jZCLPPoOdyBjGHs3pXV\""
   ]
  },
  {
   "cell_type": "markdown",
   "id": "ed3ce532-2864-4f49-99c4-20832cd1c6dc",
   "metadata": {},
   "source": [
    "Создадим объект YandexGPT и проверим, как он работает:"
   ]
  },
  {
   "cell_type": "code",
   "execution_count": 23,
   "id": "95e05049-8b1c-4a00-8ef4-665fdbc35968",
   "metadata": {
    "execution": {
     "iopub.execute_input": "2024-05-22T21:21:39.278779Z",
     "iopub.status.busy": "2024-05-22T21:21:39.277707Z",
     "iopub.status.idle": "2024-05-22T21:21:41.195414Z",
     "shell.execute_reply": "2024-05-22T21:21:41.194598Z",
     "shell.execute_reply.started": "2024-05-22T21:21:39.278736Z"
    },
    "tags": []
   },
   "outputs": [
    {
     "data": {
      "text/plain": [
       "'Программисту на ушко:\\n\\n— Я слышал в JSON всё-таки внедрили поддержку кириллицы!\\n— О, тогда мне больше не нужно писать эти огромные комментарии для заказчиков на английском! Поддерживает же!'"
      ]
     },
     "execution_count": 23,
     "metadata": {},
     "output_type": "execute_result"
    }
   ],
   "source": [
    "from yandex_chain import YandexLLM, YandexGPTModel\n",
    "LLM = YandexLLM(model=YandexGPTModel.Pro, folder_id=folder_id, api_key=api_key)\n",
    "\n",
    "LLM.invoke(\"Расскажи анекдот про JSON и XML\")"
   ]
  },
  {
   "cell_type": "markdown",
   "id": "e748bd9b-0e9f-436f-b1b7-fa7e46f69c4b",
   "metadata": {},
   "source": [
    "Для обработки выберем по 10 записей из каждого вокзала:"
   ]
  },
  {
   "cell_type": "code",
   "execution_count": 24,
   "id": "305d3630-4f00-46f9-9312-56b18d63868a",
   "metadata": {
    "execution": {
     "iopub.execute_input": "2024-05-22T21:21:45.294874Z",
     "iopub.status.busy": "2024-05-22T21:21:45.293878Z",
     "iopub.status.idle": "2024-05-22T21:21:45.353639Z",
     "shell.execute_reply": "2024-05-22T21:21:45.352741Z",
     "shell.execute_reply.started": "2024-05-22T21:21:45.294834Z"
    },
    "tags": []
   },
   "outputs": [
    {
     "data": {
      "text/html": [
       "<div>\n",
       "<style scoped>\n",
       "    .dataframe tbody tr th:only-of-type {\n",
       "        vertical-align: middle;\n",
       "    }\n",
       "\n",
       "    .dataframe tbody tr th {\n",
       "        vertical-align: top;\n",
       "    }\n",
       "\n",
       "    .dataframe thead th {\n",
       "        text-align: right;\n",
       "    }\n",
       "</style>\n",
       "<table border=\"1\" class=\"dataframe\">\n",
       "  <thead>\n",
       "    <tr style=\"text-align: right;\">\n",
       "      <th></th>\n",
       "      <th>id</th>\n",
       "      <th>dislike</th>\n",
       "      <th>like</th>\n",
       "      <th>review_text</th>\n",
       "      <th>author</th>\n",
       "      <th>review_rating</th>\n",
       "      <th>datetime</th>\n",
       "      <th>station</th>\n",
       "      <th>sentiment</th>\n",
       "    </tr>\n",
       "  </thead>\n",
       "  <tbody>\n",
       "    <tr>\n",
       "      <th>0</th>\n",
       "      <td>1262</td>\n",
       "      <td>2</td>\n",
       "      <td>16</td>\n",
       "      <td>Обожаю вокзал, из всех вокзалов , обладает так...</td>\n",
       "      <td>Алекс</td>\n",
       "      <td>5</td>\n",
       "      <td>2023-04-22T16:43:05.097Z</td>\n",
       "      <td>Belorussky</td>\n",
       "      <td>1</td>\n",
       "    </tr>\n",
       "    <tr>\n",
       "      <th>1</th>\n",
       "      <td>1283</td>\n",
       "      <td>0</td>\n",
       "      <td>6</td>\n",
       "      <td>Большой просторный, красивый вокзал. Зал ожида...</td>\n",
       "      <td>Мария Рыжкова</td>\n",
       "      <td>5</td>\n",
       "      <td>2024-01-20T08:19:35.208Z</td>\n",
       "      <td>Belorussky</td>\n",
       "      <td>1</td>\n",
       "    </tr>\n",
       "    <tr>\n",
       "      <th>2</th>\n",
       "      <td>1279</td>\n",
       "      <td>0</td>\n",
       "      <td>0</td>\n",
       "      <td>Один из красивых вокзалов, г. Москвы, \\nХороше...</td>\n",
       "      <td>Лекс</td>\n",
       "      <td>5</td>\n",
       "      <td>2023-11-04T12:49:54.572Z</td>\n",
       "      <td>Belorussky</td>\n",
       "      <td>1</td>\n",
       "    </tr>\n",
       "    <tr>\n",
       "      <th>3</th>\n",
       "      <td>1300</td>\n",
       "      <td>7</td>\n",
       "      <td>21</td>\n",
       "      <td>Удобно расположен, есть камеры хранения, возмо...</td>\n",
       "      <td>Люси</td>\n",
       "      <td>5</td>\n",
       "      <td>2023-04-05T23:12:23.159Z</td>\n",
       "      <td>Belorussky</td>\n",
       "      <td>0</td>\n",
       "    </tr>\n",
       "    <tr>\n",
       "      <th>4</th>\n",
       "      <td>1291</td>\n",
       "      <td>2</td>\n",
       "      <td>7</td>\n",
       "      <td>Красивое, атмосферное место, а ещё и функциона...</td>\n",
       "      <td>Светлана Смирнова</td>\n",
       "      <td>5</td>\n",
       "      <td>2024-02-13T12:34:33.803Z</td>\n",
       "      <td>Belorussky</td>\n",
       "      <td>1</td>\n",
       "    </tr>\n",
       "    <tr>\n",
       "      <th>...</th>\n",
       "      <td>...</td>\n",
       "      <td>...</td>\n",
       "      <td>...</td>\n",
       "      <td>...</td>\n",
       "      <td>...</td>\n",
       "      <td>...</td>\n",
       "      <td>...</td>\n",
       "      <td>...</td>\n",
       "      <td>...</td>\n",
       "    </tr>\n",
       "    <tr>\n",
       "      <th>75</th>\n",
       "      <td>2198</td>\n",
       "      <td>0</td>\n",
       "      <td>0</td>\n",
       "      <td>Небольшой вокзал на востоке столицы, с удобной...</td>\n",
       "      <td>Андрей Кочкин</td>\n",
       "      <td>4</td>\n",
       "      <td>2024-01-06T09:36:59.239Z</td>\n",
       "      <td>Vostochny</td>\n",
       "      <td>0</td>\n",
       "    </tr>\n",
       "    <tr>\n",
       "      <th>76</th>\n",
       "      <td>2175</td>\n",
       "      <td>0</td>\n",
       "      <td>0</td>\n",
       "      <td>Вокзал свежий,но очень маленький.Иногда большо...</td>\n",
       "      <td>Анна Тихонова</td>\n",
       "      <td>4</td>\n",
       "      <td>2024-01-20T12:28:08.435Z</td>\n",
       "      <td>Vostochny</td>\n",
       "      <td>0</td>\n",
       "    </tr>\n",
       "    <tr>\n",
       "      <th>77</th>\n",
       "      <td>2270</td>\n",
       "      <td>0</td>\n",
       "      <td>3</td>\n",
       "      <td>Очень приятный новый вокзал! Разобраться сложн...</td>\n",
       "      <td>Наталья Байбакова</td>\n",
       "      <td>5</td>\n",
       "      <td>2023-12-24T13:10:29.484Z</td>\n",
       "      <td>Vostochny</td>\n",
       "      <td>1</td>\n",
       "    </tr>\n",
       "    <tr>\n",
       "      <th>78</th>\n",
       "      <td>2180</td>\n",
       "      <td>1</td>\n",
       "      <td>0</td>\n",
       "      <td>Посещал данный вокзал, из преимуществ, есть по...</td>\n",
       "      <td>Tomm</td>\n",
       "      <td>5</td>\n",
       "      <td>2023-10-29T11:07:27.166Z</td>\n",
       "      <td>Vostochny</td>\n",
       "      <td>1</td>\n",
       "    </tr>\n",
       "    <tr>\n",
       "      <th>79</th>\n",
       "      <td>2202</td>\n",
       "      <td>1</td>\n",
       "      <td>0</td>\n",
       "      <td>Хороший вокзал, я бываю на нем чаще всего. Ест...</td>\n",
       "      <td>sasha z</td>\n",
       "      <td>4</td>\n",
       "      <td>2024-01-16T08:51:13.009Z</td>\n",
       "      <td>Vostochny</td>\n",
       "      <td>1</td>\n",
       "    </tr>\n",
       "  </tbody>\n",
       "</table>\n",
       "<p>80 rows × 9 columns</p>\n",
       "</div>"
      ],
      "text/plain": [
       "      id  dislike  like  ...                  datetime     station  sentiment\n",
       "0   1262        2    16  ...  2023-04-22T16:43:05.097Z  Belorussky          1\n",
       "1   1283        0     6  ...  2024-01-20T08:19:35.208Z  Belorussky          1\n",
       "2   1279        0     0  ...  2023-11-04T12:49:54.572Z  Belorussky          1\n",
       "3   1300        7    21  ...  2023-04-05T23:12:23.159Z  Belorussky          0\n",
       "4   1291        2     7  ...  2024-02-13T12:34:33.803Z  Belorussky          1\n",
       "..   ...      ...   ...  ...                       ...         ...        ...\n",
       "75  2198        0     0  ...  2024-01-06T09:36:59.239Z   Vostochny          0\n",
       "76  2175        0     0  ...  2024-01-20T12:28:08.435Z   Vostochny          0\n",
       "77  2270        0     3  ...  2023-12-24T13:10:29.484Z   Vostochny          1\n",
       "78  2180        1     0  ...  2023-10-29T11:07:27.166Z   Vostochny          1\n",
       "79  2202        1     0  ...  2024-01-16T08:51:13.009Z   Vostochny          1\n",
       "\n",
       "[80 rows x 9 columns]"
      ]
     },
     "execution_count": 24,
     "metadata": {},
     "output_type": "execute_result"
    }
   ],
   "source": [
    "import pandas as pd\n",
    "\n",
    "df = pd.read_csv('dataset_with_sentiment.csv')\n",
    "df_sample = df.groupby('station').apply(lambda x: x.sample(10)).reset_index(drop=True)\n",
    "df_sample"
   ]
  },
  {
   "cell_type": "markdown",
   "id": "1c0d8087-3135-4258-835d-9b2a9c885080",
   "metadata": {},
   "source": [
    "Попробуем выделить смысл из текста отзыва. Для примера выберем три аспекта отзывов: транспортная доступность вокзала, его чистота и точность хождения поездов. По каждому из этих аспектов попробуем выделить оценку, также в целом положительные и отрицательные моменты, и список тегов, о чем этот отзыв."
   ]
  },
  {
   "cell_type": "code",
   "execution_count": 25,
   "id": "81bcfcaa-c4d8-46cc-9a34-d93a3a6e4a3a",
   "metadata": {
    "execution": {
     "iopub.execute_input": "2024-05-22T21:21:48.997023Z",
     "iopub.status.busy": "2024-05-22T21:21:48.995984Z",
     "iopub.status.idle": "2024-05-22T21:21:50.922131Z",
     "shell.execute_reply": "2024-05-22T21:21:50.921024Z",
     "shell.execute_reply.started": "2024-05-22T21:21:48.996989Z"
    },
    "tags": []
   },
   "outputs": [
    {
     "name": "stdout",
     "output_type": "stream",
     "text": [
      "Очень красивое место, вежливый персонал.\n",
      "Ездила на поезде из Москвы в Беларусь, комфортно, белье чистое, тепло, можно с животными. Дают горячий чай прям в постель, можно даже не переутруждаться, там о вВс и вашем комфорте позаботиться квалифицированные сотрудники.\n"
     ]
    },
    {
     "data": {
      "text/plain": [
       "'{\\n  \"sentiment\": \"positive\",\\n  \"transport\": 0,\\n  \"cleanliness\": 5,\\n  \"schedule\": 0, \\n  \"positive\": [\"очень красивое место\", \"вежливый персонал\", \"комфортно\", \"чистое бельё\", \"тепло\", \"квалифицированные сотрудники\"],\\n  \"negative\": [],\\n  \"tags\": []\\n}'"
      ]
     },
     "execution_count": 25,
     "metadata": {},
     "output_type": "execute_result"
    }
   ],
   "source": [
    "prompt = \"\"\"\n",
    "Прочитай следующий отзыв о вокзале в тройных обратных кавычках: ````{}```.\n",
    "Из этого отзыва тебе необходимо выделить следующую информацию:\n",
    "* sentiment - этот отзыв позитивный (positive), негативный (negative) или нейтральный (neutral)\n",
    "* transport - транспортная доступность вокзала, по шкале 1..5, если об это говорится в отзыве. Если нет - 0\n",
    "* cleanliness - чистота вокзала, по шкале 1..5, если об это говорится в отзыве. Если нет - 0\n",
    "* schedule - точность хождения поездов, по шкале 1..5, если об это говорится в отзыве. Если нет - 0\n",
    "* positive - краткий список позитивных моментов из отзыва\n",
    "* negative - краткий список негативных моментов из отзыва\n",
    "* tags - краткий список тегов, о чем этот отзыв, например: cleanliness, transport, trains\n",
    "Результат необходимо вернуть в формате JSON такого вида:\n",
    "{{\n",
    "  \"sentiment\" : \"...\",\n",
    "  \"transport\" : ...,\n",
    "  \"cleanliness\" : ...,\n",
    "  \"schedule\" : ...,\n",
    "  \"positive\" : [\"...\", ...],\n",
    "  \"negative\" : [\"...\", ...],\n",
    "  \"tags\" : [\"...\"]\n",
    "}}\n",
    "\"\"\"\n",
    "\n",
    "txt = df['review_text'].iloc[0]\n",
    "print(txt)\n",
    "res = LLM.invoke(prompt.format(txt))\n",
    "res"
   ]
  },
  {
   "cell_type": "markdown",
   "id": "f51045ba-4916-4855-be47-6eaf907a499e",
   "metadata": {},
   "source": [
    "Поскольку возврат результата в формате JSON не гарантируется, попробуем использовать JsonOutputParser из библиотки LangChain для выделения результата в формате JSON. Но в дальнейшем если будут возникать ошибки парсинга - мы будет просто игнорировать такие строки."
   ]
  },
  {
   "cell_type": "code",
   "execution_count": 26,
   "id": "6bc4eca0-a9f5-4619-a630-4a12ddb7fb60",
   "metadata": {
    "execution": {
     "iopub.execute_input": "2024-05-22T21:21:54.449086Z",
     "iopub.status.busy": "2024-05-22T21:21:54.447922Z",
     "iopub.status.idle": "2024-05-22T21:21:57.158601Z",
     "shell.execute_reply": "2024-05-22T21:21:57.157850Z",
     "shell.execute_reply.started": "2024-05-22T21:21:54.449036Z"
    },
    "tags": []
   },
   "outputs": [
    {
     "name": "stdout",
     "output_type": "stream",
     "text": [
      "Очень красивое место, вежливый персонал.\n",
      "Ездила на поезде из Москвы в Беларусь, комфортно, белье чистое, тепло, можно с животными. Дают горячий чай прям в постель, можно даже не переутруждаться, там о вВс и вашем комфорте позаботиться квалифицированные сотрудники.\n"
     ]
    },
    {
     "data": {
      "text/plain": [
       "{'sentiment': 'positive',\n",
       " 'transport': 0,\n",
       " 'cleanliness': 1,\n",
       " 'schedule': 0,\n",
       " 'positive': ['вежливый персонал',\n",
       "  'комфортно',\n",
       "  'чистое бельё',\n",
       "  'тепло',\n",
       "  'квалифицированные сотрудники'],\n",
       " 'negative': [],\n",
       " 'tags': []}"
      ]
     },
     "execution_count": 26,
     "metadata": {},
     "output_type": "execute_result"
    }
   ],
   "source": [
    "from langchain_core.output_parsers import JsonOutputParser\n",
    "jop = JsonOutputParser()\n",
    "\n",
    "txt = df['review_text'].iloc[0]\n",
    "print(txt)\n",
    "res = jop.parse(LLM.invoke(prompt.format(txt)).replace('\\'','\"'))\n",
    "res"
   ]
  },
  {
   "cell_type": "markdown",
   "id": "59fb9473-45f3-4c70-ac2d-14d10ecb5cf0",
   "metadata": {},
   "source": [
    "Сохраним колонку `sentiment`, распознанную моделью HuggingFace."
   ]
  },
  {
   "cell_type": "code",
   "execution_count": 27,
   "id": "43eaee49-bc55-480b-aee1-4a17b94ea86d",
   "metadata": {
    "execution": {
     "iopub.execute_input": "2024-05-22T21:21:57.161194Z",
     "iopub.status.busy": "2024-05-22T21:21:57.160047Z",
     "iopub.status.idle": "2024-05-22T21:21:57.172837Z",
     "shell.execute_reply": "2024-05-22T21:21:57.172101Z",
     "shell.execute_reply.started": "2024-05-22T21:21:57.161154Z"
    },
    "tags": []
   },
   "outputs": [],
   "source": [
    "pmap = { -1 : 'negative', 0 : 'neutral', 1 : 'positive' }\n",
    "df_sample['hf_sentiment'] = df_sample['sentiment'].apply(lambda x: pmap[x])\n",
    "df_sample.drop(columns=['sentiment'],inplace=True)"
   ]
  },
  {
   "cell_type": "markdown",
   "id": "e3edfeb7-5f28-4dac-b6e1-35b8befc0889",
   "metadata": {},
   "source": [
    "Теперь пройдёмся по всем строкам таблицы и извлечём информацию с помощью LLM:"
   ]
  },
  {
   "cell_type": "code",
   "execution_count": 42,
   "id": "4a7b2ed4-86be-4014-9e20-c6fc7c4a7621",
   "metadata": {
    "execution": {
     "iopub.execute_input": "2024-05-22T21:41:49.801323Z",
     "iopub.status.busy": "2024-05-22T21:41:49.800123Z",
     "iopub.status.idle": "2024-05-22T21:41:58.312334Z",
     "shell.execute_reply": "2024-05-22T21:41:58.311049Z",
     "shell.execute_reply.started": "2024-05-22T21:41:49.801275Z"
    },
    "tags": []
   },
   "outputs": [
    {
     "name": "stderr",
     "output_type": "stream",
     "text": [
      "1it [00:02,  2.06s/it]"
     ]
    },
    {
     "name": "stdout",
     "output_type": "stream",
     "text": [
      "positive\n",
      "3\n",
      "0\n",
      "0\n",
      "['уникальная история вокзала', 'интересная архитектура', 'активное обновление вокзала', 'аэропоезд Ласточка']\n",
      "[]\n",
      "['вокзал', 'Ласточка']\n"
     ]
    },
    {
     "name": "stderr",
     "output_type": "stream",
     "text": [
      "2it [00:04,  2.14s/it]"
     ]
    },
    {
     "name": "stdout",
     "output_type": "stream",
     "text": [
      "positive\n",
      "1\n",
      "0\n",
      "0\n",
      "['большой просторный уютный вокзал', 'зал ожидания уютнее, чем на других вокзалах города', 'экспресс электрички до аэропортов', 'удобное расположение в центре города', 'рядом метро Белорусская']\n",
      "[]\n",
      "['вокзал']\n"
     ]
    },
    {
     "name": "stderr",
     "output_type": "stream",
     "text": [
      "3it [00:06,  2.05s/it]"
     ]
    },
    {
     "name": "stdout",
     "output_type": "stream",
     "text": [
      "positive\n",
      "1\n",
      "0\n",
      "0\n",
      "['красивый', 'хорошее расположение', 'удобная транспортная доступность', 'есть где покушать']\n",
      "[]\n",
      "['вокзал', 'транспортная доступность']\n"
     ]
    },
    {
     "name": "stderr",
     "output_type": "stream",
     "text": [
      "3it [00:08,  2.83s/it]\n"
     ]
    },
    {
     "ename": "YException",
     "evalue": "Error calling YandexGPT after 3 retries. Result returned:\n{'error': {'grpcCode': 8, 'httpCode': 429, 'message': 'ai.textGenerationCompletionRequestsPerHour.rate rate quota limit exceed: allowed 100 requests', 'httpStatus': 'Too Many Requests', 'details': []}}",
     "output_type": "error",
     "traceback": [
      "\u001b[0;31m---------------------------------------------------------------------------\u001b[0m",
      "\u001b[0;31mYException\u001b[0m                                Traceback (most recent call last)",
      "\u001b[0;32m~/.local/lib/python3.10/site-packages/yandex_chain/YandexGPT.py\u001b[0m in \u001b[0;36m_generate_messages\u001b[0;34m(self, messages, stop, run_manager, return_message)\u001b[0m\n\u001b[1;32m    122\u001b[0m                         \u001b[0;32mreturn\u001b[0m \u001b[0mres\u001b[0m\u001b[0;34m[\u001b[0m\u001b[0;34m'alternatives'\u001b[0m\u001b[0;34m]\u001b[0m\u001b[0;34m[\u001b[0m\u001b[0;36m0\u001b[0m\u001b[0;34m]\u001b[0m\u001b[0;34m[\u001b[0m\u001b[0;34m'message'\u001b[0m\u001b[0;34m]\u001b[0m \u001b[0;32mif\u001b[0m \u001b[0mreturn_message\u001b[0m \u001b[0;32melse\u001b[0m \u001b[0mres\u001b[0m\u001b[0;34m[\u001b[0m\u001b[0;34m'alternatives'\u001b[0m\u001b[0;34m]\u001b[0m\u001b[0;34m[\u001b[0m\u001b[0;36m0\u001b[0m\u001b[0;34m]\u001b[0m\u001b[0;34m[\u001b[0m\u001b[0;34m'message'\u001b[0m\u001b[0;34m]\u001b[0m\u001b[0;34m[\u001b[0m\u001b[0;34m'text'\u001b[0m\u001b[0;34m]\u001b[0m\u001b[0;34m\u001b[0m\u001b[0;34m\u001b[0m\u001b[0m\n\u001b[0;32m--> 123\u001b[0;31m                     \u001b[0;32mraise\u001b[0m \u001b[0mYException\u001b[0m\u001b[0;34m(\u001b[0m\u001b[0;34mf\"Cannot process YandexGPT request, result received: {js}\"\u001b[0m\u001b[0;34m)\u001b[0m\u001b[0;34m\u001b[0m\u001b[0;34m\u001b[0m\u001b[0m\n\u001b[0m\u001b[1;32m    124\u001b[0m         \u001b[0;32mexcept\u001b[0m \u001b[0mRetryError\u001b[0m\u001b[0;34m:\u001b[0m\u001b[0;34m\u001b[0m\u001b[0;34m\u001b[0m\u001b[0m\n",
      "\u001b[0;31mYException\u001b[0m: Cannot process YandexGPT request, result received: {'error': {'grpcCode': 8, 'httpCode': 429, 'message': 'ai.textGenerationCompletionRequestsPerHour.rate rate quota limit exceed: allowed 100 requests', 'httpStatus': 'Too Many Requests', 'details': []}}",
      "\nThe above exception was the direct cause of the following exception:\n",
      "\u001b[0;31mRetryError\u001b[0m                                Traceback (most recent call last)",
      "\u001b[0;32m~/.local/lib/python3.10/site-packages/yandex_chain/YandexGPT.py\u001b[0m in \u001b[0;36m_generate_messages\u001b[0;34m(self, messages, stop, run_manager, return_message)\u001b[0m\n\u001b[1;32m    110\u001b[0m         \u001b[0;32mtry\u001b[0m\u001b[0;34m:\u001b[0m\u001b[0;34m\u001b[0m\u001b[0;34m\u001b[0m\u001b[0m\n\u001b[0;32m--> 111\u001b[0;31m             \u001b[0;32mfor\u001b[0m \u001b[0mattempt\u001b[0m \u001b[0;32min\u001b[0m \u001b[0mRetrying\u001b[0m\u001b[0;34m(\u001b[0m\u001b[0mstop\u001b[0m\u001b[0;34m=\u001b[0m\u001b[0mstop_after_attempt\u001b[0m\u001b[0;34m(\u001b[0m\u001b[0mself\u001b[0m\u001b[0;34m.\u001b[0m\u001b[0mretries\u001b[0m\u001b[0;34m)\u001b[0m\u001b[0;34m,\u001b[0m\u001b[0mwait\u001b[0m\u001b[0;34m=\u001b[0m\u001b[0mwait_fixed\u001b[0m\u001b[0;34m(\u001b[0m\u001b[0mself\u001b[0m\u001b[0;34m.\u001b[0m\u001b[0msleep_interval\u001b[0m\u001b[0;34m)\u001b[0m\u001b[0;34m)\u001b[0m\u001b[0;34m:\u001b[0m\u001b[0;34m\u001b[0m\u001b[0;34m\u001b[0m\u001b[0m\n\u001b[0m\u001b[1;32m    112\u001b[0m                 \u001b[0;32mwith\u001b[0m \u001b[0mattempt\u001b[0m\u001b[0;34m:\u001b[0m\u001b[0;34m\u001b[0m\u001b[0;34m\u001b[0m\u001b[0m\n",
      "\u001b[0;32m/usr/local/lib/python3.10/dist-packages/tenacity/__init__.py\u001b[0m in \u001b[0;36m__iter__\u001b[0;34m(self)\u001b[0m\n\u001b[1;32m    346\u001b[0m         \u001b[0;32mwhile\u001b[0m \u001b[0;32mTrue\u001b[0m\u001b[0;34m:\u001b[0m\u001b[0;34m\u001b[0m\u001b[0;34m\u001b[0m\u001b[0m\n\u001b[0;32m--> 347\u001b[0;31m             \u001b[0mdo\u001b[0m \u001b[0;34m=\u001b[0m \u001b[0mself\u001b[0m\u001b[0;34m.\u001b[0m\u001b[0miter\u001b[0m\u001b[0;34m(\u001b[0m\u001b[0mretry_state\u001b[0m\u001b[0;34m=\u001b[0m\u001b[0mretry_state\u001b[0m\u001b[0;34m)\u001b[0m\u001b[0;34m\u001b[0m\u001b[0;34m\u001b[0m\u001b[0m\n\u001b[0m\u001b[1;32m    348\u001b[0m             \u001b[0;32mif\u001b[0m \u001b[0misinstance\u001b[0m\u001b[0;34m(\u001b[0m\u001b[0mdo\u001b[0m\u001b[0;34m,\u001b[0m \u001b[0mDoAttempt\u001b[0m\u001b[0;34m)\u001b[0m\u001b[0;34m:\u001b[0m\u001b[0;34m\u001b[0m\u001b[0;34m\u001b[0m\u001b[0m\n",
      "\u001b[0;32m/usr/local/lib/python3.10/dist-packages/tenacity/__init__.py\u001b[0m in \u001b[0;36miter\u001b[0;34m(self, retry_state)\u001b[0m\n\u001b[1;32m    325\u001b[0m                 \u001b[0;32mraise\u001b[0m \u001b[0mretry_exc\u001b[0m\u001b[0;34m.\u001b[0m\u001b[0mreraise\u001b[0m\u001b[0;34m(\u001b[0m\u001b[0;34m)\u001b[0m\u001b[0;34m\u001b[0m\u001b[0;34m\u001b[0m\u001b[0m\n\u001b[0;32m--> 326\u001b[0;31m             \u001b[0;32mraise\u001b[0m \u001b[0mretry_exc\u001b[0m \u001b[0;32mfrom\u001b[0m \u001b[0mfut\u001b[0m\u001b[0;34m.\u001b[0m\u001b[0mexception\u001b[0m\u001b[0;34m(\u001b[0m\u001b[0;34m)\u001b[0m\u001b[0;34m\u001b[0m\u001b[0;34m\u001b[0m\u001b[0m\n\u001b[0m\u001b[1;32m    327\u001b[0m \u001b[0;34m\u001b[0m\u001b[0m\n",
      "\u001b[0;31mRetryError\u001b[0m: RetryError[<Future at 0x7fb40ddc2dd0 state=finished raised YException>]",
      "\nDuring handling of the above exception, another exception occurred:\n",
      "\u001b[0;31mYException\u001b[0m                                Traceback (most recent call last)",
      "\u001b[0;32m/tmp/ipykernel_6879/3161614338.py\u001b[0m in \u001b[0;36m<cell line: 14>\u001b[0;34m()\u001b[0m\n\u001b[1;32m     15\u001b[0m     \u001b[0mtxt\u001b[0m \u001b[0;34m=\u001b[0m \u001b[0mr\u001b[0m\u001b[0;34m[\u001b[0m\u001b[0;34m'review_text'\u001b[0m\u001b[0;34m]\u001b[0m\u001b[0;34m\u001b[0m\u001b[0;34m\u001b[0m\u001b[0m\n\u001b[1;32m     16\u001b[0m     \u001b[0;32mtry\u001b[0m\u001b[0;34m:\u001b[0m\u001b[0;34m\u001b[0m\u001b[0;34m\u001b[0m\u001b[0m\n\u001b[0;32m---> 17\u001b[0;31m         \u001b[0mres\u001b[0m \u001b[0;34m=\u001b[0m \u001b[0mjop\u001b[0m\u001b[0;34m.\u001b[0m\u001b[0mparse\u001b[0m\u001b[0;34m(\u001b[0m\u001b[0mLLM\u001b[0m\u001b[0;34m.\u001b[0m\u001b[0minvoke\u001b[0m\u001b[0;34m(\u001b[0m\u001b[0mprompt\u001b[0m\u001b[0;34m.\u001b[0m\u001b[0mformat\u001b[0m\u001b[0;34m(\u001b[0m\u001b[0mtxt\u001b[0m\u001b[0;34m)\u001b[0m\u001b[0;34m)\u001b[0m\u001b[0;34m.\u001b[0m\u001b[0mreplace\u001b[0m\u001b[0;34m(\u001b[0m\u001b[0;34m'\\''\u001b[0m\u001b[0;34m,\u001b[0m\u001b[0;34m'\"'\u001b[0m\u001b[0;34m)\u001b[0m\u001b[0;34m)\u001b[0m\u001b[0;34m\u001b[0m\u001b[0;34m\u001b[0m\u001b[0m\n\u001b[0m\u001b[1;32m     18\u001b[0m         \u001b[0;32mfor\u001b[0m \u001b[0mf\u001b[0m \u001b[0;32min\u001b[0m \u001b[0;34m[\u001b[0m\u001b[0;34m\"sentiment\"\u001b[0m\u001b[0;34m,\u001b[0m\u001b[0;34m\"transport\"\u001b[0m\u001b[0;34m,\u001b[0m\u001b[0;34m\"cleanliness\"\u001b[0m\u001b[0;34m,\u001b[0m \u001b[0;34m\"schedule\"\u001b[0m\u001b[0;34m,\u001b[0m \u001b[0;34m\"positive\"\u001b[0m\u001b[0;34m,\u001b[0m \u001b[0;34m\"negative\"\u001b[0m\u001b[0;34m,\u001b[0m \u001b[0;34m\"tags\"\u001b[0m\u001b[0;34m]\u001b[0m\u001b[0;34m:\u001b[0m\u001b[0;34m\u001b[0m\u001b[0;34m\u001b[0m\u001b[0m\n\u001b[1;32m     19\u001b[0m             \u001b[0mprint\u001b[0m\u001b[0;34m(\u001b[0m\u001b[0mres\u001b[0m\u001b[0;34m[\u001b[0m\u001b[0mf\u001b[0m\u001b[0;34m]\u001b[0m\u001b[0;34m)\u001b[0m\u001b[0;34m\u001b[0m\u001b[0;34m\u001b[0m\u001b[0m\n",
      "\u001b[0;32m~/.local/lib/python3.10/site-packages/langchain_core/language_models/llms.py\u001b[0m in \u001b[0;36minvoke\u001b[0;34m(self, input, config, stop, **kwargs)\u001b[0m\n\u001b[1;32m    271\u001b[0m         \u001b[0mconfig\u001b[0m \u001b[0;34m=\u001b[0m \u001b[0mensure_config\u001b[0m\u001b[0;34m(\u001b[0m\u001b[0mconfig\u001b[0m\u001b[0;34m)\u001b[0m\u001b[0;34m\u001b[0m\u001b[0;34m\u001b[0m\u001b[0m\n\u001b[1;32m    272\u001b[0m         return (\n\u001b[0;32m--> 273\u001b[0;31m             self.generate_prompt(\n\u001b[0m\u001b[1;32m    274\u001b[0m                 \u001b[0;34m[\u001b[0m\u001b[0mself\u001b[0m\u001b[0;34m.\u001b[0m\u001b[0m_convert_input\u001b[0m\u001b[0;34m(\u001b[0m\u001b[0minput\u001b[0m\u001b[0;34m)\u001b[0m\u001b[0;34m]\u001b[0m\u001b[0;34m,\u001b[0m\u001b[0;34m\u001b[0m\u001b[0;34m\u001b[0m\u001b[0m\n\u001b[1;32m    275\u001b[0m                 \u001b[0mstop\u001b[0m\u001b[0;34m=\u001b[0m\u001b[0mstop\u001b[0m\u001b[0;34m,\u001b[0m\u001b[0;34m\u001b[0m\u001b[0;34m\u001b[0m\u001b[0m\n",
      "\u001b[0;32m~/.local/lib/python3.10/site-packages/langchain_core/language_models/llms.py\u001b[0m in \u001b[0;36mgenerate_prompt\u001b[0;34m(self, prompts, stop, callbacks, **kwargs)\u001b[0m\n\u001b[1;32m    566\u001b[0m     ) -> LLMResult:\n\u001b[1;32m    567\u001b[0m         \u001b[0mprompt_strings\u001b[0m \u001b[0;34m=\u001b[0m \u001b[0;34m[\u001b[0m\u001b[0mp\u001b[0m\u001b[0;34m.\u001b[0m\u001b[0mto_string\u001b[0m\u001b[0;34m(\u001b[0m\u001b[0;34m)\u001b[0m \u001b[0;32mfor\u001b[0m \u001b[0mp\u001b[0m \u001b[0;32min\u001b[0m \u001b[0mprompts\u001b[0m\u001b[0;34m]\u001b[0m\u001b[0;34m\u001b[0m\u001b[0;34m\u001b[0m\u001b[0m\n\u001b[0;32m--> 568\u001b[0;31m         \u001b[0;32mreturn\u001b[0m \u001b[0mself\u001b[0m\u001b[0;34m.\u001b[0m\u001b[0mgenerate\u001b[0m\u001b[0;34m(\u001b[0m\u001b[0mprompt_strings\u001b[0m\u001b[0;34m,\u001b[0m \u001b[0mstop\u001b[0m\u001b[0;34m=\u001b[0m\u001b[0mstop\u001b[0m\u001b[0;34m,\u001b[0m \u001b[0mcallbacks\u001b[0m\u001b[0;34m=\u001b[0m\u001b[0mcallbacks\u001b[0m\u001b[0;34m,\u001b[0m \u001b[0;34m**\u001b[0m\u001b[0mkwargs\u001b[0m\u001b[0;34m)\u001b[0m\u001b[0;34m\u001b[0m\u001b[0;34m\u001b[0m\u001b[0m\n\u001b[0m\u001b[1;32m    569\u001b[0m \u001b[0;34m\u001b[0m\u001b[0m\n\u001b[1;32m    570\u001b[0m     async def agenerate_prompt(\n",
      "\u001b[0;32m~/.local/lib/python3.10/site-packages/langchain_core/language_models/llms.py\u001b[0m in \u001b[0;36mgenerate\u001b[0;34m(self, prompts, stop, callbacks, tags, metadata, run_name, **kwargs)\u001b[0m\n\u001b[1;32m    739\u001b[0m                 )\n\u001b[1;32m    740\u001b[0m             ]\n\u001b[0;32m--> 741\u001b[0;31m             output = self._generate_helper(\n\u001b[0m\u001b[1;32m    742\u001b[0m                 \u001b[0mprompts\u001b[0m\u001b[0;34m,\u001b[0m \u001b[0mstop\u001b[0m\u001b[0;34m,\u001b[0m \u001b[0mrun_managers\u001b[0m\u001b[0;34m,\u001b[0m \u001b[0mbool\u001b[0m\u001b[0;34m(\u001b[0m\u001b[0mnew_arg_supported\u001b[0m\u001b[0;34m)\u001b[0m\u001b[0;34m,\u001b[0m \u001b[0;34m**\u001b[0m\u001b[0mkwargs\u001b[0m\u001b[0;34m\u001b[0m\u001b[0;34m\u001b[0m\u001b[0m\n\u001b[1;32m    743\u001b[0m             )\n",
      "\u001b[0;32m~/.local/lib/python3.10/site-packages/langchain_core/language_models/llms.py\u001b[0m in \u001b[0;36m_generate_helper\u001b[0;34m(self, prompts, stop, run_managers, new_arg_supported, **kwargs)\u001b[0m\n\u001b[1;32m    603\u001b[0m             \u001b[0;32mfor\u001b[0m \u001b[0mrun_manager\u001b[0m \u001b[0;32min\u001b[0m \u001b[0mrun_managers\u001b[0m\u001b[0;34m:\u001b[0m\u001b[0;34m\u001b[0m\u001b[0;34m\u001b[0m\u001b[0m\n\u001b[1;32m    604\u001b[0m                 \u001b[0mrun_manager\u001b[0m\u001b[0;34m.\u001b[0m\u001b[0mon_llm_error\u001b[0m\u001b[0;34m(\u001b[0m\u001b[0me\u001b[0m\u001b[0;34m,\u001b[0m \u001b[0mresponse\u001b[0m\u001b[0;34m=\u001b[0m\u001b[0mLLMResult\u001b[0m\u001b[0;34m(\u001b[0m\u001b[0mgenerations\u001b[0m\u001b[0;34m=\u001b[0m\u001b[0;34m[\u001b[0m\u001b[0;34m]\u001b[0m\u001b[0;34m)\u001b[0m\u001b[0;34m)\u001b[0m\u001b[0;34m\u001b[0m\u001b[0;34m\u001b[0m\u001b[0m\n\u001b[0;32m--> 605\u001b[0;31m             \u001b[0;32mraise\u001b[0m \u001b[0me\u001b[0m\u001b[0;34m\u001b[0m\u001b[0;34m\u001b[0m\u001b[0m\n\u001b[0m\u001b[1;32m    606\u001b[0m         \u001b[0mflattened_outputs\u001b[0m \u001b[0;34m=\u001b[0m \u001b[0moutput\u001b[0m\u001b[0;34m.\u001b[0m\u001b[0mflatten\u001b[0m\u001b[0;34m(\u001b[0m\u001b[0;34m)\u001b[0m\u001b[0;34m\u001b[0m\u001b[0;34m\u001b[0m\u001b[0m\n\u001b[1;32m    607\u001b[0m         \u001b[0;32mfor\u001b[0m \u001b[0mmanager\u001b[0m\u001b[0;34m,\u001b[0m \u001b[0mflattened_output\u001b[0m \u001b[0;32min\u001b[0m \u001b[0mzip\u001b[0m\u001b[0;34m(\u001b[0m\u001b[0mrun_managers\u001b[0m\u001b[0;34m,\u001b[0m \u001b[0mflattened_outputs\u001b[0m\u001b[0;34m)\u001b[0m\u001b[0;34m:\u001b[0m\u001b[0;34m\u001b[0m\u001b[0;34m\u001b[0m\u001b[0m\n",
      "\u001b[0;32m~/.local/lib/python3.10/site-packages/langchain_core/language_models/llms.py\u001b[0m in \u001b[0;36m_generate_helper\u001b[0;34m(self, prompts, stop, run_managers, new_arg_supported, **kwargs)\u001b[0m\n\u001b[1;32m    590\u001b[0m         \u001b[0;32mtry\u001b[0m\u001b[0;34m:\u001b[0m\u001b[0;34m\u001b[0m\u001b[0;34m\u001b[0m\u001b[0m\n\u001b[1;32m    591\u001b[0m             output = (\n\u001b[0;32m--> 592\u001b[0;31m                 self._generate(\n\u001b[0m\u001b[1;32m    593\u001b[0m                     \u001b[0mprompts\u001b[0m\u001b[0;34m,\u001b[0m\u001b[0;34m\u001b[0m\u001b[0;34m\u001b[0m\u001b[0m\n\u001b[1;32m    594\u001b[0m                     \u001b[0mstop\u001b[0m\u001b[0;34m=\u001b[0m\u001b[0mstop\u001b[0m\u001b[0;34m,\u001b[0m\u001b[0;34m\u001b[0m\u001b[0;34m\u001b[0m\u001b[0m\n",
      "\u001b[0;32m~/.local/lib/python3.10/site-packages/langchain_core/language_models/llms.py\u001b[0m in \u001b[0;36m_generate\u001b[0;34m(self, prompts, stop, run_manager, **kwargs)\u001b[0m\n\u001b[1;32m   1175\u001b[0m         \u001b[0;32mfor\u001b[0m \u001b[0mprompt\u001b[0m \u001b[0;32min\u001b[0m \u001b[0mprompts\u001b[0m\u001b[0;34m:\u001b[0m\u001b[0;34m\u001b[0m\u001b[0;34m\u001b[0m\u001b[0m\n\u001b[1;32m   1176\u001b[0m             text = (\n\u001b[0;32m-> 1177\u001b[0;31m                 \u001b[0mself\u001b[0m\u001b[0;34m.\u001b[0m\u001b[0m_call\u001b[0m\u001b[0;34m(\u001b[0m\u001b[0mprompt\u001b[0m\u001b[0;34m,\u001b[0m \u001b[0mstop\u001b[0m\u001b[0;34m=\u001b[0m\u001b[0mstop\u001b[0m\u001b[0;34m,\u001b[0m \u001b[0mrun_manager\u001b[0m\u001b[0;34m=\u001b[0m\u001b[0mrun_manager\u001b[0m\u001b[0;34m,\u001b[0m \u001b[0;34m**\u001b[0m\u001b[0mkwargs\u001b[0m\u001b[0;34m)\u001b[0m\u001b[0;34m\u001b[0m\u001b[0;34m\u001b[0m\u001b[0m\n\u001b[0m\u001b[1;32m   1178\u001b[0m                 \u001b[0;32mif\u001b[0m \u001b[0mnew_arg_supported\u001b[0m\u001b[0;34m\u001b[0m\u001b[0;34m\u001b[0m\u001b[0m\n\u001b[1;32m   1179\u001b[0m                 \u001b[0;32melse\u001b[0m \u001b[0mself\u001b[0m\u001b[0;34m.\u001b[0m\u001b[0m_call\u001b[0m\u001b[0;34m(\u001b[0m\u001b[0mprompt\u001b[0m\u001b[0;34m,\u001b[0m \u001b[0mstop\u001b[0m\u001b[0;34m=\u001b[0m\u001b[0mstop\u001b[0m\u001b[0;34m,\u001b[0m \u001b[0;34m**\u001b[0m\u001b[0mkwargs\u001b[0m\u001b[0;34m)\u001b[0m\u001b[0;34m\u001b[0m\u001b[0;34m\u001b[0m\u001b[0m\n",
      "\u001b[0;32m~/.local/lib/python3.10/site-packages/yandex_chain/YandexGPT.py\u001b[0m in \u001b[0;36m_call\u001b[0;34m(self, prompt, stop, run_manager, return_message)\u001b[0m\n\u001b[1;32m     87\u001b[0m             \u001b[0mmsgs\u001b[0m\u001b[0;34m.\u001b[0m\u001b[0mappend\u001b[0m\u001b[0;34m(\u001b[0m\u001b[0mself\u001b[0m\u001b[0;34m.\u001b[0m\u001b[0mSystemMessage\u001b[0m\u001b[0;34m(\u001b[0m\u001b[0mself\u001b[0m\u001b[0;34m.\u001b[0m\u001b[0minstruction_text\u001b[0m\u001b[0;34m)\u001b[0m\u001b[0;34m)\u001b[0m\u001b[0;34m\u001b[0m\u001b[0;34m\u001b[0m\u001b[0m\n\u001b[1;32m     88\u001b[0m         \u001b[0mmsgs\u001b[0m\u001b[0;34m.\u001b[0m\u001b[0mappend\u001b[0m\u001b[0;34m(\u001b[0m\u001b[0mself\u001b[0m\u001b[0;34m.\u001b[0m\u001b[0mUserMessage\u001b[0m\u001b[0;34m(\u001b[0m\u001b[0mprompt\u001b[0m\u001b[0;34m)\u001b[0m\u001b[0;34m)\u001b[0m\u001b[0;34m\u001b[0m\u001b[0;34m\u001b[0m\u001b[0m\n\u001b[0;32m---> 89\u001b[0;31m         \u001b[0;32mreturn\u001b[0m \u001b[0mself\u001b[0m\u001b[0;34m.\u001b[0m\u001b[0m_generate_messages\u001b[0m\u001b[0;34m(\u001b[0m\u001b[0mmsgs\u001b[0m\u001b[0;34m)\u001b[0m\u001b[0;34m\u001b[0m\u001b[0;34m\u001b[0m\u001b[0m\n\u001b[0m\u001b[1;32m     90\u001b[0m \u001b[0;34m\u001b[0m\u001b[0m\n\u001b[1;32m     91\u001b[0m     def _generate_messages(self,\n",
      "\u001b[0;32m~/.local/lib/python3.10/site-packages/yandex_chain/YandexGPT.py\u001b[0m in \u001b[0;36m_generate_messages\u001b[0;34m(self, messages, stop, run_manager, return_message)\u001b[0m\n\u001b[1;32m    123\u001b[0m                     \u001b[0;32mraise\u001b[0m \u001b[0mYException\u001b[0m\u001b[0;34m(\u001b[0m\u001b[0;34mf\"Cannot process YandexGPT request, result received: {js}\"\u001b[0m\u001b[0;34m)\u001b[0m\u001b[0;34m\u001b[0m\u001b[0;34m\u001b[0m\u001b[0m\n\u001b[1;32m    124\u001b[0m         \u001b[0;32mexcept\u001b[0m \u001b[0mRetryError\u001b[0m\u001b[0;34m:\u001b[0m\u001b[0;34m\u001b[0m\u001b[0;34m\u001b[0m\u001b[0m\n\u001b[0;32m--> 125\u001b[0;31m             \u001b[0;32mraise\u001b[0m \u001b[0mYException\u001b[0m\u001b[0;34m(\u001b[0m\u001b[0;34mf\"Error calling YandexGPT after {self.retries} retries. Result returned:\\n{js}\"\u001b[0m\u001b[0;34m)\u001b[0m\u001b[0;34m\u001b[0m\u001b[0;34m\u001b[0m\u001b[0m\n\u001b[0m\u001b[1;32m    126\u001b[0m \u001b[0;34m\u001b[0m\u001b[0m\n\u001b[1;32m    127\u001b[0m     \u001b[0;32mdef\u001b[0m \u001b[0mresetUsage\u001b[0m\u001b[0;34m(\u001b[0m\u001b[0mself\u001b[0m\u001b[0;34m)\u001b[0m\u001b[0;34m:\u001b[0m\u001b[0;34m\u001b[0m\u001b[0;34m\u001b[0m\u001b[0m\n",
      "\u001b[0;31mYException\u001b[0m: Error calling YandexGPT after 3 retries. Result returned:\n{'error': {'grpcCode': 8, 'httpCode': 429, 'message': 'ai.textGenerationCompletionRequestsPerHour.rate rate quota limit exceed: allowed 100 requests', 'httpStatus': 'Too Many Requests', 'details': []}}"
     ]
    }
   ],
   "source": [
    "from tqdm.auto import tqdm\n",
    "from json import JSONDecodeError\n",
    "import numpy as np\n",
    "\n",
    "def lin(x):\n",
    "    if isinstance(x,list):\n",
    "        return ','.join(x)\n",
    "    else:\n",
    "        return x\n",
    "\n",
    "for f in [\"sentiment\",\"transport\",\"cleanliness\", \"schedule\", \"positive\", \"negative\", \"tags\"]:\n",
    "    df_sample[f]=np.nan\n",
    "\n",
    "for i,r in tqdm(df_sample.iterrows()):\n",
    "    txt = r['review_text']\n",
    "    try:\n",
    "        res = jop.parse(LLM.invoke(prompt.format(txt)).replace('\\'','\"'))\n",
    "        for f in [\"sentiment\",\"transport\",\"cleanliness\", \"schedule\", \"positive\", \"negative\", \"tags\"]:\n",
    "            df_sample.at[i,f] = lin(res[f])\n",
    "    except Error as e:\n",
    "        print(f'Error: {e}') "
   ]
  },
  {
   "cell_type": "markdown",
   "id": "31603c6b-ce61-4b89-a8d3-b1c838776ac1",
   "metadata": {},
   "source": [
    "Посмотрим на результат:"
   ]
  },
  {
   "cell_type": "code",
   "execution_count": 43,
   "id": "0c2b869c-9bee-49f6-ac43-c94d1af2c06b",
   "metadata": {
    "execution": {
     "iopub.execute_input": "2024-05-22T21:42:06.789839Z",
     "iopub.status.busy": "2024-05-22T21:42:06.788710Z",
     "iopub.status.idle": "2024-05-22T21:42:06.827985Z",
     "shell.execute_reply": "2024-05-22T21:42:06.827145Z",
     "shell.execute_reply.started": "2024-05-22T21:42:06.789797Z"
    },
    "tags": []
   },
   "outputs": [
    {
     "data": {
      "text/html": [
       "<div>\n",
       "<style scoped>\n",
       "    .dataframe tbody tr th:only-of-type {\n",
       "        vertical-align: middle;\n",
       "    }\n",
       "\n",
       "    .dataframe tbody tr th {\n",
       "        vertical-align: top;\n",
       "    }\n",
       "\n",
       "    .dataframe thead th {\n",
       "        text-align: right;\n",
       "    }\n",
       "</style>\n",
       "<table border=\"1\" class=\"dataframe\">\n",
       "  <thead>\n",
       "    <tr style=\"text-align: right;\">\n",
       "      <th></th>\n",
       "      <th>id</th>\n",
       "      <th>dislike</th>\n",
       "      <th>like</th>\n",
       "      <th>review_text</th>\n",
       "      <th>author</th>\n",
       "      <th>review_rating</th>\n",
       "      <th>datetime</th>\n",
       "      <th>station</th>\n",
       "      <th>hf_sentiment</th>\n",
       "      <th>sentiment</th>\n",
       "      <th>transport</th>\n",
       "      <th>cleanliness</th>\n",
       "      <th>schedule</th>\n",
       "      <th>positive</th>\n",
       "      <th>negative</th>\n",
       "      <th>tags</th>\n",
       "    </tr>\n",
       "  </thead>\n",
       "  <tbody>\n",
       "    <tr>\n",
       "      <th>0</th>\n",
       "      <td>1262</td>\n",
       "      <td>2</td>\n",
       "      <td>16</td>\n",
       "      <td>Обожаю вокзал, из всех вокзалов , обладает так...</td>\n",
       "      <td>Алекс</td>\n",
       "      <td>5</td>\n",
       "      <td>2023-04-22T16:43:05.097Z</td>\n",
       "      <td>Belorussky</td>\n",
       "      <td>positive</td>\n",
       "      <td>positive</td>\n",
       "      <td>3.0</td>\n",
       "      <td>0.0</td>\n",
       "      <td>0.0</td>\n",
       "      <td>уникальная история вокзала,интересная архитект...</td>\n",
       "      <td></td>\n",
       "      <td>вокзал,Ласточка</td>\n",
       "    </tr>\n",
       "    <tr>\n",
       "      <th>1</th>\n",
       "      <td>1283</td>\n",
       "      <td>0</td>\n",
       "      <td>6</td>\n",
       "      <td>Большой просторный, красивый вокзал. Зал ожида...</td>\n",
       "      <td>Мария Рыжкова</td>\n",
       "      <td>5</td>\n",
       "      <td>2024-01-20T08:19:35.208Z</td>\n",
       "      <td>Belorussky</td>\n",
       "      <td>positive</td>\n",
       "      <td>positive</td>\n",
       "      <td>1.0</td>\n",
       "      <td>0.0</td>\n",
       "      <td>0.0</td>\n",
       "      <td>большой просторный уютный вокзал,зал ожидания ...</td>\n",
       "      <td></td>\n",
       "      <td>вокзал</td>\n",
       "    </tr>\n",
       "    <tr>\n",
       "      <th>2</th>\n",
       "      <td>1279</td>\n",
       "      <td>0</td>\n",
       "      <td>0</td>\n",
       "      <td>Один из красивых вокзалов, г. Москвы, \\nХороше...</td>\n",
       "      <td>Лекс</td>\n",
       "      <td>5</td>\n",
       "      <td>2023-11-04T12:49:54.572Z</td>\n",
       "      <td>Belorussky</td>\n",
       "      <td>positive</td>\n",
       "      <td>positive</td>\n",
       "      <td>1.0</td>\n",
       "      <td>0.0</td>\n",
       "      <td>0.0</td>\n",
       "      <td>красивый,хорошее расположение,удобная транспор...</td>\n",
       "      <td></td>\n",
       "      <td>вокзал,транспортная доступность</td>\n",
       "    </tr>\n",
       "    <tr>\n",
       "      <th>3</th>\n",
       "      <td>1300</td>\n",
       "      <td>7</td>\n",
       "      <td>21</td>\n",
       "      <td>Удобно расположен, есть камеры хранения, возмо...</td>\n",
       "      <td>Люси</td>\n",
       "      <td>5</td>\n",
       "      <td>2023-04-05T23:12:23.159Z</td>\n",
       "      <td>Belorussky</td>\n",
       "      <td>neutral</td>\n",
       "      <td>NaN</td>\n",
       "      <td>NaN</td>\n",
       "      <td>NaN</td>\n",
       "      <td>NaN</td>\n",
       "      <td>NaN</td>\n",
       "      <td>NaN</td>\n",
       "      <td>NaN</td>\n",
       "    </tr>\n",
       "    <tr>\n",
       "      <th>4</th>\n",
       "      <td>1291</td>\n",
       "      <td>2</td>\n",
       "      <td>7</td>\n",
       "      <td>Красивое, атмосферное место, а ещё и функциона...</td>\n",
       "      <td>Светлана Смирнова</td>\n",
       "      <td>5</td>\n",
       "      <td>2024-02-13T12:34:33.803Z</td>\n",
       "      <td>Belorussky</td>\n",
       "      <td>positive</td>\n",
       "      <td>NaN</td>\n",
       "      <td>NaN</td>\n",
       "      <td>NaN</td>\n",
       "      <td>NaN</td>\n",
       "      <td>NaN</td>\n",
       "      <td>NaN</td>\n",
       "      <td>NaN</td>\n",
       "    </tr>\n",
       "    <tr>\n",
       "      <th>...</th>\n",
       "      <td>...</td>\n",
       "      <td>...</td>\n",
       "      <td>...</td>\n",
       "      <td>...</td>\n",
       "      <td>...</td>\n",
       "      <td>...</td>\n",
       "      <td>...</td>\n",
       "      <td>...</td>\n",
       "      <td>...</td>\n",
       "      <td>...</td>\n",
       "      <td>...</td>\n",
       "      <td>...</td>\n",
       "      <td>...</td>\n",
       "      <td>...</td>\n",
       "      <td>...</td>\n",
       "      <td>...</td>\n",
       "    </tr>\n",
       "    <tr>\n",
       "      <th>75</th>\n",
       "      <td>2198</td>\n",
       "      <td>0</td>\n",
       "      <td>0</td>\n",
       "      <td>Небольшой вокзал на востоке столицы, с удобной...</td>\n",
       "      <td>Андрей Кочкин</td>\n",
       "      <td>4</td>\n",
       "      <td>2024-01-06T09:36:59.239Z</td>\n",
       "      <td>Vostochny</td>\n",
       "      <td>neutral</td>\n",
       "      <td>NaN</td>\n",
       "      <td>NaN</td>\n",
       "      <td>NaN</td>\n",
       "      <td>NaN</td>\n",
       "      <td>NaN</td>\n",
       "      <td>NaN</td>\n",
       "      <td>NaN</td>\n",
       "    </tr>\n",
       "    <tr>\n",
       "      <th>76</th>\n",
       "      <td>2175</td>\n",
       "      <td>0</td>\n",
       "      <td>0</td>\n",
       "      <td>Вокзал свежий,но очень маленький.Иногда большо...</td>\n",
       "      <td>Анна Тихонова</td>\n",
       "      <td>4</td>\n",
       "      <td>2024-01-20T12:28:08.435Z</td>\n",
       "      <td>Vostochny</td>\n",
       "      <td>neutral</td>\n",
       "      <td>NaN</td>\n",
       "      <td>NaN</td>\n",
       "      <td>NaN</td>\n",
       "      <td>NaN</td>\n",
       "      <td>NaN</td>\n",
       "      <td>NaN</td>\n",
       "      <td>NaN</td>\n",
       "    </tr>\n",
       "    <tr>\n",
       "      <th>77</th>\n",
       "      <td>2270</td>\n",
       "      <td>0</td>\n",
       "      <td>3</td>\n",
       "      <td>Очень приятный новый вокзал! Разобраться сложн...</td>\n",
       "      <td>Наталья Байбакова</td>\n",
       "      <td>5</td>\n",
       "      <td>2023-12-24T13:10:29.484Z</td>\n",
       "      <td>Vostochny</td>\n",
       "      <td>positive</td>\n",
       "      <td>NaN</td>\n",
       "      <td>NaN</td>\n",
       "      <td>NaN</td>\n",
       "      <td>NaN</td>\n",
       "      <td>NaN</td>\n",
       "      <td>NaN</td>\n",
       "      <td>NaN</td>\n",
       "    </tr>\n",
       "    <tr>\n",
       "      <th>78</th>\n",
       "      <td>2180</td>\n",
       "      <td>1</td>\n",
       "      <td>0</td>\n",
       "      <td>Посещал данный вокзал, из преимуществ, есть по...</td>\n",
       "      <td>Tomm</td>\n",
       "      <td>5</td>\n",
       "      <td>2023-10-29T11:07:27.166Z</td>\n",
       "      <td>Vostochny</td>\n",
       "      <td>positive</td>\n",
       "      <td>NaN</td>\n",
       "      <td>NaN</td>\n",
       "      <td>NaN</td>\n",
       "      <td>NaN</td>\n",
       "      <td>NaN</td>\n",
       "      <td>NaN</td>\n",
       "      <td>NaN</td>\n",
       "    </tr>\n",
       "    <tr>\n",
       "      <th>79</th>\n",
       "      <td>2202</td>\n",
       "      <td>1</td>\n",
       "      <td>0</td>\n",
       "      <td>Хороший вокзал, я бываю на нем чаще всего. Ест...</td>\n",
       "      <td>sasha z</td>\n",
       "      <td>4</td>\n",
       "      <td>2024-01-16T08:51:13.009Z</td>\n",
       "      <td>Vostochny</td>\n",
       "      <td>positive</td>\n",
       "      <td>NaN</td>\n",
       "      <td>NaN</td>\n",
       "      <td>NaN</td>\n",
       "      <td>NaN</td>\n",
       "      <td>NaN</td>\n",
       "      <td>NaN</td>\n",
       "      <td>NaN</td>\n",
       "    </tr>\n",
       "  </tbody>\n",
       "</table>\n",
       "<p>80 rows × 16 columns</p>\n",
       "</div>"
      ],
      "text/plain": [
       "      id  dislike  ...  negative                             tags\n",
       "0   1262        2  ...                            вокзал,Ласточка\n",
       "1   1283        0  ...                                     вокзал\n",
       "2   1279        0  ...            вокзал,транспортная доступность\n",
       "3   1300        7  ...       NaN                              NaN\n",
       "4   1291        2  ...       NaN                              NaN\n",
       "..   ...      ...  ...       ...                              ...\n",
       "75  2198        0  ...       NaN                              NaN\n",
       "76  2175        0  ...       NaN                              NaN\n",
       "77  2270        0  ...       NaN                              NaN\n",
       "78  2180        1  ...       NaN                              NaN\n",
       "79  2202        1  ...       NaN                              NaN\n",
       "\n",
       "[80 rows x 16 columns]"
      ]
     },
     "execution_count": 43,
     "metadata": {},
     "output_type": "execute_result"
    }
   ],
   "source": [
    "df_sample.to_csv('dataset_sample_with_GPT.csv')\n",
    "df_sample"
   ]
  },
  {
   "cell_type": "code",
   "execution_count": null,
   "id": "6d7fe528-9709-4c16-baf1-439c3a24208a",
   "metadata": {},
   "outputs": [],
   "source": []
  }
 ],
 "metadata": {
  "kernelspec": {
   "display_name": "DataSphere Kernel",
   "language": "python",
   "name": "python3"
  },
  "language_info": {
   "codemirror_mode": {
    "name": "ipython",
    "version": 3
   },
   "file_extension": ".py",
   "mimetype": "text/x-python",
   "name": "python",
   "nbconvert_exporter": "python",
   "pygments_lexer": "ipython3",
   "version": "3.10.12"
  }
 },
 "nbformat": 4,
 "nbformat_minor": 5
}
