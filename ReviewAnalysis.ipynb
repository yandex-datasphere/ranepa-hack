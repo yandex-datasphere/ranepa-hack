{
 "cells": [
  {
   "cell_type": "markdown",
   "id": "82039966-2a39-4d38-be02-bd7edf8c4d78",
   "metadata": {},
   "source": [
    "## Анализ отзывов\n",
    "\n",
    "В рамках данного кейса предлагается с помощью ИИ и машинного обучения поизучать отзывы людей на железнодорожные вокзалы Москвы. В рамках кейса предоставляются отзывы пользователей с Яндекс-карт, но возможно дополнительно использовать доступные в Интернет данные. \n",
    "\n",
    "Что ожидается в качестве результата:\n",
    "* Инфографика, наглядно демонстрирующая полученные командой результаты\n",
    "* Доклад, представляющий эти результаты\n",
    "* Код в Jupyter Notebook с анализом данных\n",
    "\n",
    "В данном ноутбуке показывается, как получить доступ к датасету, и первые шаги по его обработке с помощью доступных открытых моделей с HuggingFace, и с помощью YandexGPT. Можно использовать данный ноутбук как оправную точку для выполнения задания, расширив его дополнительными идеями, например:\n",
    "* Кластеризация отзывов\n",
    "* Обучение своих моделей для классификации тематики отзывов\n",
    "* Использование предобученных NER-моделей\n",
    "* Подробный анализ отзывов с помощью LLM\n",
    "\n",
    "> В начале работы мы будем использовать модель с HuggingFace, поэтому работа будет быстрее, если вы будете запускать код на узле с поддержкой GPU\n",
    "\n",
    "### Получение датасета"
   ]
  },
  {
   "cell_type": "code",
   "execution_count": 1,
   "id": "ad19da35-bf4b-4c5b-b8dc-cca6e7cb3e9f",
   "metadata": {
    "execution": {
     "iopub.execute_input": "2024-06-02T11:47:59.028091Z",
     "iopub.status.busy": "2024-06-02T11:47:59.027069Z",
     "iopub.status.idle": "2024-06-02T11:47:59.153687Z",
     "shell.execute_reply": "2024-06-02T11:47:59.152914Z",
     "shell.execute_reply.started": "2024-06-02T11:47:59.028045Z"
    },
    "tags": []
   },
   "outputs": [
    {
     "name": "stderr",
     "output_type": "stream",
     "text": [
      "--2024-06-02 11:47:59--  https://storage.yandexcloud.net/mypub/data/rail_reviews.zip\n",
      "Resolving storage.yandexcloud.net (storage.yandexcloud.net)... 213.180.193.243, 2a02:6b8::1d9\n",
      "Connecting to storage.yandexcloud.net (storage.yandexcloud.net)|213.180.193.243|:443... connected.\n",
      "HTTP request sent, awaiting response... 200 OK\n",
      "Length: 390394 (381K) [application/x-zip-compressed]\n",
      "Saving to: ‘rail_reviews.zip.1’\n",
      "\n",
      "     0K .......... .......... .......... .......... .......... 13%  210M 0s\n",
      "    50K .......... .......... .......... .......... .......... 26% 82.0M 0s\n",
      "   100K .......... .......... .......... .......... .......... 39% 84.2M 0s\n",
      "   150K .......... .......... .......... .......... .......... 52%  179M 0s\n",
      "   200K .......... .......... .......... .......... .......... 65%  161M 0s\n",
      "   250K .......... .......... .......... .......... .......... 78%  154M 0s\n",
      "   300K .......... .......... .......... .......... .......... 91%  498M 0s\n",
      "   350K .......... .......... .......... .                    100%  395M=0.002s\n",
      "\n",
      "2024-06-02 11:47:59 (150 MB/s) - ‘rail_reviews.zip.1’ saved [390394/390394]\n",
      "\n"
     ]
    }
   ],
   "source": [
    "!wget https://storage.yandexcloud.net/mypub/data/rail_reviews.zip"
   ]
  },
  {
   "cell_type": "code",
   "execution_count": 2,
   "id": "06eec371-2a9d-404d-ad8a-4f57ad3b5e81",
   "metadata": {
    "execution": {
     "iopub.execute_input": "2024-05-22T07:52:51.048050Z",
     "iopub.status.busy": "2024-05-22T07:52:51.046947Z",
     "iopub.status.idle": "2024-05-22T07:52:51.115379Z",
     "shell.execute_reply": "2024-05-22T07:52:51.114486Z",
     "shell.execute_reply.started": "2024-05-22T07:52:51.048006Z"
    }
   },
   "outputs": [
    {
     "name": "stdout",
     "output_type": "stream",
     "text": [
      "Archive:  rail_reviews.zip\n",
      "  inflating: reviews_Belorussky_railway_station.json  \n",
      "  inflating: reviews_Kazan_Station.json  \n",
      "  inflating: reviews_Kursky_station.json  \n",
      "  inflating: reviews_Kyiv_railway_station.json  \n",
      "  inflating: reviews_Paveletsky_railway_station.json  \n",
      "  inflating: reviews_Rizhsky_railway_station.json  \n",
      "  inflating: reviews_Savyolovsky_station.json  \n",
      "  inflating: reviews_Vostochny_station.json  \n"
     ]
    }
   ],
   "source": [
    "!unzip *.zip"
   ]
  },
  {
   "cell_type": "markdown",
   "id": "467216d2-57d3-4878-ae89-4e4b9c722456",
   "metadata": {},
   "source": [
    "### Преобразуем данные в DataFrame\n",
    "\n",
    "Как видите, каждый вокзал представлен своим набором отзывов следующего вида:"
   ]
  },
  {
   "cell_type": "code",
   "execution_count": 1,
   "id": "962a0497-f450-4e2e-afe4-72541e451a8d",
   "metadata": {
    "execution": {
     "iopub.execute_input": "2024-06-02T12:08:11.847565Z",
     "iopub.status.busy": "2024-06-02T12:08:11.846364Z",
     "iopub.status.idle": "2024-06-02T12:08:11.882453Z",
     "shell.execute_reply": "2024-06-02T12:08:11.881423Z",
     "shell.execute_reply.started": "2024-06-02T12:08:11.847527Z"
    },
    "tags": []
   },
   "outputs": [
    {
     "data": {
      "text/plain": [
       "{'id': 1251,\n",
       " 'dislike': 1,\n",
       " 'like': 10,\n",
       " 'review_text': 'Очень красивое место, вежливый персонал.\\nЕздила на поезде из Москвы в Беларусь, комфортно, белье чистое, тепло, можно с животными. Дают горячий чай прям в постель, можно даже не переутруждаться, там о вВс и вашем комфорте позаботиться квалифицированные сотрудники.',\n",
       " 'author': 'Александра Подгайская',\n",
       " 'review_rating': 5,\n",
       " 'datetime': '2024-01-12T16:53:33.611Z'}"
      ]
     },
     "execution_count": 1,
     "metadata": {},
     "output_type": "execute_result"
    }
   ],
   "source": [
    "import json\n",
    "j = json.load(open('reviews_Belorussky_railway_station.json'))\n",
    "j[0]"
   ]
  },
  {
   "cell_type": "markdown",
   "id": "3d39bdcb-8c47-45c2-a1f1-ebbb3a7f2422",
   "metadata": {},
   "source": [
    "Для удобства, сведём все отзывы в одну табличку. Для этого нам нужно будет добавить в каждое JSON-описание отзыва название вокзала."
   ]
  },
  {
   "cell_type": "code",
   "execution_count": 2,
   "id": "85551dae-f937-40c3-ae6d-e63718943e26",
   "metadata": {
    "execution": {
     "iopub.execute_input": "2024-06-02T12:08:25.413248Z",
     "iopub.status.busy": "2024-06-02T12:08:25.411692Z",
     "iopub.status.idle": "2024-06-02T12:08:25.585508Z",
     "shell.execute_reply": "2024-06-02T12:08:25.584211Z",
     "shell.execute_reply.started": "2024-06-02T12:08:25.413209Z"
    },
    "tags": []
   },
   "outputs": [
    {
     "data": {
      "text/html": [
       "<div>\n",
       "<style scoped>\n",
       "    .dataframe tbody tr th:only-of-type {\n",
       "        vertical-align: middle;\n",
       "    }\n",
       "\n",
       "    .dataframe tbody tr th {\n",
       "        vertical-align: top;\n",
       "    }\n",
       "\n",
       "    .dataframe thead th {\n",
       "        text-align: right;\n",
       "    }\n",
       "</style>\n",
       "<table border=\"1\" class=\"dataframe\">\n",
       "  <thead>\n",
       "    <tr style=\"text-align: right;\">\n",
       "      <th></th>\n",
       "      <th>id</th>\n",
       "      <th>dislike</th>\n",
       "      <th>like</th>\n",
       "      <th>review_text</th>\n",
       "      <th>author</th>\n",
       "      <th>review_rating</th>\n",
       "      <th>datetime</th>\n",
       "      <th>station</th>\n",
       "    </tr>\n",
       "  </thead>\n",
       "  <tbody>\n",
       "    <tr>\n",
       "      <th>0</th>\n",
       "      <td>1251</td>\n",
       "      <td>1</td>\n",
       "      <td>10</td>\n",
       "      <td>Очень красивое место, вежливый персонал.\\nЕзди...</td>\n",
       "      <td>Александра Подгайская</td>\n",
       "      <td>5</td>\n",
       "      <td>2024-01-12T16:53:33.611Z</td>\n",
       "      <td>Belorussky</td>\n",
       "    </tr>\n",
       "    <tr>\n",
       "      <th>1</th>\n",
       "      <td>1252</td>\n",
       "      <td>0</td>\n",
       "      <td>5</td>\n",
       "      <td>Расположен очень удобное, строятся новые пути ...</td>\n",
       "      <td>Пользователь Э.</td>\n",
       "      <td>5</td>\n",
       "      <td>2023-11-10T21:33:56.176Z</td>\n",
       "      <td>Belorussky</td>\n",
       "    </tr>\n",
       "    <tr>\n",
       "      <th>2</th>\n",
       "      <td>1253</td>\n",
       "      <td>2</td>\n",
       "      <td>7</td>\n",
       "      <td>Очень уютный и удобный вокзал. Мне он очень нр...</td>\n",
       "      <td>Н И</td>\n",
       "      <td>5</td>\n",
       "      <td>2023-08-25T14:27:29.327Z</td>\n",
       "      <td>Belorussky</td>\n",
       "    </tr>\n",
       "    <tr>\n",
       "      <th>3</th>\n",
       "      <td>1254</td>\n",
       "      <td>1</td>\n",
       "      <td>5</td>\n",
       "      <td>Красивое здание , очень удобно расположено в т...</td>\n",
       "      <td>Liliya Zugrova</td>\n",
       "      <td>5</td>\n",
       "      <td>2023-11-27T11:50:16.388Z</td>\n",
       "      <td>Belorussky</td>\n",
       "    </tr>\n",
       "    <tr>\n",
       "      <th>4</th>\n",
       "      <td>1255</td>\n",
       "      <td>2</td>\n",
       "      <td>7</td>\n",
       "      <td>С появление новых веток и маршрутов все стало ...</td>\n",
       "      <td>Татьяна Цымлова</td>\n",
       "      <td>5</td>\n",
       "      <td>2023-11-25T06:43:16.558Z</td>\n",
       "      <td>Belorussky</td>\n",
       "    </tr>\n",
       "    <tr>\n",
       "      <th>...</th>\n",
       "      <td>...</td>\n",
       "      <td>...</td>\n",
       "      <td>...</td>\n",
       "      <td>...</td>\n",
       "      <td>...</td>\n",
       "      <td>...</td>\n",
       "      <td>...</td>\n",
       "      <td>...</td>\n",
       "    </tr>\n",
       "    <tr>\n",
       "      <th>2264</th>\n",
       "      <td>2266</td>\n",
       "      <td>0</td>\n",
       "      <td>1</td>\n",
       "      <td>Отличный вокзал. Новый, современный, прям из в...</td>\n",
       "      <td>Анна Елагина</td>\n",
       "      <td>5</td>\n",
       "      <td>2024-02-02T04:55:15.074Z</td>\n",
       "      <td>Vostochny</td>\n",
       "    </tr>\n",
       "    <tr>\n",
       "      <th>2265</th>\n",
       "      <td>2267</td>\n",
       "      <td>1</td>\n",
       "      <td>0</td>\n",
       "      <td>Бывал недавно там )) очень вкусная кухня \\nКла...</td>\n",
       "      <td>Дмитрий</td>\n",
       "      <td>5</td>\n",
       "      <td>2023-11-12T14:21:47.541Z</td>\n",
       "      <td>Vostochny</td>\n",
       "    </tr>\n",
       "    <tr>\n",
       "      <th>2266</th>\n",
       "      <td>2268</td>\n",
       "      <td>0</td>\n",
       "      <td>0</td>\n",
       "      <td>Отличный и красивый вокзал. Чистые туалеты и б...</td>\n",
       "      <td>Валентина Архимановна</td>\n",
       "      <td>5</td>\n",
       "      <td>2024-01-31T10:53:36.364Z</td>\n",
       "      <td>Vostochny</td>\n",
       "    </tr>\n",
       "    <tr>\n",
       "      <th>2267</th>\n",
       "      <td>2269</td>\n",
       "      <td>3</td>\n",
       "      <td>10</td>\n",
       "      <td>Это не вокзал , а скорее узловая станция или п...</td>\n",
       "      <td>Владислав Баранов</td>\n",
       "      <td>2</td>\n",
       "      <td>2023-12-06T12:03:14.107Z</td>\n",
       "      <td>Vostochny</td>\n",
       "    </tr>\n",
       "    <tr>\n",
       "      <th>2268</th>\n",
       "      <td>2270</td>\n",
       "      <td>0</td>\n",
       "      <td>3</td>\n",
       "      <td>Очень приятный новый вокзал! Разобраться сложн...</td>\n",
       "      <td>Наталья Байбакова</td>\n",
       "      <td>5</td>\n",
       "      <td>2023-12-24T13:10:29.484Z</td>\n",
       "      <td>Vostochny</td>\n",
       "    </tr>\n",
       "  </tbody>\n",
       "</table>\n",
       "<p>2269 rows × 8 columns</p>\n",
       "</div>"
      ],
      "text/plain": [
       "        id  dislike  like  ... review_rating                  datetime     station\n",
       "0     1251        1    10  ...             5  2024-01-12T16:53:33.611Z  Belorussky\n",
       "1     1252        0     5  ...             5  2023-11-10T21:33:56.176Z  Belorussky\n",
       "2     1253        2     7  ...             5  2023-08-25T14:27:29.327Z  Belorussky\n",
       "3     1254        1     5  ...             5  2023-11-27T11:50:16.388Z  Belorussky\n",
       "4     1255        2     7  ...             5  2023-11-25T06:43:16.558Z  Belorussky\n",
       "...    ...      ...   ...  ...           ...                       ...         ...\n",
       "2264  2266        0     1  ...             5  2024-02-02T04:55:15.074Z   Vostochny\n",
       "2265  2267        1     0  ...             5  2023-11-12T14:21:47.541Z   Vostochny\n",
       "2266  2268        0     0  ...             5  2024-01-31T10:53:36.364Z   Vostochny\n",
       "2267  2269        3    10  ...             2  2023-12-06T12:03:14.107Z   Vostochny\n",
       "2268  2270        0     3  ...             5  2023-12-24T13:10:29.484Z   Vostochny\n",
       "\n",
       "[2269 rows x 8 columns]"
      ]
     },
     "execution_count": 2,
     "metadata": {},
     "output_type": "execute_result"
    }
   ],
   "source": [
    "import pandas as pd\n",
    "import os\n",
    "from glob import glob\n",
    "\n",
    "res = []\n",
    "for fn in glob('*.json'):\n",
    "    j = json.load(open(fn))\n",
    "    for x in j:\n",
    "        x['station'] = fn.split('_')[1]\n",
    "    res.extend(j)\n",
    "    \n",
    "df = pd.DataFrame(res)\n",
    "df"
   ]
  },
  {
   "cell_type": "markdown",
   "id": "10c02d14-db41-4644-b8ac-58f21d7a78f4",
   "metadata": {},
   "source": [
    "Посмотрим на количество отзывов по вокзалам:"
   ]
  },
  {
   "cell_type": "code",
   "execution_count": 3,
   "id": "6cb3889e-c454-4493-bec0-e7a8820e0ea2",
   "metadata": {
    "execution": {
     "iopub.execute_input": "2024-06-02T12:08:29.360404Z",
     "iopub.status.busy": "2024-06-02T12:08:29.359155Z",
     "iopub.status.idle": "2024-06-02T12:08:29.668621Z",
     "shell.execute_reply": "2024-06-02T12:08:29.667034Z",
     "shell.execute_reply.started": "2024-06-02T12:08:29.360347Z"
    },
    "tags": []
   },
   "outputs": [
    {
     "data": {
      "text/plain": [
       "<Axes: xlabel='station'>"
      ]
     },
     "execution_count": 3,
     "metadata": {},
     "output_type": "execute_result"
    },
    {
     "data": {
      "image/png": "[encoded data removed]",
      "text/plain": [
       "<Figure size 640x480 with 1 Axes>"
      ]
     },
     "metadata": {},
     "output_type": "display_data"
    }
   ],
   "source": [
    "df.groupby('station')['review_text'].count().plot.bar()"
   ]
  },
  {
   "cell_type": "markdown",
   "id": "a4439dc0-1991-4daa-89ca-5b855850d636",
   "metadata": {},
   "source": [
    "### Обогащение данных с помощью модели с HuggingFace\n",
    "\n",
    "Для обогащения данных можно использовать различные нейросетевые модели. Для начала, попробуем определить тональность текста."
   ]
  },
  {
   "cell_type": "markdown",
   "id": "441d1ab7-65ba-46da-85e1-1fd99bc30763",
   "metadata": {},
   "source": [
    "Попробуем использовать модель [blanchefort/rubert-base-cased-sentiment-rurewiews](https://huggingface.co/blanchefort/rubert-base-cased-sentiment-rurewiews) с HuggingFace, натренированную на отзывах, с длиной 512 токенов. По умолчанию код из карточки модели выдает следующие классы:\n",
    "* 0: NEUTRAL\n",
    "* 1: POSITIVE\n",
    "* 2: NEGATIVE\n",
    "\n",
    "> Код не учитывает возможность работы на GPU, поэтому придётся внести в код несколько исправлений, чтобы можно было быстрее выполнять код на GPU."
   ]
  },
  {
   "cell_type": "code",
   "execution_count": 4,
   "id": "8b435ee6-afe1-4028-90f6-76715a3a4d68",
   "metadata": {
    "execution": {
     "iopub.execute_input": "2024-06-02T12:08:34.934885Z",
     "iopub.status.busy": "2024-06-02T12:08:34.933494Z",
     "iopub.status.idle": "2024-06-02T12:09:35.047069Z",
     "shell.execute_reply": "2024-06-02T12:09:35.045906Z",
     "shell.execute_reply.started": "2024-06-02T12:08:34.934850Z"
    },
    "tags": []
   },
   "outputs": [
    {
     "name": "stderr",
     "output_type": "stream",
     "text": [
      "/home/jupyter/.local/lib/python3.10/site-packages/transformers/utils/hub.py:124: FutureWarning: Using `TRANSFORMERS_CACHE` is deprecated and will be removed in v5 of Transformers. Use `HF_HOME` instead.\n",
      "  warnings.warn(\n"
     ]
    }
   ],
   "source": [
    "import torch\n",
    "from transformers import AutoModelForSequenceClassification\n",
    "from transformers import BertTokenizerFast\n",
    "\n",
    "device = \"cuda\" if torch.cuda.is_available() else \"cpu\"\n",
    "\n",
    "tokenizer = BertTokenizerFast.from_pretrained('blanchefort/rubert-base-cased-sentiment-rurewiews')\n",
    "model = AutoModelForSequenceClassification.from_pretrained('blanchefort/rubert-base-cased-sentiment-rurewiews', return_dict=True)\n",
    "model.to(device)\n",
    "\n",
    "@torch.no_grad()\n",
    "def predict(text):\n",
    "    inputs = tokenizer(text, max_length=512, padding=True, truncation=True, return_tensors='pt')\n",
    "    inputs = inputs.to(device)\n",
    "    outputs = model(**inputs)\n",
    "    predicted = torch.nn.functional.softmax(outputs.logits, dim=1)\n",
    "    predicted = torch.argmax(predicted, dim=1).cpu().numpy()\n",
    "    return predicted\n"
   ]
  },
  {
   "cell_type": "markdown",
   "id": "4fe1bac1-d605-4297-b491-6ab88cd51bca",
   "metadata": {},
   "source": [
    "Проверим, работает ли эта функция:"
   ]
  },
  {
   "cell_type": "code",
   "execution_count": 5,
   "id": "99b31f76-9f0e-4a2d-a586-e7fd60dbb59d",
   "metadata": {
    "execution": {
     "iopub.execute_input": "2024-06-02T12:10:17.276058Z",
     "iopub.status.busy": "2024-06-02T12:10:17.274989Z",
     "iopub.status.idle": "2024-06-02T12:10:18.275538Z",
     "shell.execute_reply": "2024-06-02T12:10:18.274474Z",
     "shell.execute_reply.started": "2024-06-02T12:10:17.276005Z"
    },
    "tags": []
   },
   "outputs": [
    {
     "data": {
      "text/plain": [
       "array([0, 1, 2])"
      ]
     },
     "execution_count": 5,
     "metadata": {},
     "output_type": "execute_result"
    }
   ],
   "source": [
    "predict([\n",
    "    'Ничего так вокзал, обычный...',\n",
    "    'Обожаю этот вокзал, там такие симпатичные бомжи!',\n",
    "    'Ненавижу это вокзал, поезда всегда опаздывают минимум на 20 минут'])"
   ]
  },
  {
   "cell_type": "markdown",
   "id": "6ef441e4-151e-4f75-b723-38c6f323c0e9",
   "metadata": {},
   "source": [
    "Чтобы применить модель ко всему датасету, разобьем его на небольшие части, примерное по 200 отзывов, и предскажем тональность каждой из этих частей."
   ]
  },
  {
   "cell_type": "code",
   "execution_count": 6,
   "id": "f9179709-020e-44df-8f00-2adf00366a62",
   "metadata": {
    "execution": {
     "iopub.execute_input": "2024-06-02T12:10:21.946689Z",
     "iopub.status.busy": "2024-06-02T12:10:21.945513Z",
     "iopub.status.idle": "2024-06-02T12:10:36.644892Z",
     "shell.execute_reply": "2024-06-02T12:10:36.643761Z",
     "shell.execute_reply.started": "2024-06-02T12:10:21.946650Z"
    },
    "tags": []
   },
   "outputs": [
    {
     "name": "stderr",
     "output_type": "stream",
     "text": [
      "100%|██████████| 10/10 [00:14<00:00,  1.47s/it]\n"
     ]
    }
   ],
   "source": [
    "from tqdm.auto import tqdm\n",
    "import numpy as np \n",
    "\n",
    "res = []\n",
    "for d in tqdm(np.array_split(df,10)):\n",
    "    z = list(d['review_text'])\n",
    "    p = predict(z)\n",
    "    res.extend(p)"
   ]
  },
  {
   "cell_type": "markdown",
   "id": "22c69be8-8473-4a49-be99-cf4c5151e85c",
   "metadata": {},
   "source": [
    "Для удобства вставим колонку `sentiment` в датасет, но при этом изменим кодирование: будем представлять негативный отзыв цифрой -1."
   ]
  },
  {
   "cell_type": "code",
   "execution_count": 7,
   "id": "47ae1ba9-9425-46d7-88d6-822fcd3027b9",
   "metadata": {
    "execution": {
     "iopub.execute_input": "2024-06-02T12:10:37.699270Z",
     "iopub.status.busy": "2024-06-02T12:10:37.697812Z",
     "iopub.status.idle": "2024-06-02T12:10:37.723290Z",
     "shell.execute_reply": "2024-06-02T12:10:37.721985Z",
     "shell.execute_reply.started": "2024-06-02T12:10:37.699196Z"
    },
    "tags": []
   },
   "outputs": [],
   "source": [
    "df['sentiment'] = pd.Series(res).apply(lambda x: -1 if x==2 else x)"
   ]
  },
  {
   "cell_type": "markdown",
   "id": "a397f302-a542-462b-b70d-06145245b8f7",
   "metadata": {},
   "source": [
    "Запишем получившийся датасет на диск:"
   ]
  },
  {
   "cell_type": "code",
   "execution_count": 8,
   "id": "1a0afc80-12d2-4a5b-8084-4dfceac173bf",
   "metadata": {
    "execution": {
     "iopub.execute_input": "2024-06-02T12:10:41.272470Z",
     "iopub.status.busy": "2024-06-02T12:10:41.271289Z",
     "iopub.status.idle": "2024-06-02T12:10:41.334158Z",
     "shell.execute_reply": "2024-06-02T12:10:41.333166Z",
     "shell.execute_reply.started": "2024-06-02T12:10:41.272425Z"
    },
    "tags": []
   },
   "outputs": [],
   "source": [
    "df.to_csv('dataset_with_sentiment.csv',index=False)"
   ]
  },
  {
   "cell_type": "markdown",
   "id": "1a8603eb-ab42-4c7e-81c9-5256894727f0",
   "metadata": {},
   "source": [
    "Теперь можем посмотреть, какие вокзалы самые негативные или позитивные в Москве:"
   ]
  },
  {
   "cell_type": "code",
   "execution_count": 9,
   "id": "e1afca3f-3b69-4d84-961f-95949e3a279b",
   "metadata": {
    "execution": {
     "iopub.execute_input": "2024-06-02T12:10:53.198957Z",
     "iopub.status.busy": "2024-06-02T12:10:53.197600Z",
     "iopub.status.idle": "2024-06-02T12:10:53.261762Z",
     "shell.execute_reply": "2024-06-02T12:10:53.260621Z",
     "shell.execute_reply.started": "2024-06-02T12:10:53.198922Z"
    },
    "tags": []
   },
   "outputs": [
    {
     "data": {
      "text/html": [
       "<div>\n",
       "<style scoped>\n",
       "    .dataframe tbody tr th:only-of-type {\n",
       "        vertical-align: middle;\n",
       "    }\n",
       "\n",
       "    .dataframe tbody tr th {\n",
       "        vertical-align: top;\n",
       "    }\n",
       "\n",
       "    .dataframe thead tr th {\n",
       "        text-align: left;\n",
       "    }\n",
       "\n",
       "    .dataframe thead tr:last-of-type th {\n",
       "        text-align: right;\n",
       "    }\n",
       "</style>\n",
       "<table border=\"1\" class=\"dataframe\">\n",
       "  <thead>\n",
       "    <tr>\n",
       "      <th></th>\n",
       "      <th colspan=\"3\" halign=\"left\">sentiment</th>\n",
       "      <th>review_text</th>\n",
       "    </tr>\n",
       "    <tr>\n",
       "      <th></th>\n",
       "      <th>mean</th>\n",
       "      <th>count_pos</th>\n",
       "      <th>count_neg</th>\n",
       "      <th>count</th>\n",
       "    </tr>\n",
       "    <tr>\n",
       "      <th>station</th>\n",
       "      <th></th>\n",
       "      <th></th>\n",
       "      <th></th>\n",
       "      <th></th>\n",
       "    </tr>\n",
       "  </thead>\n",
       "  <tbody>\n",
       "    <tr>\n",
       "      <th>Belorussky</th>\n",
       "      <td>0.680000</td>\n",
       "      <td>36</td>\n",
       "      <td>2</td>\n",
       "      <td>50</td>\n",
       "    </tr>\n",
       "    <tr>\n",
       "      <th>Kazan</th>\n",
       "      <td>0.647619</td>\n",
       "      <td>143</td>\n",
       "      <td>7</td>\n",
       "      <td>210</td>\n",
       "    </tr>\n",
       "    <tr>\n",
       "      <th>Kursky</th>\n",
       "      <td>0.395000</td>\n",
       "      <td>277</td>\n",
       "      <td>40</td>\n",
       "      <td>600</td>\n",
       "    </tr>\n",
       "    <tr>\n",
       "      <th>Kyiv</th>\n",
       "      <td>0.599332</td>\n",
       "      <td>385</td>\n",
       "      <td>26</td>\n",
       "      <td>599</td>\n",
       "    </tr>\n",
       "    <tr>\n",
       "      <th>Paveletsky</th>\n",
       "      <td>0.540000</td>\n",
       "      <td>27</td>\n",
       "      <td>0</td>\n",
       "      <td>50</td>\n",
       "    </tr>\n",
       "    <tr>\n",
       "      <th>Rizhsky</th>\n",
       "      <td>0.560000</td>\n",
       "      <td>374</td>\n",
       "      <td>38</td>\n",
       "      <td>600</td>\n",
       "    </tr>\n",
       "    <tr>\n",
       "      <th>Savyolovsky</th>\n",
       "      <td>0.480000</td>\n",
       "      <td>29</td>\n",
       "      <td>5</td>\n",
       "      <td>50</td>\n",
       "    </tr>\n",
       "    <tr>\n",
       "      <th>Vostochny</th>\n",
       "      <td>0.618182</td>\n",
       "      <td>71</td>\n",
       "      <td>3</td>\n",
       "      <td>110</td>\n",
       "    </tr>\n",
       "  </tbody>\n",
       "</table>\n",
       "</div>"
      ],
      "text/plain": [
       "            sentiment                     review_text\n",
       "                 mean count_pos count_neg       count\n",
       "station                                              \n",
       "Belorussky   0.680000        36         2          50\n",
       "Kazan        0.647619       143         7         210\n",
       "Kursky       0.395000       277        40         600\n",
       "Kyiv         0.599332       385        26         599\n",
       "Paveletsky   0.540000        27         0          50\n",
       "Rizhsky      0.560000       374        38         600\n",
       "Savyolovsky  0.480000        29         5          50\n",
       "Vostochny    0.618182        71         3         110"
      ]
     },
     "execution_count": 9,
     "metadata": {},
     "output_type": "execute_result"
    }
   ],
   "source": [
    "def count_pos(x):\n",
    "    return x[x==1].count()\n",
    "def count_neg(x):\n",
    "    return x[x==-1].count()\n",
    "\n",
    "\n",
    "df.groupby('station').agg({'sentiment' : ['mean', count_pos, count_neg ], 'review_text': 'count'})"
   ]
  },
  {
   "cell_type": "markdown",
   "id": "8cef2b36-944e-43d6-beca-4bf805729343",
   "metadata": {},
   "source": [
    "В этом месте вы можете остановить виртуальную машину с GPU и перейти на более дешевый вариант **c1.4**"
   ]
  },
  {
   "cell_type": "markdown",
   "id": "59a5ab99-6c07-4434-a75c-9eb64b548d7d",
   "metadata": {
    "tags": []
   },
   "source": [
    "### Используем YandexGPT для извлечения смысла из отзывов\n",
    "\n",
    "Попробуем использовать больщую языковую модель для извлечения структурированной информации из текстов отзывов. Для этого нам будет удобно использовать библиотеку [yandex_chain](https://github.com/yandex-datasphere/yandex-chain)."
   ]
  },
  {
   "cell_type": "code",
   "execution_count": 10,
   "id": "fe54ba5e-de9c-46f5-b7bd-cebf26d972bb",
   "metadata": {
    "execution": {
     "iopub.execute_input": "2024-06-02T12:11:16.134251Z",
     "iopub.status.busy": "2024-06-02T12:11:16.133539Z",
     "iopub.status.idle": "2024-06-02T12:11:45.888957Z",
     "shell.execute_reply": "2024-06-02T12:11:45.887706Z",
     "shell.execute_reply.started": "2024-06-02T12:11:16.134216Z"
    },
    "tags": []
   },
   "outputs": [
    {
     "name": "stderr",
     "output_type": "stream",
     "text": [
      "huggingface/tokenizers: The current process just got forked, after parallelism has already been used. Disabling parallelism to avoid deadlocks...\n",
      "To disable this warning, you can either:\n",
      "\t- Avoid using `tokenizers` before the fork if possible\n",
      "\t- Explicitly set the environment variable TOKENIZERS_PARALLELISM=(true | false)\n"
     ]
    },
    {
     "name": "stdout",
     "output_type": "stream",
     "text": [
      "Defaulting to user installation because normal site-packages is not writeable\n",
      "Collecting yandex_chain==0.0.8\n",
      "  Downloading yandex-chain-0.0.8.tar.gz (9.2 kB)\n",
      "  Preparing metadata (setup.py) ... \u001b[?25ldone\n",
      "\u001b[?25hRequirement already satisfied: requests in /usr/local/lib/python3.10/dist-packages (from yandex_chain==0.0.8) (2.27.1)\n",
      "Collecting langchain==0.2.1 (from yandex_chain==0.0.8)\n",
      "  Downloading langchain-0.2.1-py3-none-any.whl.metadata (13 kB)\n",
      "Requirement already satisfied: tenacity in /usr/local/lib/python3.10/dist-packages (from yandex_chain==0.0.8) (8.2.2)\n",
      "Requirement already satisfied: PyYAML>=5.3 in /usr/local/lib/python3.10/dist-packages (from langchain==0.2.1->yandex_chain==0.0.8) (6.0.1)\n",
      "Requirement already satisfied: SQLAlchemy<3,>=1.4 in /usr/local/lib/python3.10/dist-packages (from langchain==0.2.1->yandex_chain==0.0.8) (2.0.19)\n",
      "Requirement already satisfied: aiohttp<4.0.0,>=3.8.3 in /usr/local/lib/python3.10/dist-packages (from langchain==0.2.1->yandex_chain==0.0.8) (3.8.5)\n",
      "Requirement already satisfied: async-timeout<5.0.0,>=4.0.0 in /usr/local/lib/python3.10/dist-packages (from langchain==0.2.1->yandex_chain==0.0.8) (4.0.2)\n",
      "Collecting langchain-core<0.3.0,>=0.2.0 (from langchain==0.2.1->yandex_chain==0.0.8)\n",
      "  Downloading langchain_core-0.2.3-py3-none-any.whl.metadata (5.9 kB)\n",
      "Collecting langchain-text-splitters<0.3.0,>=0.2.0 (from langchain==0.2.1->yandex_chain==0.0.8)\n",
      "  Downloading langchain_text_splitters-0.2.0-py3-none-any.whl.metadata (2.2 kB)\n",
      "Collecting langsmith<0.2.0,>=0.1.17 (from langchain==0.2.1->yandex_chain==0.0.8)\n",
      "  Downloading langsmith-0.1.67-py3-none-any.whl.metadata (13 kB)\n",
      "Requirement already satisfied: numpy<2,>=1 in /usr/local/lib/python3.10/dist-packages (from langchain==0.2.1->yandex_chain==0.0.8) (1.22.4)\n",
      "Requirement already satisfied: pydantic<3,>=1 in /usr/local/lib/python3.10/dist-packages (from langchain==0.2.1->yandex_chain==0.0.8) (1.10.12)\n",
      "Requirement already satisfied: urllib3<1.27,>=1.21.1 in /usr/local/lib/python3.10/dist-packages (from requests->yandex_chain==0.0.8) (1.26.16)\n",
      "Requirement already satisfied: certifi>=2017.4.17 in /usr/local/lib/python3.10/dist-packages (from requests->yandex_chain==0.0.8) (2023.7.22)\n",
      "Requirement already satisfied: charset-normalizer~=2.0.0 in /home/jupyter/.local/lib/python3.10/site-packages (from requests->yandex_chain==0.0.8) (2.0.12)\n",
      "Requirement already satisfied: idna<4,>=2.5 in /usr/local/lib/python3.10/dist-packages (from requests->yandex_chain==0.0.8) (3.4)\n",
      "Requirement already satisfied: attrs>=17.3.0 in /usr/local/lib/python3.10/dist-packages (from aiohttp<4.0.0,>=3.8.3->langchain==0.2.1->yandex_chain==0.0.8) (23.1.0)\n",
      "Requirement already satisfied: multidict<7.0,>=4.5 in /usr/local/lib/python3.10/dist-packages (from aiohttp<4.0.0,>=3.8.3->langchain==0.2.1->yandex_chain==0.0.8) (6.0.4)\n",
      "Requirement already satisfied: yarl<2.0,>=1.0 in /usr/local/lib/python3.10/dist-packages (from aiohttp<4.0.0,>=3.8.3->langchain==0.2.1->yandex_chain==0.0.8) (1.9.2)\n",
      "Requirement already satisfied: frozenlist>=1.1.1 in /usr/local/lib/python3.10/dist-packages (from aiohttp<4.0.0,>=3.8.3->langchain==0.2.1->yandex_chain==0.0.8) (1.4.0)\n",
      "Requirement already satisfied: aiosignal>=1.1.2 in /usr/local/lib/python3.10/dist-packages (from aiohttp<4.0.0,>=3.8.3->langchain==0.2.1->yandex_chain==0.0.8) (1.3.1)\n",
      "Requirement already satisfied: jsonpatch<2.0,>=1.33 in /home/jupyter/.local/lib/python3.10/site-packages (from langchain-core<0.3.0,>=0.2.0->langchain==0.2.1->yandex_chain==0.0.8) (1.33)\n",
      "Requirement already satisfied: packaging<24.0,>=23.2 in /home/jupyter/.local/lib/python3.10/site-packages (from langchain-core<0.3.0,>=0.2.0->langchain==0.2.1->yandex_chain==0.0.8) (23.2)\n",
      "Collecting orjson<4.0.0,>=3.9.14 (from langsmith<0.2.0,>=0.1.17->langchain==0.2.1->yandex_chain==0.0.8)\n",
      "  Downloading orjson-3.10.3-cp310-cp310-manylinux_2_17_x86_64.manylinux2014_x86_64.whl.metadata (49 kB)\n",
      "\u001b[2K     \u001b[90m━━━━━━━━━━━━━━━━━━━━━━━━━━━━━━━━━━━━━━━\u001b[0m \u001b[32m49.7/49.7 kB\u001b[0m \u001b[31m926.7 kB/s\u001b[0m eta \u001b[36m0:00:00\u001b[0m \u001b[36m0:00:01\u001b[0m\n",
      "\u001b[?25hRequirement already satisfied: typing-extensions>=4.2.0 in /usr/local/lib/python3.10/dist-packages (from pydantic<3,>=1->langchain==0.2.1->yandex_chain==0.0.8) (4.7.1)\n",
      "Requirement already satisfied: greenlet!=0.4.17 in /usr/local/lib/python3.10/dist-packages (from SQLAlchemy<3,>=1.4->langchain==0.2.1->yandex_chain==0.0.8) (2.0.2)\n",
      "Requirement already satisfied: jsonpointer>=1.9 in /home/jupyter/.local/lib/python3.10/site-packages (from jsonpatch<2.0,>=1.33->langchain-core<0.3.0,>=0.2.0->langchain==0.2.1->yandex_chain==0.0.8) (2.4)\n",
      "Downloading langchain-0.2.1-py3-none-any.whl (973 kB)\n",
      "\u001b[2K   \u001b[90m━━━━━━━━━━━━━━━━━━━━━━━━━━━━━━━━━━━━━━━━\u001b[0m \u001b[32m973.5/973.5 kB\u001b[0m \u001b[31m7.0 MB/s\u001b[0m eta \u001b[36m0:00:00\u001b[0ma \u001b[36m0:00:01\u001b[0m\n",
      "\u001b[?25hDownloading langchain_core-0.2.3-py3-none-any.whl (310 kB)\n",
      "\u001b[2K   \u001b[90m━━━━━━━━━━━━━━━━━━━━━━━━━━━━━━━━━━━━━━━━\u001b[0m \u001b[32m310.2/310.2 kB\u001b[0m \u001b[31m18.9 MB/s\u001b[0m eta \u001b[36m0:00:00\u001b[0m\n",
      "\u001b[?25hDownloading langchain_text_splitters-0.2.0-py3-none-any.whl (23 kB)\n",
      "Downloading langsmith-0.1.67-py3-none-any.whl (124 kB)\n",
      "\u001b[2K   \u001b[90m━━━━━━━━━━━━━━━━━━━━━━━━━━━━━━━━━━━━━━━━\u001b[0m \u001b[32m124.4/124.4 kB\u001b[0m \u001b[31m13.5 MB/s\u001b[0m eta \u001b[36m0:00:00\u001b[0m\n",
      "\u001b[?25hDownloading orjson-3.10.3-cp310-cp310-manylinux_2_17_x86_64.manylinux2014_x86_64.whl (142 kB)\n",
      "\u001b[2K   \u001b[90m━━━━━━━━━━━━━━━━━━━━━━━━━━━━━━━━━━━━━━━━\u001b[0m \u001b[32m142.5/142.5 kB\u001b[0m \u001b[31m10.3 MB/s\u001b[0m eta \u001b[36m0:00:00\u001b[0m\n",
      "\u001b[?25hBuilding wheels for collected packages: yandex_chain\n",
      "  Building wheel for yandex_chain (setup.py) ... \u001b[?25ldone\n",
      "\u001b[?25h  Created wheel for yandex_chain: filename=yandex_chain-0.0.8-py3-none-any.whl size=8413 sha256=36afeaaf72cf0da7b5fc1f967ccaaad3555fe81b70e6b4f24c1ab40696b856e5\n",
      "  Stored in directory: /tmp/xdg_cache/pip/wheels/66/36/f5/43859afe9461bc9306b471dffbcbb638782badd8417a89d767\n",
      "Successfully built yandex_chain\n",
      "Installing collected packages: orjson, langsmith, langchain-core, langchain-text-splitters, langchain, yandex_chain\n",
      "  Attempting uninstall: langsmith\n",
      "    Found existing installation: langsmith 0.0.87\n",
      "    Uninstalling langsmith-0.0.87:\n",
      "      Successfully uninstalled langsmith-0.0.87\n",
      "\u001b[33m  WARNING: The script langsmith is installed in '/home/jupyter/.local/bin' which is not on PATH.\n",
      "  Consider adding this directory to PATH or, if you prefer to suppress this warning, use --no-warn-script-location.\u001b[0m\u001b[33m\n",
      "\u001b[0m  Attempting uninstall: langchain-core\n",
      "    Found existing installation: langchain-core 0.1.23\n",
      "    Uninstalling langchain-core-0.1.23:\n",
      "      Successfully uninstalled langchain-core-0.1.23\n",
      "  Attempting uninstall: langchain\n",
      "    Found existing installation: langchain 0.1.0\n",
      "    Uninstalling langchain-0.1.0:\n",
      "      Successfully uninstalled langchain-0.1.0\n",
      "\u001b[33m  WARNING: The script langchain-server is installed in '/home/jupyter/.local/bin' which is not on PATH.\n",
      "  Consider adding this directory to PATH or, if you prefer to suppress this warning, use --no-warn-script-location.\u001b[0m\u001b[33m\n",
      "\u001b[0m  Attempting uninstall: yandex_chain\n",
      "    Found existing installation: yandex-chain 0.0.7\n",
      "    Uninstalling yandex-chain-0.0.7:\n",
      "      Successfully uninstalled yandex-chain-0.0.7\n",
      "\u001b[31mERROR: pip's dependency resolver does not currently take into account all the packages that are installed. This behaviour is the source of the following dependency conflicts.\n",
      "langchain-community 0.0.20 requires langchain-core<0.2,>=0.1.21, but you have langchain-core 0.2.3 which is incompatible.\n",
      "langchain-community 0.0.20 requires langsmith<0.1,>=0.0.83, but you have langsmith 0.1.67 which is incompatible.\u001b[0m\u001b[31m\n",
      "\u001b[0mSuccessfully installed langchain-0.2.1 langchain-core-0.2.3 langchain-text-splitters-0.2.0 langsmith-0.1.67 orjson-3.10.3 yandex_chain-0.0.8\n",
      "\n",
      "\u001b[1m[\u001b[0m\u001b[34;49mnotice\u001b[0m\u001b[1;39;49m]\u001b[0m\u001b[39;49m A new release of pip is available: \u001b[0m\u001b[31;49m23.0.1\u001b[0m\u001b[39;49m -> \u001b[0m\u001b[32;49m24.0\u001b[0m\n",
      "\u001b[1m[\u001b[0m\u001b[34;49mnotice\u001b[0m\u001b[1;39;49m]\u001b[0m\u001b[39;49m To update, run: \u001b[0m\u001b[32;49mpython3 -m pip install --upgrade pip\u001b[0m\n"
     ]
    }
   ],
   "source": [
    "%pip install yandex_chain==0.0.8"
   ]
  },
  {
   "cell_type": "markdown",
   "id": "40da2938-14d2-4274-b61e-46e4a316714b",
   "metadata": {},
   "source": [
    "Для работы с YandexGPT, нам потребуются значения `api_key` и `folder_id`. Их надо взять из секретов датасферы."
   ]
  },
  {
   "cell_type": "code",
   "execution_count": 2,
   "id": "cd65bd33-b306-453c-988c-d87880a09d81",
   "metadata": {
    "execution": {
     "iopub.execute_input": "2024-06-02T12:49:04.640880Z",
     "iopub.status.busy": "2024-06-02T12:49:04.639605Z",
     "iopub.status.idle": "2024-06-02T12:49:04.654508Z",
     "shell.execute_reply": "2024-06-02T12:49:04.653760Z",
     "shell.execute_reply.started": "2024-06-02T12:49:04.640839Z"
    },
    "tags": []
   },
   "outputs": [
    {
     "name": "stdout",
     "output_type": "stream",
     "text": [
      "Using folder b1gbicod0scglhd49qs0\n"
     ]
    }
   ],
   "source": [
    "import os\n",
    "\n",
    "folder_id = os.environ['folder_id']\n",
    "api_key = os.environ['api_key']\n",
    "print(f\"Using folder {folder_id}\")"
   ]
  },
  {
   "cell_type": "markdown",
   "id": "ed3ce532-2864-4f49-99c4-20832cd1c6dc",
   "metadata": {},
   "source": [
    "Создадим объект YandexGPT и проверим, как он работает:"
   ]
  },
  {
   "cell_type": "code",
   "execution_count": 3,
   "id": "95e05049-8b1c-4a00-8ef4-665fdbc35968",
   "metadata": {
    "execution": {
     "iopub.execute_input": "2024-06-02T12:49:07.919237Z",
     "iopub.status.busy": "2024-06-02T12:49:07.918361Z",
     "iopub.status.idle": "2024-06-02T12:49:14.114979Z",
     "shell.execute_reply": "2024-06-02T12:49:14.114162Z",
     "shell.execute_reply.started": "2024-06-02T12:49:07.919188Z"
    },
    "tags": []
   },
   "outputs": [
    {
     "data": {
      "text/plain": [
       "'Два программиста спорят, какой формат лучше для обмена данными: JSON или XML.\\n\\nПервый говорит: \"XML - это как старый, классический автомобиль, он элегантный и красивый, но медленный и громоздкий\".\\n\\nВторой возражает: \"А JSON - это как спорткар, быстрый и гибкий, но не такой надёжный и безопасный\".\\n\\nИ тут мимо них проносится молодой разработчик с языком программирования TypeScript:\\n\"Не понимаю, о чём вы спорите? Существует же новый формат - TSX, который объединяет лучшее от обоих миров!\"'"
      ]
     },
     "execution_count": 3,
     "metadata": {},
     "output_type": "execute_result"
    }
   ],
   "source": [
    "from yandex_chain import YandexLLM, YandexGPTModel\n",
    "LLM = YandexLLM(model=YandexGPTModel.Pro, folder_id=folder_id, api_key=api_key)\n",
    "\n",
    "LLM.invoke(\"Расскажи анекдот про JSON и XML\")"
   ]
  },
  {
   "cell_type": "markdown",
   "id": "e748bd9b-0e9f-436f-b1b7-fa7e46f69c4b",
   "metadata": {},
   "source": [
    "Для обработки, чтобы ускорить процесс демонстрации, выберем по 10 записей из каждого вокзала:"
   ]
  },
  {
   "cell_type": "code",
   "execution_count": 4,
   "id": "305d3630-4f00-46f9-9312-56b18d63868a",
   "metadata": {
    "execution": {
     "iopub.execute_input": "2024-06-02T12:49:18.479592Z",
     "iopub.status.busy": "2024-06-02T12:49:18.478585Z",
     "iopub.status.idle": "2024-06-02T12:49:18.594521Z",
     "shell.execute_reply": "2024-06-02T12:49:18.593697Z",
     "shell.execute_reply.started": "2024-06-02T12:49:18.479552Z"
    },
    "tags": []
   },
   "outputs": [
    {
     "data": {
      "text/html": [
       "<div>\n",
       "<style scoped>\n",
       "    .dataframe tbody tr th:only-of-type {\n",
       "        vertical-align: middle;\n",
       "    }\n",
       "\n",
       "    .dataframe tbody tr th {\n",
       "        vertical-align: top;\n",
       "    }\n",
       "\n",
       "    .dataframe thead th {\n",
       "        text-align: right;\n",
       "    }\n",
       "</style>\n",
       "<table border=\"1\" class=\"dataframe\">\n",
       "  <thead>\n",
       "    <tr style=\"text-align: right;\">\n",
       "      <th></th>\n",
       "      <th>id</th>\n",
       "      <th>dislike</th>\n",
       "      <th>like</th>\n",
       "      <th>review_text</th>\n",
       "      <th>author</th>\n",
       "      <th>review_rating</th>\n",
       "      <th>datetime</th>\n",
       "      <th>station</th>\n",
       "      <th>sentiment</th>\n",
       "    </tr>\n",
       "  </thead>\n",
       "  <tbody>\n",
       "    <tr>\n",
       "      <th>0</th>\n",
       "      <td>1252</td>\n",
       "      <td>0</td>\n",
       "      <td>5</td>\n",
       "      <td>Расположен очень удобное, строятся новые пути ...</td>\n",
       "      <td>Пользователь Э.</td>\n",
       "      <td>5</td>\n",
       "      <td>2023-11-10T21:33:56.176Z</td>\n",
       "      <td>Belorussky</td>\n",
       "      <td>1</td>\n",
       "    </tr>\n",
       "    <tr>\n",
       "      <th>1</th>\n",
       "      <td>1266</td>\n",
       "      <td>2</td>\n",
       "      <td>15</td>\n",
       "      <td>Снаружи вокзал выглядит впечатляюще, территори...</td>\n",
       "      <td>Всеволод П.</td>\n",
       "      <td>5</td>\n",
       "      <td>2024-03-28T05:24:50.784Z</td>\n",
       "      <td>Belorussky</td>\n",
       "      <td>0</td>\n",
       "    </tr>\n",
       "    <tr>\n",
       "      <th>2</th>\n",
       "      <td>1262</td>\n",
       "      <td>2</td>\n",
       "      <td>16</td>\n",
       "      <td>Обожаю вокзал, из всех вокзалов , обладает так...</td>\n",
       "      <td>Алекс</td>\n",
       "      <td>5</td>\n",
       "      <td>2023-04-22T16:43:05.097Z</td>\n",
       "      <td>Belorussky</td>\n",
       "      <td>1</td>\n",
       "    </tr>\n",
       "    <tr>\n",
       "      <th>3</th>\n",
       "      <td>1287</td>\n",
       "      <td>10</td>\n",
       "      <td>9</td>\n",
       "      <td>Белорусский вокзал - просторный и комфортабель...</td>\n",
       "      <td>Иван Макаренков</td>\n",
       "      <td>5</td>\n",
       "      <td>2023-05-05T11:51:16.964Z</td>\n",
       "      <td>Belorussky</td>\n",
       "      <td>1</td>\n",
       "    </tr>\n",
       "    <tr>\n",
       "      <th>4</th>\n",
       "      <td>1255</td>\n",
       "      <td>2</td>\n",
       "      <td>7</td>\n",
       "      <td>С появление новых веток и маршрутов все стало ...</td>\n",
       "      <td>Татьяна Цымлова</td>\n",
       "      <td>5</td>\n",
       "      <td>2023-11-25T06:43:16.558Z</td>\n",
       "      <td>Belorussky</td>\n",
       "      <td>0</td>\n",
       "    </tr>\n",
       "    <tr>\n",
       "      <th>...</th>\n",
       "      <td>...</td>\n",
       "      <td>...</td>\n",
       "      <td>...</td>\n",
       "      <td>...</td>\n",
       "      <td>...</td>\n",
       "      <td>...</td>\n",
       "      <td>...</td>\n",
       "      <td>...</td>\n",
       "      <td>...</td>\n",
       "    </tr>\n",
       "    <tr>\n",
       "      <th>75</th>\n",
       "      <td>2266</td>\n",
       "      <td>0</td>\n",
       "      <td>1</td>\n",
       "      <td>Отличный вокзал. Новый, современный, прям из в...</td>\n",
       "      <td>Анна Елагина</td>\n",
       "      <td>5</td>\n",
       "      <td>2024-02-02T04:55:15.074Z</td>\n",
       "      <td>Vostochny</td>\n",
       "      <td>1</td>\n",
       "    </tr>\n",
       "    <tr>\n",
       "      <th>76</th>\n",
       "      <td>2174</td>\n",
       "      <td>0</td>\n",
       "      <td>0</td>\n",
       "      <td>Хороший и вполне удобный вокзал. \\nЗона ожидан...</td>\n",
       "      <td>Максим</td>\n",
       "      <td>5</td>\n",
       "      <td>2024-03-27T16:22:37.160Z</td>\n",
       "      <td>Vostochny</td>\n",
       "      <td>1</td>\n",
       "    </tr>\n",
       "    <tr>\n",
       "      <th>77</th>\n",
       "      <td>2251</td>\n",
       "      <td>0</td>\n",
       "      <td>0</td>\n",
       "      <td>Современный вокзал с интересным дизайном.\\nУдо...</td>\n",
       "      <td>Ignat Kvik</td>\n",
       "      <td>5</td>\n",
       "      <td>2024-02-20T16:29:38.473Z</td>\n",
       "      <td>Vostochny</td>\n",
       "      <td>1</td>\n",
       "    </tr>\n",
       "    <tr>\n",
       "      <th>78</th>\n",
       "      <td>2222</td>\n",
       "      <td>10</td>\n",
       "      <td>9</td>\n",
       "      <td>Люблю этот вокзал. Да, он небольшой и иногда п...</td>\n",
       "      <td>Аня Ф.</td>\n",
       "      <td>5</td>\n",
       "      <td>2023-12-07T11:36:27.862Z</td>\n",
       "      <td>Vostochny</td>\n",
       "      <td>1</td>\n",
       "    </tr>\n",
       "    <tr>\n",
       "      <th>79</th>\n",
       "      <td>2240</td>\n",
       "      <td>1</td>\n",
       "      <td>0</td>\n",
       "      <td>Компактный вокзал. Хорошо организованный, совр...</td>\n",
       "      <td>Ali</td>\n",
       "      <td>5</td>\n",
       "      <td>2024-01-31T15:55:52.483Z</td>\n",
       "      <td>Vostochny</td>\n",
       "      <td>1</td>\n",
       "    </tr>\n",
       "  </tbody>\n",
       "</table>\n",
       "<p>80 rows × 9 columns</p>\n",
       "</div>"
      ],
      "text/plain": [
       "      id  dislike  like  ...                  datetime     station  sentiment\n",
       "0   1252        0     5  ...  2023-11-10T21:33:56.176Z  Belorussky          1\n",
       "1   1266        2    15  ...  2024-03-28T05:24:50.784Z  Belorussky          0\n",
       "2   1262        2    16  ...  2023-04-22T16:43:05.097Z  Belorussky          1\n",
       "3   1287       10     9  ...  2023-05-05T11:51:16.964Z  Belorussky          1\n",
       "4   1255        2     7  ...  2023-11-25T06:43:16.558Z  Belorussky          0\n",
       "..   ...      ...   ...  ...                       ...         ...        ...\n",
       "75  2266        0     1  ...  2024-02-02T04:55:15.074Z   Vostochny          1\n",
       "76  2174        0     0  ...  2024-03-27T16:22:37.160Z   Vostochny          1\n",
       "77  2251        0     0  ...  2024-02-20T16:29:38.473Z   Vostochny          1\n",
       "78  2222       10     9  ...  2023-12-07T11:36:27.862Z   Vostochny          1\n",
       "79  2240        1     0  ...  2024-01-31T15:55:52.483Z   Vostochny          1\n",
       "\n",
       "[80 rows x 9 columns]"
      ]
     },
     "execution_count": 4,
     "metadata": {},
     "output_type": "execute_result"
    }
   ],
   "source": [
    "import pandas as pd\n",
    "\n",
    "df = pd.read_csv('dataset_with_sentiment.csv')\n",
    "df_sample = df.groupby('station').apply(lambda x: x.sample(10)).reset_index(drop=True)\n",
    "df_sample"
   ]
  },
  {
   "cell_type": "markdown",
   "id": "1c0d8087-3135-4258-835d-9b2a9c885080",
   "metadata": {},
   "source": [
    "Попробуем выделить смысл из текста отзыва. Для примера выберем три аспекта отзывов: транспортная доступность вокзала, его чистота и точность хождения поездов. По каждому из этих аспектов попробуем выделить оценку, также в целом положительные и отрицательные моменты, и список тегов, о чем этот отзыв."
   ]
  },
  {
   "cell_type": "code",
   "execution_count": 5,
   "id": "81bcfcaa-c4d8-46cc-9a34-d93a3a6e4a3a",
   "metadata": {
    "execution": {
     "iopub.execute_input": "2024-06-02T12:49:27.470024Z",
     "iopub.status.busy": "2024-06-02T12:49:27.468933Z",
     "iopub.status.idle": "2024-06-02T12:49:30.536817Z",
     "shell.execute_reply": "2024-06-02T12:49:30.536032Z",
     "shell.execute_reply.started": "2024-06-02T12:49:27.469980Z"
    },
    "tags": []
   },
   "outputs": [
    {
     "name": "stdout",
     "output_type": "stream",
     "text": [
      "Очень красивое место, вежливый персонал.\n",
      "Ездила на поезде из Москвы в Беларусь, комфортно, белье чистое, тепло, можно с животными. Дают горячий чай прям в постель, можно даже не переутруждаться, там о вВс и вашем комфорте позаботиться квалифицированные сотрудники.\n"
     ]
    },
    {
     "data": {
      "text/plain": [
       "'{\\n  \"sentiment\": \"positive\",\\n  \"transport\": 0,\\n  \"cleanliness\": 5,\\n  \"schedule\": 0,\\n  \"positive\": [\"очень красивое место\", \"вежливый персонал\", \"комфортно\", \"чистое бельё\", \"тепло\", \"можно с животными\", \"дают горячий чай\", \"квалифицированные сотрудники\"],\\n  \"negative\": [],\\n  \"tags\": [\"вокзал\"]\\n}'"
      ]
     },
     "execution_count": 5,
     "metadata": {},
     "output_type": "execute_result"
    }
   ],
   "source": [
    "prompt = \"\"\"\n",
    "Прочитай следующий отзыв о вокзале в тройных обратных кавычках: ````{}```.\n",
    "Из этого отзыва тебе необходимо выделить следующую информацию:\n",
    "* sentiment - этот отзыв позитивный (positive), негативный (negative) или нейтральный (neutral)\n",
    "* transport - транспортная доступность вокзала, по шкале 1..5, если об это говорится в отзыве. Если нет - 0\n",
    "* cleanliness - чистота вокзала, по шкале 1..5, если об это говорится в отзыве. Если нет - 0\n",
    "* schedule - точность хождения поездов, по шкале 1..5, если об это говорится в отзыве. Если нет - 0\n",
    "* positive - краткий список позитивных моментов из отзыва\n",
    "* negative - краткий список негативных моментов из отзыва\n",
    "* tags - краткий список тегов, о чем этот отзыв, например: cleanliness, transport, trains\n",
    "Результат необходимо вернуть в формате JSON такого вида:\n",
    "{{\n",
    "  \"sentiment\" : \"...\",\n",
    "  \"transport\" : ...,\n",
    "  \"cleanliness\" : ...,\n",
    "  \"schedule\" : ...,\n",
    "  \"positive\" : [\"...\", ...],\n",
    "  \"negative\" : [\"...\", ...],\n",
    "  \"tags\" : [\"...\"]\n",
    "}}\n",
    "Обязательно пиши все строки внутри JSON в двойных кавычках. Не забывай ставить запятые после \n",
    "всех полей в JSON, кроме последнего.\n",
    "\"\"\"\n",
    "\n",
    "txt = df['review_text'].iloc[0]\n",
    "print(txt)\n",
    "res = LLM.invoke(prompt.format(txt))\n",
    "res"
   ]
  },
  {
   "cell_type": "markdown",
   "id": "f51045ba-4916-4855-be47-6eaf907a499e",
   "metadata": {},
   "source": [
    "Поскольку возврат результата в формате JSON не гарантируется, попробуем использовать JsonOutputParser из библиотки LangChain для выделения результата в формате JSON. Но в дальнейшем если будут возникать ошибки парсинга - мы будет просто игнорировать такие строки."
   ]
  },
  {
   "cell_type": "code",
   "execution_count": 6,
   "id": "6bc4eca0-a9f5-4619-a630-4a12ddb7fb60",
   "metadata": {
    "execution": {
     "iopub.execute_input": "2024-06-02T12:49:48.063919Z",
     "iopub.status.busy": "2024-06-02T12:49:48.063094Z",
     "iopub.status.idle": "2024-06-02T12:49:50.979233Z",
     "shell.execute_reply": "2024-06-02T12:49:50.978325Z",
     "shell.execute_reply.started": "2024-06-02T12:49:48.063875Z"
    },
    "tags": []
   },
   "outputs": [
    {
     "name": "stdout",
     "output_type": "stream",
     "text": [
      "Очень красивое место, вежливый персонал.\n",
      "Ездила на поезде из Москвы в Беларусь, комфортно, белье чистое, тепло, можно с животными. Дают горячий чай прям в постель, можно даже не переутруждаться, там о вВс и вашем комфорте позаботиться квалифицированные сотрудники.\n"
     ]
    },
    {
     "data": {
      "text/plain": [
       "{'sentiment': 'positive',\n",
       " 'transport': 0,\n",
       " 'cleanliness': 5,\n",
       " 'schedule': 0,\n",
       " 'positive': ['красивое место',\n",
       "  'вежливый персонал',\n",
       "  'комфортно',\n",
       "  'чистое бельё',\n",
       "  'тепло',\n",
       "  'можно с животными'],\n",
       " 'negative': [],\n",
       " 'tags': ['вокзал', 'поезд']}"
      ]
     },
     "execution_count": 6,
     "metadata": {},
     "output_type": "execute_result"
    }
   ],
   "source": [
    "from langchain_core.output_parsers import JsonOutputParser\n",
    "from langchain_core.exceptions import OutputParserException\n",
    "jop = JsonOutputParser()\n",
    "\n",
    "txt = df['review_text'].iloc[0]\n",
    "print(txt)\n",
    "res = jop.parse(LLM.invoke(prompt.format(txt)).replace('\\'','\"'))\n",
    "res"
   ]
  },
  {
   "cell_type": "markdown",
   "id": "59fb9473-45f3-4c70-ac2d-14d10ecb5cf0",
   "metadata": {},
   "source": [
    "Сохраним колонку `sentiment`, распознанную моделью HuggingFace."
   ]
  },
  {
   "cell_type": "code",
   "execution_count": 7,
   "id": "43eaee49-bc55-480b-aee1-4a17b94ea86d",
   "metadata": {
    "execution": {
     "iopub.execute_input": "2024-06-02T12:50:02.496643Z",
     "iopub.status.busy": "2024-06-02T12:50:02.495216Z",
     "iopub.status.idle": "2024-06-02T12:50:02.521673Z",
     "shell.execute_reply": "2024-06-02T12:50:02.520879Z",
     "shell.execute_reply.started": "2024-06-02T12:50:02.496598Z"
    },
    "tags": []
   },
   "outputs": [],
   "source": [
    "pmap = { -1 : 'negative', 0 : 'neutral', 1 : 'positive' }\n",
    "df_sample['hf_sentiment'] = df_sample['sentiment'].apply(lambda x: pmap[x])\n",
    "df_sample.drop(columns=['sentiment'],inplace=True)"
   ]
  },
  {
   "cell_type": "markdown",
   "id": "e3edfeb7-5f28-4dac-b6e1-35b8befc0889",
   "metadata": {},
   "source": [
    "Теперь пройдёмся по всем строкам таблицы и извлечём информацию с помощью LLM. Для начала добавим новые пустые поля в таблицу, для хранения извлечённых значений:"
   ]
  },
  {
   "cell_type": "code",
   "execution_count": 9,
   "id": "8cfd4ffd-1134-4d50-a6ce-7d58ce747214",
   "metadata": {
    "execution": {
     "iopub.execute_input": "2024-06-02T12:50:16.302816Z",
     "iopub.status.busy": "2024-06-02T12:50:16.302294Z",
     "iopub.status.idle": "2024-06-02T12:50:16.352351Z",
     "shell.execute_reply": "2024-06-02T12:50:16.351610Z",
     "shell.execute_reply.started": "2024-06-02T12:50:16.302773Z"
    },
    "tags": []
   },
   "outputs": [],
   "source": [
    "import numpy as np\n",
    "\n",
    "for f in [\"sentiment\",\"transport\",\"cleanliness\", \"schedule\", \"positive\", \"negative\", \"tags\"]:\n",
    "    df_sample[f]=np.nan"
   ]
  },
  {
   "cell_type": "markdown",
   "id": "94ed3f1f-aaeb-4e7a-8bbd-e40c06a143f5",
   "metadata": {},
   "source": [
    "Теперь собственно займёмся извлечением. Если для какого-то отзыва YandexGPT вернёт некорректный JSON, то отзыв будет пропущен. Мы можем запустить этот код несколько раз, чтобы попробовать распознать все отзывы. Он будет пропускать те отзывы, для которые поле `positive` уже заполнено.\n",
    "\n",
    "> Обратите внимание, что мы используем несколько приёмов для уменьшения проблем с JSON. Например, если возвращенный JSON содержит вводный текст вида *Вот документ, который вы просили: {...}*, то мы выделяем весь текст между символами `{` и `}`. Также заменяем одинарные кавычки на двойные."
   ]
  },
  {
   "cell_type": "code",
   "execution_count": 13,
   "id": "4a7b2ed4-86be-4014-9e20-c6fc7c4a7621",
   "metadata": {
    "execution": {
     "iopub.execute_input": "2024-06-02T12:55:26.978189Z",
     "iopub.status.busy": "2024-06-02T12:55:26.977158Z",
     "iopub.status.idle": "2024-06-02T12:55:31.398108Z",
     "shell.execute_reply": "2024-06-02T12:55:31.397082Z",
     "shell.execute_reply.started": "2024-06-02T12:55:26.978145Z"
    },
    "tags": []
   },
   "outputs": [
    {
     "name": "stderr",
     "output_type": "stream",
     "text": [
      "80it [00:04, 18.27it/s]\n"
     ]
    }
   ],
   "source": [
    "from tqdm.auto import tqdm\n",
    "from yandex_chain import YException\n",
    "import numpy as np\n",
    "\n",
    "def lin(x):\n",
    "    if isinstance(x,list):\n",
    "        return ','.join(x)\n",
    "    else:\n",
    "        return x\n",
    "    \n",
    "def cut(x):\n",
    "    if x.startswith('{'):\n",
    "        return x\n",
    "    if '{' in x and '}' in x:\n",
    "        mk1 = x.find('{')\n",
    "        mk2 = x.find('}', mk1) + 1\n",
    "        return x[ mk1 : mk2 ]\n",
    "    return x\n",
    "\n",
    "for i,r in tqdm(df_sample.iterrows()):\n",
    "    txt = r['review_text']\n",
    "    if not pd.isnull(r['positive']):\n",
    "        continue # уже распознано\n",
    "    try:\n",
    "        res = jop.parse(cut(LLM.invoke(prompt.format(txt)).replace('\\'','\"')))\n",
    "        for f in [\"sentiment\",\"transport\",\"cleanliness\", \"schedule\", \"positive\", \"negative\", \"tags\"]:\n",
    "            df_sample.at[i,f] = lin(res[f])\n",
    "    except YException as ye:\n",
    "        print(f\"YandexGPT Error: {e}\")\n",
    "        break\n",
    "    except Exception as e:\n",
    "        print(f'Error: {e}') "
   ]
  },
  {
   "cell_type": "markdown",
   "id": "31603c6b-ce61-4b89-a8d3-b1c838776ac1",
   "metadata": {},
   "source": [
    "Посмотрим на результат:"
   ]
  },
  {
   "cell_type": "code",
   "execution_count": 14,
   "id": "0c2b869c-9bee-49f6-ac43-c94d1af2c06b",
   "metadata": {
    "execution": {
     "iopub.execute_input": "2024-06-02T12:55:33.792471Z",
     "iopub.status.busy": "2024-06-02T12:55:33.791679Z",
     "iopub.status.idle": "2024-06-02T12:55:34.344052Z",
     "shell.execute_reply": "2024-06-02T12:55:34.343173Z",
     "shell.execute_reply.started": "2024-06-02T12:55:33.792427Z"
    },
    "tags": []
   },
   "outputs": [
    {
     "data": {
      "text/html": [
       "<div>\n",
       "<style scoped>\n",
       "    .dataframe tbody tr th:only-of-type {\n",
       "        vertical-align: middle;\n",
       "    }\n",
       "\n",
       "    .dataframe tbody tr th {\n",
       "        vertical-align: top;\n",
       "    }\n",
       "\n",
       "    .dataframe thead th {\n",
       "        text-align: right;\n",
       "    }\n",
       "</style>\n",
       "<table border=\"1\" class=\"dataframe\">\n",
       "  <thead>\n",
       "    <tr style=\"text-align: right;\">\n",
       "      <th></th>\n",
       "      <th>id</th>\n",
       "      <th>dislike</th>\n",
       "      <th>like</th>\n",
       "      <th>review_text</th>\n",
       "      <th>author</th>\n",
       "      <th>review_rating</th>\n",
       "      <th>datetime</th>\n",
       "      <th>station</th>\n",
       "      <th>hf_sentiment</th>\n",
       "      <th>sentiment</th>\n",
       "      <th>transport</th>\n",
       "      <th>cleanliness</th>\n",
       "      <th>schedule</th>\n",
       "      <th>positive</th>\n",
       "      <th>negative</th>\n",
       "      <th>tags</th>\n",
       "    </tr>\n",
       "  </thead>\n",
       "  <tbody>\n",
       "    <tr>\n",
       "      <th>0</th>\n",
       "      <td>1252</td>\n",
       "      <td>0</td>\n",
       "      <td>5</td>\n",
       "      <td>Расположен очень удобное, строятся новые пути ...</td>\n",
       "      <td>Пользователь Э.</td>\n",
       "      <td>5</td>\n",
       "      <td>2023-11-10T21:33:56.176Z</td>\n",
       "      <td>Belorussky</td>\n",
       "      <td>positive</td>\n",
       "      <td>positive</td>\n",
       "      <td>2.0</td>\n",
       "      <td>0.0</td>\n",
       "      <td>0.0</td>\n",
       "      <td>удобное расположение,строительство новых путей...</td>\n",
       "      <td>состояние туалетов</td>\n",
       "      <td>вокзал,транспортная доступность</td>\n",
       "    </tr>\n",
       "    <tr>\n",
       "      <th>1</th>\n",
       "      <td>1266</td>\n",
       "      <td>2</td>\n",
       "      <td>15</td>\n",
       "      <td>Снаружи вокзал выглядит впечатляюще, территори...</td>\n",
       "      <td>Всеволод П.</td>\n",
       "      <td>5</td>\n",
       "      <td>2024-03-28T05:24:50.784Z</td>\n",
       "      <td>Belorussky</td>\n",
       "      <td>neutral</td>\n",
       "      <td>positive</td>\n",
       "      <td>0.0</td>\n",
       "      <td>5.0</td>\n",
       "      <td>0.0</td>\n",
       "      <td>впечатляюще,опрятная и приятная глазу территор...</td>\n",
       "      <td>небольшое помещение здания</td>\n",
       "      <td>вокзал,территория,залы ожидания</td>\n",
       "    </tr>\n",
       "    <tr>\n",
       "      <th>2</th>\n",
       "      <td>1262</td>\n",
       "      <td>2</td>\n",
       "      <td>16</td>\n",
       "      <td>Обожаю вокзал, из всех вокзалов , обладает так...</td>\n",
       "      <td>Алекс</td>\n",
       "      <td>5</td>\n",
       "      <td>2023-04-22T16:43:05.097Z</td>\n",
       "      <td>Belorussky</td>\n",
       "      <td>positive</td>\n",
       "      <td>positive</td>\n",
       "      <td>1.0</td>\n",
       "      <td>0.0</td>\n",
       "      <td>0.0</td>\n",
       "      <td>уникальная история,архитектурная интересность,...</td>\n",
       "      <td></td>\n",
       "      <td>вокзал,транспорт,Ласточка</td>\n",
       "    </tr>\n",
       "    <tr>\n",
       "      <th>3</th>\n",
       "      <td>1287</td>\n",
       "      <td>10</td>\n",
       "      <td>9</td>\n",
       "      <td>Белорусский вокзал - просторный и комфортабель...</td>\n",
       "      <td>Иван Макаренков</td>\n",
       "      <td>5</td>\n",
       "      <td>2023-05-05T11:51:16.964Z</td>\n",
       "      <td>Belorussky</td>\n",
       "      <td>positive</td>\n",
       "      <td>positive</td>\n",
       "      <td>1.0</td>\n",
       "      <td>2.0</td>\n",
       "      <td>5.0</td>\n",
       "      <td>просторный и комфортабельный вокзал,всегда чис...</td>\n",
       "      <td></td>\n",
       "      <td>вокзал,Белорусский вокзал,транспортная доступн...</td>\n",
       "    </tr>\n",
       "    <tr>\n",
       "      <th>4</th>\n",
       "      <td>1255</td>\n",
       "      <td>2</td>\n",
       "      <td>7</td>\n",
       "      <td>С появление новых веток и маршрутов все стало ...</td>\n",
       "      <td>Татьяна Цымлова</td>\n",
       "      <td>5</td>\n",
       "      <td>2023-11-25T06:43:16.558Z</td>\n",
       "      <td>Belorussky</td>\n",
       "      <td>neutral</td>\n",
       "      <td>positive</td>\n",
       "      <td>0.0</td>\n",
       "      <td>0.0</td>\n",
       "      <td>0.0</td>\n",
       "      <td>вокзал преображается,если несколько раз проеха...</td>\n",
       "      <td>все стало непонятным,нужно больше времени, что...</td>\n",
       "      <td>вокзал</td>\n",
       "    </tr>\n",
       "    <tr>\n",
       "      <th>...</th>\n",
       "      <td>...</td>\n",
       "      <td>...</td>\n",
       "      <td>...</td>\n",
       "      <td>...</td>\n",
       "      <td>...</td>\n",
       "      <td>...</td>\n",
       "      <td>...</td>\n",
       "      <td>...</td>\n",
       "      <td>...</td>\n",
       "      <td>...</td>\n",
       "      <td>...</td>\n",
       "      <td>...</td>\n",
       "      <td>...</td>\n",
       "      <td>...</td>\n",
       "      <td>...</td>\n",
       "      <td>...</td>\n",
       "    </tr>\n",
       "    <tr>\n",
       "      <th>75</th>\n",
       "      <td>2266</td>\n",
       "      <td>0</td>\n",
       "      <td>1</td>\n",
       "      <td>Отличный вокзал. Новый, современный, прям из в...</td>\n",
       "      <td>Анна Елагина</td>\n",
       "      <td>5</td>\n",
       "      <td>2024-02-02T04:55:15.074Z</td>\n",
       "      <td>Vostochny</td>\n",
       "      <td>positive</td>\n",
       "      <td>positive</td>\n",
       "      <td>5.0</td>\n",
       "      <td>4.0</td>\n",
       "      <td>0.0</td>\n",
       "      <td>новый,современный,выход на МЦК и в метро</td>\n",
       "      <td></td>\n",
       "      <td>вокзал,транспортная доступность</td>\n",
       "    </tr>\n",
       "    <tr>\n",
       "      <th>76</th>\n",
       "      <td>2174</td>\n",
       "      <td>0</td>\n",
       "      <td>0</td>\n",
       "      <td>Хороший и вполне удобный вокзал. \\nЗона ожидан...</td>\n",
       "      <td>Максим</td>\n",
       "      <td>5</td>\n",
       "      <td>2024-03-27T16:22:37.160Z</td>\n",
       "      <td>Vostochny</td>\n",
       "      <td>positive</td>\n",
       "      <td>positive</td>\n",
       "      <td>0.0</td>\n",
       "      <td>0.0</td>\n",
       "      <td>0.0</td>\n",
       "      <td>хороший вокзал,удобный вокзал,соответствует зо...</td>\n",
       "      <td>узковатая ширина платформы</td>\n",
       "      <td></td>\n",
       "    </tr>\n",
       "    <tr>\n",
       "      <th>77</th>\n",
       "      <td>2251</td>\n",
       "      <td>0</td>\n",
       "      <td>0</td>\n",
       "      <td>Современный вокзал с интересным дизайном.\\nУдо...</td>\n",
       "      <td>Ignat Kvik</td>\n",
       "      <td>5</td>\n",
       "      <td>2024-02-20T16:29:38.473Z</td>\n",
       "      <td>Vostochny</td>\n",
       "      <td>positive</td>\n",
       "      <td>positive</td>\n",
       "      <td>1.0</td>\n",
       "      <td>5.0</td>\n",
       "      <td>0.0</td>\n",
       "      <td>современный вокзал с интересным дизайном,удобн...</td>\n",
       "      <td></td>\n",
       "      <td>вокзал</td>\n",
       "    </tr>\n",
       "    <tr>\n",
       "      <th>78</th>\n",
       "      <td>2222</td>\n",
       "      <td>10</td>\n",
       "      <td>9</td>\n",
       "      <td>Люблю этот вокзал. Да, он небольшой и иногда п...</td>\n",
       "      <td>Аня Ф.</td>\n",
       "      <td>5</td>\n",
       "      <td>2023-12-07T11:36:27.862Z</td>\n",
       "      <td>Vostochny</td>\n",
       "      <td>positive</td>\n",
       "      <td>positive</td>\n",
       "      <td>0.0</td>\n",
       "      <td>5.0</td>\n",
       "      <td>0.0</td>\n",
       "      <td>уютно,свежий ремонт,дружелюбный и приветливый ...</td>\n",
       "      <td></td>\n",
       "      <td>вокзал</td>\n",
       "    </tr>\n",
       "    <tr>\n",
       "      <th>79</th>\n",
       "      <td>2240</td>\n",
       "      <td>1</td>\n",
       "      <td>0</td>\n",
       "      <td>Компактный вокзал. Хорошо организованный, совр...</td>\n",
       "      <td>Ali</td>\n",
       "      <td>5</td>\n",
       "      <td>2024-01-31T15:55:52.483Z</td>\n",
       "      <td>Vostochny</td>\n",
       "      <td>positive</td>\n",
       "      <td>positive</td>\n",
       "      <td>0.0</td>\n",
       "      <td>0.0</td>\n",
       "      <td>0.0</td>\n",
       "      <td>хорошо организованный,современный</td>\n",
       "      <td></td>\n",
       "      <td>вокзал</td>\n",
       "    </tr>\n",
       "  </tbody>\n",
       "</table>\n",
       "<p>80 rows × 16 columns</p>\n",
       "</div>"
      ],
      "text/plain": [
       "      id  ...                                               tags\n",
       "0   1252  ...                    вокзал,транспортная доступность\n",
       "1   1266  ...                    вокзал,территория,залы ожидания\n",
       "2   1262  ...                          вокзал,транспорт,Ласточка\n",
       "3   1287  ...  вокзал,Белорусский вокзал,транспортная доступн...\n",
       "4   1255  ...                                             вокзал\n",
       "..   ...  ...                                                ...\n",
       "75  2266  ...                    вокзал,транспортная доступность\n",
       "76  2174  ...                                                   \n",
       "77  2251  ...                                             вокзал\n",
       "78  2222  ...                                             вокзал\n",
       "79  2240  ...                                             вокзал\n",
       "\n",
       "[80 rows x 16 columns]"
      ]
     },
     "execution_count": 14,
     "metadata": {},
     "output_type": "execute_result"
    }
   ],
   "source": [
    "df_sample.to_csv('dataset_sample_with_GPT.csv')\n",
    "df_sample"
   ]
  },
  {
   "cell_type": "markdown",
   "id": "0ce15cff-f344-4945-a430-3b8779916874",
   "metadata": {},
   "source": [
    "## Делаем выводы и строим инфографику \n",
    "\n",
    "Посмотрим, насколько совпадают предсказания sentiment между YandexGPT и моделью с HuggingFace:"
   ]
  },
  {
   "cell_type": "code",
   "execution_count": 15,
   "id": "6d7fe528-9709-4c16-baf1-439c3a24208a",
   "metadata": {
    "execution": {
     "iopub.execute_input": "2024-06-02T12:55:38.594719Z",
     "iopub.status.busy": "2024-06-02T12:55:38.593640Z",
     "iopub.status.idle": "2024-06-02T12:55:38.915577Z",
     "shell.execute_reply": "2024-06-02T12:55:38.914610Z",
     "shell.execute_reply.started": "2024-06-02T12:55:38.594658Z"
    },
    "tags": []
   },
   "outputs": [
    {
     "data": {
      "text/plain": [
       "<sklearn.metrics._plot.confusion_matrix.ConfusionMatrixDisplay at 0x7fd2bb2e9390>"
      ]
     },
     "execution_count": 15,
     "metadata": {},
     "output_type": "execute_result"
    },
    {
     "data": {
      "image/png": "[encoded data removed]",
      "text/plain": [
       "<Figure size 640x480 with 2 Axes>"
      ]
     },
     "metadata": {},
     "output_type": "display_data"
    }
   ],
   "source": [
    "from sklearn.metrics import ConfusionMatrixDisplay\n",
    "ConfusionMatrixDisplay.from_predictions(df_sample['hf_sentiment'],df_sample['sentiment'])"
   ]
  },
  {
   "cell_type": "markdown",
   "id": "0b959f88-c9c2-40d8-92b4-97e1dfd673a4",
   "metadata": {},
   "source": [
    "Посмотрим на средние значения показателей по всем вокзалам. Для этого сначала заменим нулевые значения на NaN, и затем осуществим аггрегацию:"
   ]
  },
  {
   "cell_type": "code",
   "execution_count": 16,
   "id": "d7b2c058-33ab-4bcf-9839-2f2e2b939762",
   "metadata": {
    "execution": {
     "iopub.execute_input": "2024-06-02T12:56:00.295621Z",
     "iopub.status.busy": "2024-06-02T12:56:00.294385Z",
     "iopub.status.idle": "2024-06-02T12:56:00.358993Z",
     "shell.execute_reply": "2024-06-02T12:56:00.358079Z",
     "shell.execute_reply.started": "2024-06-02T12:56:00.295567Z"
    },
    "tags": []
   },
   "outputs": [
    {
     "data": {
      "text/html": [
       "<div>\n",
       "<style scoped>\n",
       "    .dataframe tbody tr th:only-of-type {\n",
       "        vertical-align: middle;\n",
       "    }\n",
       "\n",
       "    .dataframe tbody tr th {\n",
       "        vertical-align: top;\n",
       "    }\n",
       "\n",
       "    .dataframe thead th {\n",
       "        text-align: right;\n",
       "    }\n",
       "</style>\n",
       "<table border=\"1\" class=\"dataframe\">\n",
       "  <thead>\n",
       "    <tr style=\"text-align: right;\">\n",
       "      <th></th>\n",
       "      <th>transport</th>\n",
       "      <th>cleanliness</th>\n",
       "      <th>schedule</th>\n",
       "    </tr>\n",
       "    <tr>\n",
       "      <th>station</th>\n",
       "      <th></th>\n",
       "      <th></th>\n",
       "      <th></th>\n",
       "    </tr>\n",
       "  </thead>\n",
       "  <tbody>\n",
       "    <tr>\n",
       "      <th>Belorussky</th>\n",
       "      <td>3.142857</td>\n",
       "      <td>3.666667</td>\n",
       "      <td>5.0</td>\n",
       "    </tr>\n",
       "    <tr>\n",
       "      <th>Kazan</th>\n",
       "      <td>3.000000</td>\n",
       "      <td>4.500000</td>\n",
       "      <td>NaN</td>\n",
       "    </tr>\n",
       "    <tr>\n",
       "      <th>Kursky</th>\n",
       "      <td>4.000000</td>\n",
       "      <td>5.000000</td>\n",
       "      <td>5.0</td>\n",
       "    </tr>\n",
       "    <tr>\n",
       "      <th>Kyiv</th>\n",
       "      <td>3.000000</td>\n",
       "      <td>4.333333</td>\n",
       "      <td>NaN</td>\n",
       "    </tr>\n",
       "    <tr>\n",
       "      <th>Paveletsky</th>\n",
       "      <td>2.857143</td>\n",
       "      <td>4.428571</td>\n",
       "      <td>NaN</td>\n",
       "    </tr>\n",
       "    <tr>\n",
       "      <th>Rizhsky</th>\n",
       "      <td>1.000000</td>\n",
       "      <td>4.800000</td>\n",
       "      <td>5.0</td>\n",
       "    </tr>\n",
       "    <tr>\n",
       "      <th>Savyolovsky</th>\n",
       "      <td>1.600000</td>\n",
       "      <td>4.428571</td>\n",
       "      <td>NaN</td>\n",
       "    </tr>\n",
       "    <tr>\n",
       "      <th>Vostochny</th>\n",
       "      <td>3.200000</td>\n",
       "      <td>4.000000</td>\n",
       "      <td>NaN</td>\n",
       "    </tr>\n",
       "  </tbody>\n",
       "</table>\n",
       "</div>"
      ],
      "text/plain": [
       "             transport  cleanliness  schedule\n",
       "station                                      \n",
       "Belorussky    3.142857     3.666667       5.0\n",
       "Kazan         3.000000     4.500000       NaN\n",
       "Kursky        4.000000     5.000000       5.0\n",
       "Kyiv          3.000000     4.333333       NaN\n",
       "Paveletsky    2.857143     4.428571       NaN\n",
       "Rizhsky       1.000000     4.800000       5.0\n",
       "Savyolovsky   1.600000     4.428571       NaN\n",
       "Vostochny     3.200000     4.000000       NaN"
      ]
     },
     "execution_count": 16,
     "metadata": {},
     "output_type": "execute_result"
    }
   ],
   "source": [
    "for f in [\"transport\",\"cleanliness\", \"schedule\"]:\n",
    "    df_sample[f] = df_sample[f].apply(lambda x: np.nan if x==0 else x)\n",
    "\n",
    "df_sample.groupby('station').agg( {'transport' : 'mean', 'cleanliness' : 'mean', 'schedule' : 'mean'})"
   ]
  },
  {
   "cell_type": "markdown",
   "id": "a68c6c21-ffa9-466e-a5c4-4d9369981a92",
   "metadata": {},
   "source": [
    "Такую же информацию можно представить в виде графика:"
   ]
  },
  {
   "cell_type": "code",
   "execution_count": 17,
   "id": "1434056b-e339-43aa-8b38-b304a3d48a37",
   "metadata": {
    "execution": {
     "iopub.execute_input": "2024-06-02T12:56:09.029687Z",
     "iopub.status.busy": "2024-06-02T12:56:09.028594Z",
     "iopub.status.idle": "2024-06-02T12:56:09.324544Z",
     "shell.execute_reply": "2024-06-02T12:56:09.323721Z",
     "shell.execute_reply.started": "2024-06-02T12:56:09.029640Z"
    },
    "tags": []
   },
   "outputs": [
    {
     "data": {
      "text/plain": [
       "<Axes: xlabel='station'>"
      ]
     },
     "execution_count": 17,
     "metadata": {},
     "output_type": "execute_result"
    },
    {
     "data": {
      "image/png": "[encoded data removed]",
      "text/plain": [
       "<Figure size 640x480 with 1 Axes>"
      ]
     },
     "metadata": {},
     "output_type": "display_data"
    }
   ],
   "source": [
    "df_sample.groupby('station').agg(\n",
    "    {'transport' : 'mean', \n",
    "     'cleanliness' : 'mean', \n",
    "     'schedule' : 'mean'}).plot.bar()"
   ]
  },
  {
   "cell_type": "markdown",
   "id": "d4ba239f-8fc5-4c7e-835c-0c145b4ed277",
   "metadata": {},
   "source": [
    "Теперь научимся извлекать интересующие нас отзывы по тегам. Для этого посмотрим на список всех тегов:"
   ]
  },
  {
   "cell_type": "code",
   "execution_count": 18,
   "id": "3448133a-5627-44e6-86b5-2fb40daa6ffa",
   "metadata": {
    "execution": {
     "iopub.execute_input": "2024-06-02T12:56:18.669557Z",
     "iopub.status.busy": "2024-06-02T12:56:18.668493Z",
     "iopub.status.idle": "2024-06-02T12:56:18.695975Z",
     "shell.execute_reply": "2024-06-02T12:56:18.695175Z",
     "shell.execute_reply.started": "2024-06-02T12:56:18.669513Z"
    },
    "tags": []
   },
   "outputs": [
    {
     "data": {
      "text/plain": [
       "{'Архитектура',\n",
       " 'Белорусский вокзал',\n",
       " 'Вокзал',\n",
       " 'Домодедово',\n",
       " 'Киевский вокзал',\n",
       " 'Ласточка',\n",
       " 'Латвия',\n",
       " 'Москва',\n",
       " 'Обслуживание',\n",
       " 'Павелецкая Плаза',\n",
       " 'Пятёрочка',\n",
       " 'Транспортная доступность',\n",
       " 'Чистота',\n",
       " 'аптека',\n",
       " 'архитектура',\n",
       " 'аэроэкспресс',\n",
       " 'безопасность',\n",
       " 'бомжи',\n",
       " 'вокзал',\n",
       " 'железнодорожный вокзал',\n",
       " 'залы ожидания',\n",
       " 'здание',\n",
       " 'информирование',\n",
       " 'кафе',\n",
       " 'комфортная среда',\n",
       " 'магазины',\n",
       " 'метро',\n",
       " 'музей',\n",
       " 'музей на колёсах',\n",
       " 'парковка',\n",
       " 'поезд',\n",
       " 'поезда',\n",
       " 'привокзальная площадь',\n",
       " 'пригородные поезда',\n",
       " 'расположение',\n",
       " 'ремонт',\n",
       " 'реставрация',\n",
       " 'стройплощадка',\n",
       " 'таблоиды',\n",
       " 'территория',\n",
       " 'транспорт',\n",
       " 'транспортная доступность',\n",
       " 'туалет',\n",
       " 'туризм',\n",
       " 'чисто',\n",
       " 'чистота'}"
      ]
     },
     "execution_count": 18,
     "metadata": {},
     "output_type": "execute_result"
    }
   ],
   "source": [
    "tags = list(df_sample['tags'].apply(lambda x: str(x).split(',')))\n",
    "tags = set(sum(tags,[])) - { 'nan', '' }\n",
    "tags"
   ]
  },
  {
   "cell_type": "markdown",
   "id": "2dbb2541-8dea-46af-b30f-2c690f16aaeb",
   "metadata": {},
   "source": [
    "Опишем функцию `tag_lookup`, которая будет возвращать фрагмент таблицы, в который входит интересующий нас тег:"
   ]
  },
  {
   "cell_type": "code",
   "execution_count": 19,
   "id": "f55446ac-59d1-4a6f-8f53-2d696763f76c",
   "metadata": {
    "execution": {
     "iopub.execute_input": "2024-06-02T12:56:27.958426Z",
     "iopub.status.busy": "2024-06-02T12:56:27.957296Z",
     "iopub.status.idle": "2024-06-02T12:56:27.981428Z",
     "shell.execute_reply": "2024-06-02T12:56:27.980451Z",
     "shell.execute_reply.started": "2024-06-02T12:56:27.958392Z"
    },
    "tags": []
   },
   "outputs": [
    {
     "data": {
      "text/html": [
       "<div>\n",
       "<style scoped>\n",
       "    .dataframe tbody tr th:only-of-type {\n",
       "        vertical-align: middle;\n",
       "    }\n",
       "\n",
       "    .dataframe tbody tr th {\n",
       "        vertical-align: top;\n",
       "    }\n",
       "\n",
       "    .dataframe thead th {\n",
       "        text-align: right;\n",
       "    }\n",
       "</style>\n",
       "<table border=\"1\" class=\"dataframe\">\n",
       "  <thead>\n",
       "    <tr style=\"text-align: right;\">\n",
       "      <th></th>\n",
       "      <th>station</th>\n",
       "      <th>review_text</th>\n",
       "    </tr>\n",
       "  </thead>\n",
       "  <tbody>\n",
       "    <tr>\n",
       "      <th>3</th>\n",
       "      <td>Belorussky</td>\n",
       "      <td>Белорусский вокзал - просторный и комфортабель...</td>\n",
       "    </tr>\n",
       "    <tr>\n",
       "      <th>6</th>\n",
       "      <td>Belorussky</td>\n",
       "      <td>Очень уютный и удобный вокзал. Мне он очень нр...</td>\n",
       "    </tr>\n",
       "    <tr>\n",
       "      <th>20</th>\n",
       "      <td>Kursky</td>\n",
       "      <td>Достаточно унылое место, с очень давящей атмос...</td>\n",
       "    </tr>\n",
       "    <tr>\n",
       "      <th>30</th>\n",
       "      <td>Kyiv</td>\n",
       "      <td>Киевский вокзал столицы.Красивое архитектурное...</td>\n",
       "    </tr>\n",
       "    <tr>\n",
       "      <th>31</th>\n",
       "      <td>Kyiv</td>\n",
       "      <td>Очень хорошая локация, отсюда можно добраться ...</td>\n",
       "    </tr>\n",
       "    <tr>\n",
       "      <th>41</th>\n",
       "      <td>Paveletsky</td>\n",
       "      <td>Хорошо продуманная планировка и расположение в...</td>\n",
       "    </tr>\n",
       "    <tr>\n",
       "      <th>58</th>\n",
       "      <td>Rizhsky</td>\n",
       "      <td>Один из красивых вокзалов, спокойный и тихий, ...</td>\n",
       "    </tr>\n",
       "    <tr>\n",
       "      <th>59</th>\n",
       "      <td>Rizhsky</td>\n",
       "      <td>Надежная, не навязчивая охрана. Ухоженной и оч...</td>\n",
       "    </tr>\n",
       "    <tr>\n",
       "      <th>63</th>\n",
       "      <td>Savyolovsky</td>\n",
       "      <td>Удобная станция в целом. Рядом с метро, через ...</td>\n",
       "    </tr>\n",
       "    <tr>\n",
       "      <th>64</th>\n",
       "      <td>Savyolovsky</td>\n",
       "      <td>Хороший вокзал, точнее пересадка с метро рядом...</td>\n",
       "    </tr>\n",
       "    <tr>\n",
       "      <th>66</th>\n",
       "      <td>Savyolovsky</td>\n",
       "      <td>После ремонта стало комфортно. Рядом парковка ...</td>\n",
       "    </tr>\n",
       "  </tbody>\n",
       "</table>\n",
       "</div>"
      ],
      "text/plain": [
       "        station                                        review_text\n",
       "3    Belorussky  Белорусский вокзал - просторный и комфортабель...\n",
       "6    Belorussky  Очень уютный и удобный вокзал. Мне он очень нр...\n",
       "20       Kursky  Достаточно унылое место, с очень давящей атмос...\n",
       "30         Kyiv  Киевский вокзал столицы.Красивое архитектурное...\n",
       "31         Kyiv  Очень хорошая локация, отсюда можно добраться ...\n",
       "41   Paveletsky  Хорошо продуманная планировка и расположение в...\n",
       "58      Rizhsky  Один из красивых вокзалов, спокойный и тихий, ...\n",
       "59      Rizhsky  Надежная, не навязчивая охрана. Ухоженной и оч...\n",
       "63  Savyolovsky  Удобная станция в целом. Рядом с метро, через ...\n",
       "64  Savyolovsky  Хороший вокзал, точнее пересадка с метро рядом...\n",
       "66  Savyolovsky  После ремонта стало комфортно. Рядом парковка ..."
      ]
     },
     "execution_count": 19,
     "metadata": {},
     "output_type": "execute_result"
    }
   ],
   "source": [
    "def tag_lookup(tag):\n",
    "    return df_sample[df_sample['tags'].apply(lambda x: tag in str(x))]\n",
    "\n",
    "tag_lookup('чистота')[['station','review_text']]"
   ]
  },
  {
   "cell_type": "markdown",
   "id": "59c7eb6a-30ab-41f7-aa43-9f0a31dbc9e4",
   "metadata": {},
   "source": [
    "Посмотрим, на каком вокзале есть музей:"
   ]
  },
  {
   "cell_type": "code",
   "execution_count": 20,
   "id": "3acf7739-782b-47b7-9e9f-94236f74c1ce",
   "metadata": {
    "execution": {
     "iopub.execute_input": "2024-06-02T12:56:34.920305Z",
     "iopub.status.busy": "2024-06-02T12:56:34.919694Z",
     "iopub.status.idle": "2024-06-02T12:56:34.937171Z",
     "shell.execute_reply": "2024-06-02T12:56:34.936409Z",
     "shell.execute_reply.started": "2024-06-02T12:56:34.920265Z"
    },
    "tags": []
   },
   "outputs": [
    {
     "data": {
      "text/html": [
       "<div>\n",
       "<style scoped>\n",
       "    .dataframe tbody tr th:only-of-type {\n",
       "        vertical-align: middle;\n",
       "    }\n",
       "\n",
       "    .dataframe tbody tr th {\n",
       "        vertical-align: top;\n",
       "    }\n",
       "\n",
       "    .dataframe thead th {\n",
       "        text-align: right;\n",
       "    }\n",
       "</style>\n",
       "<table border=\"1\" class=\"dataframe\">\n",
       "  <thead>\n",
       "    <tr style=\"text-align: right;\">\n",
       "      <th></th>\n",
       "      <th>station</th>\n",
       "      <th>review_text</th>\n",
       "    </tr>\n",
       "  </thead>\n",
       "  <tbody>\n",
       "    <tr>\n",
       "      <th>55</th>\n",
       "      <td>Rizhsky</td>\n",
       "      <td>одновременно и вокзал, и памятник архитектуры....</td>\n",
       "    </tr>\n",
       "    <tr>\n",
       "      <th>56</th>\n",
       "      <td>Rizhsky</td>\n",
       "      <td>Здание вокзала чистое и очень красивое. Просто...</td>\n",
       "    </tr>\n",
       "  </tbody>\n",
       "</table>\n",
       "</div>"
      ],
      "text/plain": [
       "    station                                        review_text\n",
       "55  Rizhsky  одновременно и вокзал, и памятник архитектуры....\n",
       "56  Rizhsky  Здание вокзала чистое и очень красивое. Просто..."
      ]
     },
     "execution_count": 20,
     "metadata": {},
     "output_type": "execute_result"
    }
   ],
   "source": [
    "tag_lookup('музей')[['station','review_text']]"
   ]
  },
  {
   "cell_type": "markdown",
   "id": "c2acbb8d-3d06-403f-a190-99d956338a0b",
   "metadata": {},
   "source": [
    "## Подведение итогов"
   ]
  },
  {
   "cell_type": "markdown",
   "id": "c25fb369-8bd9-4b1e-8acc-b20b29334731",
   "metadata": {},
   "source": [
    "Зададимся задачей подытожить все положительные и отрицательные моменты для каждого из вокзалов. Сначала объединим все значения колонок `positive` и `negative` для каждого из вокзалов:"
   ]
  },
  {
   "cell_type": "code",
   "execution_count": 21,
   "id": "5becbff0-cafd-4c25-81e7-1f50b46eb2ba",
   "metadata": {
    "execution": {
     "iopub.execute_input": "2024-06-02T12:56:39.207894Z",
     "iopub.status.busy": "2024-06-02T12:56:39.206849Z",
     "iopub.status.idle": "2024-06-02T12:56:39.230928Z",
     "shell.execute_reply": "2024-06-02T12:56:39.230112Z",
     "shell.execute_reply.started": "2024-06-02T12:56:39.207848Z"
    },
    "tags": []
   },
   "outputs": [
    {
     "data": {
      "text/html": [
       "<div>\n",
       "<style scoped>\n",
       "    .dataframe tbody tr th:only-of-type {\n",
       "        vertical-align: middle;\n",
       "    }\n",
       "\n",
       "    .dataframe tbody tr th {\n",
       "        vertical-align: top;\n",
       "    }\n",
       "\n",
       "    .dataframe thead th {\n",
       "        text-align: right;\n",
       "    }\n",
       "</style>\n",
       "<table border=\"1\" class=\"dataframe\">\n",
       "  <thead>\n",
       "    <tr style=\"text-align: right;\">\n",
       "      <th></th>\n",
       "      <th>station</th>\n",
       "      <th>positive</th>\n",
       "      <th>negative</th>\n",
       "    </tr>\n",
       "  </thead>\n",
       "  <tbody>\n",
       "    <tr>\n",
       "      <th>0</th>\n",
       "      <td>Belorussky</td>\n",
       "      <td>удобное расположение,строительство новых путей...</td>\n",
       "      <td>состояние туалетов, небольшое помещение здания...</td>\n",
       "    </tr>\n",
       "    <tr>\n",
       "      <th>1</th>\n",
       "      <td>Kazan</td>\n",
       "      <td>удобно, тихо и спокойно,детская игровая комнат...</td>\n",
       "      <td>не хватает света внутри вокзала, там отдыхают ...</td>\n",
       "    </tr>\n",
       "    <tr>\n",
       "      <th>2</th>\n",
       "      <td>Kursky</td>\n",
       "      <td>чисто, удобное расположение для выезда в город...</td>\n",
       "      <td>унылое место, с очень давящей атмосферой, идёт...</td>\n",
       "    </tr>\n",
       "    <tr>\n",
       "      <th>3</th>\n",
       "      <td>Kyiv</td>\n",
       "      <td>красивое архитектурное здание,отличная подсвет...</td>\n",
       "      <td>Стоит поработать и выполнить устройство навесо...</td>\n",
       "    </tr>\n",
       "    <tr>\n",
       "      <th>4</th>\n",
       "      <td>Paveletsky</td>\n",
       "      <td>чисто,вежливы и доброжелательны работники проп...</td>\n",
       "      <td>надо немножко пораньше приехать до отправления...</td>\n",
       "    </tr>\n",
       "    <tr>\n",
       "      <th>5</th>\n",
       "      <td>Rizhsky</td>\n",
       "      <td>красивое здание,внутри чисто, тихо и уютно,туа...</td>\n",
       "      <td></td>\n",
       "    </tr>\n",
       "    <tr>\n",
       "      <th>6</th>\n",
       "      <td>Savyolovsky</td>\n",
       "      <td>спокойное место,вокзал отремонтирован,туалеты ...</td>\n",
       "      <td>зимой не всегда оперативно убирают снег по цен...</td>\n",
       "    </tr>\n",
       "    <tr>\n",
       "      <th>7</th>\n",
       "      <td>Vostochny</td>\n",
       "      <td>лёгкая и быстрая пересадка с метро,станция мет...</td>\n",
       "      <td>может не хватать мест в ожидании поезда, неудо...</td>\n",
       "    </tr>\n",
       "  </tbody>\n",
       "</table>\n",
       "</div>"
      ],
      "text/plain": [
       "       station  ...                                           negative\n",
       "0   Belorussky  ...  состояние туалетов, небольшое помещение здания...\n",
       "1        Kazan  ...  не хватает света внутри вокзала, там отдыхают ...\n",
       "2       Kursky  ...  унылое место, с очень давящей атмосферой, идёт...\n",
       "3         Kyiv  ...  Стоит поработать и выполнить устройство навесо...\n",
       "4   Paveletsky  ...  надо немножко пораньше приехать до отправления...\n",
       "5      Rizhsky  ...                                                   \n",
       "6  Savyolovsky  ...  зимой не всегда оперативно убирают снег по цен...\n",
       "7    Vostochny  ...  может не хватать мест в ожидании поезда, неудо...\n",
       "\n",
       "[8 rows x 3 columns]"
      ]
     },
     "execution_count": 21,
     "metadata": {},
     "output_type": "execute_result"
    }
   ],
   "source": [
    "join = lambda x : ', '.join([t for t in x if len(t)>0])\n",
    "\n",
    "df_stations = df_sample.groupby('station').agg({ 'positive' : join, 'negative' : join }).reset_index()\n",
    "df_stations"
   ]
  },
  {
   "cell_type": "markdown",
   "id": "020f0c5e-8850-4af1-be8e-115793348430",
   "metadata": {
    "execution": {
     "iopub.execute_input": "2024-05-22T22:49:16.088187Z",
     "iopub.status.busy": "2024-05-22T22:49:16.087032Z",
     "iopub.status.idle": "2024-05-22T22:49:16.100318Z",
     "shell.execute_reply": "2024-05-22T22:49:16.099308Z",
     "shell.execute_reply.started": "2024-05-22T22:49:16.088138Z"
    }
   },
   "source": [
    "Теперь применим большую языковую модель для того, чтобы суммаризировать все факты в один конкретный текст:"
   ]
  },
  {
   "cell_type": "code",
   "execution_count": 22,
   "id": "d7180f20-7d9e-466c-8068-6d4e2a442fb5",
   "metadata": {
    "execution": {
     "iopub.execute_input": "2024-06-02T12:56:44.420611Z",
     "iopub.status.busy": "2024-06-02T12:56:44.419667Z",
     "iopub.status.idle": "2024-06-02T12:58:00.128450Z",
     "shell.execute_reply": "2024-06-02T12:58:00.127628Z",
     "shell.execute_reply.started": "2024-06-02T12:56:44.420567Z"
    },
    "tags": []
   },
   "outputs": [],
   "source": [
    "prompt_sum = \"\"\"\n",
    "Пожалуйста, прочитай список отзывов о вокзале ниже в тройных обратных кавычках и запиши краткое содержание\n",
    "всего прочитанного текста в виде нескольких абзацев текста. Отзывы: ```{}```\n",
    "\"\"\"\n",
    "\n",
    "def summarize(x):\n",
    "    res = LLM.invoke(prompt_sum.format(x))\n",
    "    return res\n",
    "\n",
    "df_stations['pos_summary'] = df_stations['positive'].apply(summarize)\n",
    "df_stations['neg_summary'] = df_stations['negative'].apply(summarize)"
   ]
  },
  {
   "cell_type": "code",
   "execution_count": 23,
   "id": "300e04fe-4d85-4862-8e45-7a2227e6c097",
   "metadata": {
    "execution": {
     "iopub.execute_input": "2024-06-02T12:58:05.395504Z",
     "iopub.status.busy": "2024-06-02T12:58:05.394660Z",
     "iopub.status.idle": "2024-06-02T12:58:05.426921Z",
     "shell.execute_reply": "2024-06-02T12:58:05.426057Z",
     "shell.execute_reply.started": "2024-06-02T12:58:05.395462Z"
    },
    "tags": []
   },
   "outputs": [
    {
     "data": {
      "text/html": [
       "<div>\n",
       "<style scoped>\n",
       "    .dataframe tbody tr th:only-of-type {\n",
       "        vertical-align: middle;\n",
       "    }\n",
       "\n",
       "    .dataframe tbody tr th {\n",
       "        vertical-align: top;\n",
       "    }\n",
       "\n",
       "    .dataframe thead th {\n",
       "        text-align: right;\n",
       "    }\n",
       "</style>\n",
       "<table border=\"1\" class=\"dataframe\">\n",
       "  <thead>\n",
       "    <tr style=\"text-align: right;\">\n",
       "      <th></th>\n",
       "      <th>station</th>\n",
       "      <th>pos_summary</th>\n",
       "      <th>neg_summary</th>\n",
       "    </tr>\n",
       "  </thead>\n",
       "  <tbody>\n",
       "    <tr>\n",
       "      <th>0</th>\n",
       "      <td>Belorussky</td>\n",
       "      <td>Вокзал получил положительные отзывы за удобное расположение и транспортную доступность, включая парковку, метро и автобусы. Отмечается его современное оформление и уютность, а также наличие кафе и магазинов.\\n\\nПосетители отмечают впечатляющую опрятную территорию вокзала с удобной зарядкой для телефонов. Выделяются удобное расположение вокзала, позволяющее легко добраться до любой точки Москвы, и наличие розетки для зарядки телефона в зале ожидания. \\n\\nВокзал претерпел изменения, став красивее, современнее и удобнее. Отмечено улучшение в частоте электричек и повышение уровня комфорта при их использовании. Посетители также положительно оценивают обновлённый навес, электронное табло и памятник «Прощание славянки».</td>\n",
       "      <td>По отзывам о вокзале можно сделать вывод, что у посетителей возникают сложности с поиском нужных мест. Кроме того, среди недостатков отмечают состояние туалетов и небольшую площадь здания.\\n\\nНекоторые из посетителей указывают на то, что после окончания стройки требуется ещё некоторое время для завершения всех работ и устранения недочётов. Также есть мнение, что информации о том, куда нужно идти, недостаточно.\\n\\nВ целом, отзывы отражают трудности и неудобства, с которыми сталкиваются посетители вокзала, включая проблемы с ориентацией в пространстве и состоянием инфраструктуры.</td>\n",
       "    </tr>\n",
       "    <tr>\n",
       "      <th>1</th>\n",
       "      <td>Kazan</td>\n",
       "      <td>Вокзал представляет собой удобное место для ожидания поездов и электричек. \\n\\nПассажиры отмечают его **комфортную обстановку**, **чистые помещения** и **спокойную атмосферу**. Положительно оценивается удобная **архитектура**, а также возможность скоротать время в ожидании поезда в **многочисленных кафе** и магазинах, таких как «Пятёрочка» и «Лента».\\n\\nОтзывы указывают на наличие **детской игровой комнаты**, достаточное количество мест для отдыха, ожидаемо **невысокие цены** на товары и услуги. В здании вокзала расположены **камеры хранения** и **зарядки для телефонов**. Вокзал удобно расположен с точки зрения транспортной доступности, к нему легко подъехать.\\n\\nВажными преимуществами вокзала пассажиры считают **близость метро**, а также **расположение в одном комплексе** с продуктовым магазином.\\n\\nНекоторые удобства делают пребывание на вокзале максимально комфортным — это **большие залы ожидания** с удобными креслами,  **вместительные камеры хранения**, **удобные кассовые залы**. \\n\\nВ целом отзывы положительные, они отмечают **удобство и комфорт** вокзала, подчёркивая его приспособленность для пассажиров.</td>\n",
       "      <td>Во многих отзывах о вокзале отмечается ряд недостатков, среди которых – нехватка освещения внутри здания. Это вызывает определённые неудобства и может влиять на уровень безопасности.\\n\\nУпоминается, что вокзал является местом отдыха и общения представителей определённых социальных групп, которые вызывают недовольство других посетителей. Многие посетители вокзала отмечают высокие цены на товары и услуги в кафе и магазинах, а также сомневаются в качестве продаваемой продукции. В магазинах обнаружены товары с наценкой в 100%.\\n\\nДанные отзывы подчёркивают необходимость улучшения условий для посетителей и предоставления качественных услуг и товаров. Возможно, повышение уровня комфорта и безопасности позволит сделать вокзал более привлекательным для большего числа людей.</td>\n",
       "    </tr>\n",
       "    <tr>\n",
       "      <th>2</th>\n",
       "      <td>Kursky</td>\n",
       "      <td>Вокзал, о котором идёт речь в отзывах, представляется чистым и удобным местом с точки зрения расположения: он находится близко к выезду в город и удобен для посадки на такси.  \\n\\nНа вокзале много мест для отдыха на улице. Здание вокзала большое и просторное. Оно вызывает у посетителей чувство ностальгии, если они бывали здесь раньше. Многие считают его самым красивым вокзалом. Здание выполнено отлично, с продуманной навигацией. Люди на вокзале отзывчивые, а атмосфера благожелательная. Безопасность посетителей — один из главных приоритетов. \\n\\nВокзал отличается большим размером, удобством и наличием парковки для таксистов прямо у входа.</td>\n",
       "      <td>Вокзал описывается как унылое место с давящей атмосферой, где идёт ремонт и отсутствуют комфортные условия для ожидания поездов.\\n\\nПосетители отмечают, что вокзал напоминает лабиринт и вызывает сложности в ориентации по зданию. Некоторые проблемы возникли из-за отсутствия мест для сидения и обзора табло отправлений. Вдобавок не все сотрудники были готовы к общению с посетителями, а доступ в туалет оказался затруднён. Недоступность лифта или эскалатора также создаёт трудности при перемещении. Всё это создаёт впечатление негостеприимного и неприспособленного для комфортного пребывания места.</td>\n",
       "    </tr>\n",
       "    <tr>\n",
       "      <th>3</th>\n",
       "      <td>Kyiv</td>\n",
       "      <td>Вокзал, о котором идёт речь в отзывах, представляет собой красивое архитектурное здание с отличной подсветкой вечером. Здание вокзала достаточно ухоженное, имеет удобное расположение и транспортное сообщение — до него можно добраться на электробусе или аэроэкспрессе, рядом пересекаются несколько веток метро.\\n\\nВокзал окружён городской инфраструктурой: в пешей доступности есть гостиницы, торговый центр, кафе и рестораны. Также рядом находится набережная, пешеходный мост и речной трамвайчик. Ещё одно преимущество расположения — близость к Москва-Сити.\\n\\nВнутри вокзал просторный и функциональный. В нём есть зал ожидания, много касс, выход и вход к пригородным поездам расположены удобно. Отдельно отмечается вежливость персонала. Вокзал имеет удобное расположение остановок общественного транспорта, есть возможность аренды тележки и камера хранения. \\n\\nВ отзывах упоминается наличие поющих фонтанов на территории вокзала, что особенно понравилось детям. Отмечаются чистота, красота и удобство навигации. Одним словом, вокзал описывают как красивый и удобный транспортный узел.</td>\n",
       "      <td>Пассажиры жалуются на отсутствие навесов над железнодорожными путями, неудобное расположение пандусов и недостаток туалетов для пассажиров, ожидающих электричку. Эти проблемы могут создать некомфортные условия для ожидания поезда и требуют внимания со стороны ответственных лиц. Необходимо провести работу по улучшению инфраструктуры вокзала.</td>\n",
       "    </tr>\n",
       "    <tr>\n",
       "      <th>4</th>\n",
       "      <td>Paveletsky</td>\n",
       "      <td>Этот вокзал вызывает у посетителей только положительные эмоции.\\n\\nЗдесь чисто, безопасно и уютно. Сотрудники вежливы и доброжелательны, всегда готовы прийти на помощь. Внутри есть всё необходимое для комфортного ожидания поезда или электрички: места общественного питания, комнаты отдыха, туалеты, камеры хранения, терминалы и банкоматы. Вокзал удобно расположен — рядом находятся остановки метро, такси и трамвая. Уехать отсюда можно практически в любую точку города. Также для удобства пассажиров продумана планировка вокзала и расположение выходов к поездам, электричкам, аэроэкспрессам, кассам и метро. \\n\\nПосетители отмечают приятную атмосферу, хорошо организованное пространство вокзала, дружелюбность персонала и отличную транспортную доступность.</td>\n",
       "      <td>Многие посетители вокзала отмечают, что нужно приезжать заранее до отправления поезда. Это связано с тем, что на вокзале платная парковка для ожидающих. Также посетители отмечают, что оповещение на платформе тихое и задерживается, а ошибки на табло — нередкое явление.  \\n\\nКроме того, недовольство вызывают высокие цены и состояние электричек, которые воспринимаются как «старенькие».  \\n\\nВсе эти проблемы, судя по отзывам, могут затруднить комфортное пребывание посетителей на вокзале. В целом отзывы говорят о том, что вокзал требует улучшений для более качественного обслуживания пассажиров.</td>\n",
       "    </tr>\n",
       "    <tr>\n",
       "      <th>5</th>\n",
       "      <td>Rizhsky</td>\n",
       "      <td>Вокзал получил высокие оценки от посетителей за свою архитектуру, чистоту и уют. В здании вокзала есть чистые и современные туалеты, а также просторный зал ожидания с комфортными условиями для пребывания.\\n\\nПосетители отмечают приветливость персонала и доступные цены на услуги. На вокзале работает интерактивный музей железнодорожного транспорта, который вызывает интерес у посетителей. \\n\\nВ целом, вокзал производит впечатление безопасного места с не навязчивой охраной и отсутствием толп людей. Всё это создаёт приятную атмосферу, и посетители оставляют только положительные отзывы о своём пребывании на вокзале.</td>\n",
       "      <td>**Краткое содержание прочитанного текста:**\\n\\nВокзал в одном из городов имеет хорошую транспортную доступность, благодаря расположению в центре города. Там есть возможность пересесть на метро и автобусы. Вокзал отличается удобным расписанием поездов и современной инфраструктурой, включая комфортные залы ожидания. Однако были отмечены некоторые недостатки: необходимость приобретения билетов в кассах, которые могут быть заняты, что создаёт очереди. Также были замечания по поводу отсутствия на вокзале банкоматов некоторых банков, что затрудняет покупку билетов онлайн.\\n\\nВ целом, посетители вокзала отмечают его удобство и функциональность, особенно оценивая доступность общественного транспорта и расписание поездов. Но были также озвучены некоторые пожелания относительно улучшения работы касс и доступности банкоматов.</td>\n",
       "    </tr>\n",
       "    <tr>\n",
       "      <th>6</th>\n",
       "      <td>Savyolovsky</td>\n",
       "      <td>Во многих отзывах вокзал описывается как спокойное место с отремонтированными помещениями. Отмечается наличие чистых туалетов и большого количества мест для ожидания электричек и автобусов. \\n\\nОсобо подчёркивается удобное расположение вокзала рядом со станцией метро и наличие подземного перехода. Описываются чистота на территории вокзала, комфортные условия, парковочные места для автомобилей и множество торговых точек. Отдельно выделяются удобство передвижения по вокзалу и качество предоставляемых услуг.</td>\n",
       "      <td>На основе представленных отзывов можно сделать вывод, что данный вокзал оставляет желать лучшего в плане обслуживания и чистоты. В зимний период возникают проблемы с уборкой снега по центру перрона. Вокзал привлекает большое количество бездомных людей, из-за чего возникает специфический запах и антисанитарные условия.\\n\\nКроме того, на вокзале не хватает указателей и номеров путей на табло, а интервалы между поездами могут быть длительными. Отмечено отсутствие персонала или охраны, у которых пассажиры могли бы получить помощь или информацию о вокзале. Эти факторы делают пользование вокзалом неудобным и некомфортным для пассажиров.</td>\n",
       "    </tr>\n",
       "    <tr>\n",
       "      <th>7</th>\n",
       "      <td>Vostochny</td>\n",
       "      <td>**Краткое содержание прочитанного текста:**\\n\\nПо отзывам можно сделать вывод, что вокзал очень удобен и современен. Отмечается лёгкая и быстрая пересадка с метро, наличие лифта для выхода на платформу и эскалатора. На вокзале есть чистая зона ожидания, туалеты, кафе, где можно перекусить, и приветливый персонал. Выходы на МЦК и в метро хорошо организованы, есть удобная логистика. В целом это новый, чистый, современный вокзал с интересным дизайном, который производит приятное впечатление.</td>\n",
       "      <td>Из прочитанных отзывов можно сделать вывод, что вокзал оставляет желать лучшего в плане комфорта и чистоты. Посетители отмечают такие проблемы, как недостаточное количество мест для ожидания поезда, неудобная парковка, недостаток места на перроне и в зале ожидания, а также теснота в булочной. Кроме того, посетители жалуются на то, что некоторые из них не убирают за собой мусор. Всё это может создать некомфортные условия для пребывания на вокзале и снизить уровень удовлетворённости посетителей.\\n\\nВероятно, руководству вокзала следует обратить внимание на данные замечания и принять меры по улучшению качества обслуживания и условий пребывания посетителей.</td>\n",
       "    </tr>\n",
       "  </tbody>\n",
       "</table>\n",
       "</div>"
      ],
      "text/plain": [
       "       station  ...                                                                                                                                                                                                                                                                                                                                                                                                                                                                                                                                                                                                                                                                                                                                                                                                                                                 neg_summary\n",
       "0  Belorussky   ...  По отзывам о вокзале можно сделать вывод, что у посетителей возникают сложности с поиском нужных мест. Кроме того, среди недостатков отмечают состояние туалетов и небольшую площадь здания.\\n\\nНекоторые из посетителей указывают на то, что после окончания стройки требуется ещё некоторое время для завершения всех работ и устранения недочётов. Также есть мнение, что информации о том, куда нужно идти, недостаточно.\\n\\nВ целом, отзывы отражают трудности и неудобства, с которыми сталкиваются посетители вокзала, включая проблемы с ориентацией в пространстве и состоянием инфраструктуры.                                                                                                                                                                                                                                                  \n",
       "1  Kazan        ...  Во многих отзывах о вокзале отмечается ряд недостатков, среди которых – нехватка освещения внутри здания. Это вызывает определённые неудобства и может влиять на уровень безопасности.\\n\\nУпоминается, что вокзал является местом отдыха и общения представителей определённых социальных групп, которые вызывают недовольство других посетителей. Многие посетители вокзала отмечают высокие цены на товары и услуги в кафе и магазинах, а также сомневаются в качестве продаваемой продукции. В магазинах обнаружены товары с наценкой в 100%.\\n\\nДанные отзывы подчёркивают необходимость улучшения условий для посетителей и предоставления качественных услуг и товаров. Возможно, повышение уровня комфорта и безопасности позволит сделать вокзал более привлекательным для большего числа людей.                                                  \n",
       "2  Kursky       ...  Вокзал описывается как унылое место с давящей атмосферой, где идёт ремонт и отсутствуют комфортные условия для ожидания поездов.\\n\\nПосетители отмечают, что вокзал напоминает лабиринт и вызывает сложности в ориентации по зданию. Некоторые проблемы возникли из-за отсутствия мест для сидения и обзора табло отправлений. Вдобавок не все сотрудники были готовы к общению с посетителями, а доступ в туалет оказался затруднён. Недоступность лифта или эскалатора также создаёт трудности при перемещении. Всё это создаёт впечатление негостеприимного и неприспособленного для комфортного пребывания места.                                                                                                                                                                                                                                     \n",
       "3  Kyiv         ...  Пассажиры жалуются на отсутствие навесов над железнодорожными путями, неудобное расположение пандусов и недостаток туалетов для пассажиров, ожидающих электричку. Эти проблемы могут создать некомфортные условия для ожидания поезда и требуют внимания со стороны ответственных лиц. Необходимо провести работу по улучшению инфраструктуры вокзала.                                                                                                                                                                                                                                                                                                                                                                                                                                                                                                    \n",
       "4  Paveletsky   ...  Многие посетители вокзала отмечают, что нужно приезжать заранее до отправления поезда. Это связано с тем, что на вокзале платная парковка для ожидающих. Также посетители отмечают, что оповещение на платформе тихое и задерживается, а ошибки на табло — нередкое явление.  \\n\\nКроме того, недовольство вызывают высокие цены и состояние электричек, которые воспринимаются как «старенькие».  \\n\\nВсе эти проблемы, судя по отзывам, могут затруднить комфортное пребывание посетителей на вокзале. В целом отзывы говорят о том, что вокзал требует улучшений для более качественного обслуживания пассажиров.                                                                                                                                                                                                                                      \n",
       "5  Rizhsky      ...  **Краткое содержание прочитанного текста:**\\n\\nВокзал в одном из городов имеет хорошую транспортную доступность, благодаря расположению в центре города. Там есть возможность пересесть на метро и автобусы. Вокзал отличается удобным расписанием поездов и современной инфраструктурой, включая комфортные залы ожидания. Однако были отмечены некоторые недостатки: необходимость приобретения билетов в кассах, которые могут быть заняты, что создаёт очереди. Также были замечания по поводу отсутствия на вокзале банкоматов некоторых банков, что затрудняет покупку билетов онлайн.\\n\\nВ целом, посетители вокзала отмечают его удобство и функциональность, особенно оценивая доступность общественного транспорта и расписание поездов. Но были также озвучены некоторые пожелания относительно улучшения работы касс и доступности банкоматов.\n",
       "6  Savyolovsky  ...  На основе представленных отзывов можно сделать вывод, что данный вокзал оставляет желать лучшего в плане обслуживания и чистоты. В зимний период возникают проблемы с уборкой снега по центру перрона. Вокзал привлекает большое количество бездомных людей, из-за чего возникает специфический запах и антисанитарные условия.\\n\\nКроме того, на вокзале не хватает указателей и номеров путей на табло, а интервалы между поездами могут быть длительными. Отмечено отсутствие персонала или охраны, у которых пассажиры могли бы получить помощь или информацию о вокзале. Эти факторы делают пользование вокзалом неудобным и некомфортным для пассажиров.                                                                                                                                                                                            \n",
       "7  Vostochny    ...  Из прочитанных отзывов можно сделать вывод, что вокзал оставляет желать лучшего в плане комфорта и чистоты. Посетители отмечают такие проблемы, как недостаточное количество мест для ожидания поезда, неудобная парковка, недостаток места на перроне и в зале ожидания, а также теснота в булочной. Кроме того, посетители жалуются на то, что некоторые из них не убирают за собой мусор. Всё это может создать некомфортные условия для пребывания на вокзале и снизить уровень удовлетворённости посетителей.\\n\\nВероятно, руководству вокзала следует обратить внимание на данные замечания и принять меры по улучшению качества обслуживания и условий пребывания посетителей.                                                                                                                                                                     \n",
       "\n",
       "[8 rows x 3 columns]"
      ]
     },
     "metadata": {},
     "output_type": "display_data"
    }
   ],
   "source": [
    "from IPython.display import display\n",
    "with pd.option_context('display.max_colwidth', 0):\n",
    "    display(df_stations[['station','pos_summary','neg_summary']])"
   ]
  },
  {
   "cell_type": "markdown",
   "id": "a62b4ef9-172a-46fa-81df-fba33ec05b47",
   "metadata": {},
   "source": [
    "## Заключение\n",
    "\n",
    "На этом ваша работа над задачей только начинается! Вы можете отталкиваться от приведённого в этом примере кода, или взять только данные и придумать какой-то свой способ анализа отзывов и подведения по ним итогов. Пробуйте применять другие модели с HuggingFace, пробуйте другие языковые модели, обогащайте данные дополинетельными источниками - но не забывайте использовать всё богатство инструментов ИИ, которое вы изучали, и которое даём вам Yandex Cloud!"
   ]
  },
  {
   "cell_type": "code",
   "execution_count": null,
   "id": "c2bdf8ed-3a19-43a9-b7c8-a559fed4ee69",
   "metadata": {},
   "outputs": [],
   "source": []
  }
 ],
 "metadata": {
  "kernelspec": {
   "display_name": "DataSphere Kernel",
   "language": "python",
   "name": "python3"
  },
  "language_info": {
   "codemirror_mode": {
    "name": "ipython",
    "version": 3
   },
   "file_extension": ".py",
   "mimetype": "text/x-python",
   "name": "python",
   "nbconvert_exporter": "python",
   "pygments_lexer": "ipython3",
   "version": "3.10.12"
  }
 },
 "nbformat": 4,
 "nbformat_minor": 5
}
